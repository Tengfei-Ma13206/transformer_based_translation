{
 "cells": [
  {
   "cell_type": "code",
   "execution_count": 1,
   "id": "e672a541-1401-4e15-8b80-5e9b68ad22ea",
   "metadata": {},
   "outputs": [],
   "source": [
    "import torch\n",
    "import torch.nn as nn\n",
    "import math"
   ]
  },
  {
   "cell_type": "code",
   "execution_count": 2,
   "id": "87edb9d8-081a-4d33-a168-64cd0c854465",
   "metadata": {},
   "outputs": [],
   "source": [
    "class LayerNormalization(nn.Module):\n",
    "\n",
    "    def __init__(self, features: int, eps:float=10**-6) -> None:\n",
    "        super().__init__()\n",
    "        self.eps = eps\n",
    "        self.alpha = nn.Parameter(torch.ones(features)) # alpha is a learnable parameter\n",
    "        self.bias = nn.Parameter(torch.zeros(features)) # bias is a learnable parameter\n",
    "\n",
    "    def forward(self, x):\n",
    "        # x: (batch, seq_len, hidden_size)\n",
    "         # Keep the dimension for broadcasting\n",
    "        mean = x.mean(dim = -1, keepdim = True) # (batch, seq_len, 1)\n",
    "        # Keep the dimension for broadcasting\n",
    "        std = x.std(dim = -1, keepdim = True) # (batch, seq_len, 1)\n",
    "        # eps is to prevent dividing by zero or when std is very small\n",
    "        return self.alpha * (x - mean) / (std + self.eps) + self.bias"
   ]
  },
  {
   "cell_type": "code",
   "execution_count": 3,
   "id": "ac5f5a07-5344-47f5-bee5-007d7617e0ea",
   "metadata": {},
   "outputs": [],
   "source": [
    "class FeedForwardBlock(nn.Module):\n",
    "\n",
    "    def __init__(self, d_model: int, d_ff: int, dropout: float) -> None:\n",
    "        super().__init__()\n",
    "        self.linear_1 = nn.Linear(d_model, d_ff) # w1 and b1\n",
    "        self.dropout = nn.Dropout(dropout)\n",
    "        self.linear_2 = nn.Linear(d_ff, d_model) # w2 and b2\n",
    "\n",
    "    def forward(self, x):\n",
    "        # (batch, seq_len, d_model) --> (batch, seq_len, d_ff) --> (batch, seq_len, d_model)\n",
    "        return self.linear_2(self.dropout(torch.relu(self.linear_1(x))))"
   ]
  },
  {
   "cell_type": "code",
   "execution_count": 4,
   "id": "62cda470-4c52-4f98-a865-165d5374db73",
   "metadata": {},
   "outputs": [],
   "source": [
    "class InputEmbeddings(nn.Module):\n",
    "\n",
    "    def __init__(self, d_model: int, vocab_size: int) -> None:\n",
    "        super().__init__()\n",
    "        self.d_model = d_model\n",
    "        self.vocab_size = vocab_size\n",
    "        self.embedding = nn.Embedding(vocab_size, d_model)\n",
    "\n",
    "    def forward(self, x):\n",
    "        # (batch, seq_len) --> (batch, seq_len, d_model)\n",
    "        # Multiply by sqrt(d_model) to scale the embeddings according to the paper\n",
    "        return self.embedding(x) * math.sqrt(self.d_model)"
   ]
  },
  {
   "cell_type": "code",
   "execution_count": 5,
   "id": "6f6498f1-2d76-495c-b79c-9d838a340068",
   "metadata": {},
   "outputs": [],
   "source": [
    "class PositionalEncoding(nn.Module):\n",
    "\n",
    "    def __init__(self, d_model: int, seq_len: int, dropout: float) -> None:\n",
    "        super().__init__()\n",
    "        self.d_model = d_model\n",
    "        self.seq_len = seq_len\n",
    "        self.dropout = nn.Dropout(dropout)\n",
    "        # Create a matrix of shape (seq_len, d_model)\n",
    "        pe = torch.zeros(seq_len, d_model)\n",
    "        # Create a vector of shape (seq_len)\n",
    "        position = torch.arange(0, seq_len, dtype=torch.float).unsqueeze(1) # (seq_len, 1)\n",
    "        # Create a vector of shape (d_model)\n",
    "        div_term = torch.exp(torch.arange(0, d_model, 2).float() * (-math.log(10000.0) / d_model)) # (d_model / 2)\n",
    "        # Apply sine to even indices\n",
    "        pe[:, 0::2] = torch.sin(position * div_term) # sin(position * (10000 ** (2i / d_model))\n",
    "        # Apply cosine to odd indices\n",
    "        pe[:, 1::2] = torch.cos(position * div_term) # cos(position * (10000 ** (2i / d_model))\n",
    "        # Add a batch dimension to the positional encoding\n",
    "        pe = pe.unsqueeze(0) # (1, seq_len, d_model)\n",
    "        # Register the positional encoding as a buffer\n",
    "        self.register_buffer('pe', pe)\n",
    "\n",
    "    def forward(self, x):\n",
    "        x = x + (self.pe[:, :x.shape[1], :]).requires_grad_(False) # (batch, seq_len, d_model)\n",
    "        return self.dropout(x)"
   ]
  },
  {
   "cell_type": "code",
   "execution_count": 6,
   "id": "eb1c2cca-3c50-4ca9-9a94-e3769d92cd76",
   "metadata": {},
   "outputs": [],
   "source": [
    "class ResidualConnection(nn.Module):\n",
    "    \n",
    "        def __init__(self, features: int, dropout: float) -> None:\n",
    "            super().__init__()\n",
    "            self.dropout = nn.Dropout(dropout)\n",
    "            self.norm = LayerNormalization(features)\n",
    "    \n",
    "        def forward(self, x, sublayer):\n",
    "            return x + self.dropout(sublayer(self.norm(x)))"
   ]
  },
  {
   "cell_type": "code",
   "execution_count": 7,
   "id": "286ebd8d-3a0b-4b3a-b351-9259314a868e",
   "metadata": {},
   "outputs": [],
   "source": [
    "class MultiHeadAttentionBlock(nn.Module):\n",
    "\n",
    "    def __init__(self, d_model: int, h: int, dropout: float) -> None:\n",
    "        super().__init__()\n",
    "        self.d_model = d_model # Embedding vector size\n",
    "        self.h = h # Number of heads\n",
    "        # Make sure d_model is divisible by h\n",
    "        assert d_model % h == 0, \"d_model is not divisible by h\"\n",
    "\n",
    "        self.d_k = d_model // h # Dimension of vector seen by each head\n",
    "        self.w_q = nn.Linear(d_model, d_model, bias=False) # Wq\n",
    "        self.w_k = nn.Linear(d_model, d_model, bias=False) # Wk\n",
    "        self.w_v = nn.Linear(d_model, d_model, bias=False) # Wv\n",
    "        self.w_o = nn.Linear(d_model, d_model, bias=False) # Wo\n",
    "        self.dropout = nn.Dropout(dropout)\n",
    "\n",
    "    @staticmethod\n",
    "    def attention(query, key, value, mask, dropout: nn.Dropout):\n",
    "        d_k = query.shape[-1]\n",
    "        # Just apply the formula from the paper\n",
    "        # (batch, h, seq_len, d_k) --> (batch, h, seq_len, seq_len)\n",
    "        attention_scores = (query @ key.transpose(-2, -1)) / math.sqrt(d_k)\n",
    "        if mask is not None:\n",
    "            # Write a very low value (indicating -inf) to the positions where mask == 0\n",
    "            attention_scores.masked_fill_(mask == 0, -1e9)\n",
    "        attention_scores = attention_scores.softmax(dim=-1) # (batch, h, seq_len, seq_len) # Apply softmax\n",
    "        if dropout is not None:\n",
    "            attention_scores = dropout(attention_scores)\n",
    "        # (batch, h, seq_len, seq_len) --> (batch, h, seq_len, d_k)\n",
    "        # return attention scores which can be used for visualization\n",
    "        return (attention_scores @ value), attention_scores\n",
    "\n",
    "    def forward(self, q, k, v, mask):\n",
    "        query = self.w_q(q) # (batch, seq_len, d_model) --> (batch, seq_len, d_model)\n",
    "        key = self.w_k(k) # (batch, seq_len, d_model) --> (batch, seq_len, d_model)\n",
    "        value = self.w_v(v) # (batch, seq_len, d_model) --> (batch, seq_len, d_model)\n",
    "\n",
    "        # (batch, seq_len, d_model) --> (batch, seq_len, h, d_k) --> (batch, h, seq_len, d_k)\n",
    "        query = query.view(query.shape[0], query.shape[1], self.h, self.d_k).transpose(1, 2)\n",
    "        key = key.view(key.shape[0], key.shape[1], self.h, self.d_k).transpose(1, 2)\n",
    "        value = value.view(value.shape[0], value.shape[1], self.h, self.d_k).transpose(1, 2)\n",
    "\n",
    "        # Calculate attention\n",
    "        x, self.attention_scores = MultiHeadAttentionBlock.attention(query, key, value, mask, self.dropout)\n",
    "        \n",
    "        # Combine all the heads together\n",
    "        # (batch, h, seq_len, d_k) --> (batch, seq_len, h, d_k) --> (batch, seq_len, d_model)\n",
    "        x = x.transpose(1, 2).contiguous().view(x.shape[0], -1, self.h * self.d_k)\n",
    "\n",
    "        # Multiply by Wo\n",
    "        # (batch, seq_len, d_model) --> (batch, seq_len, d_model)  \n",
    "        return self.w_o(x)"
   ]
  },
  {
   "cell_type": "code",
   "execution_count": 8,
   "id": "87bbff89-e1fe-4a37-a198-3e082ad208d8",
   "metadata": {},
   "outputs": [],
   "source": [
    "class EncoderBlock(nn.Module):\n",
    "\n",
    "    def __init__(self, features: int, self_attention_block: MultiHeadAttentionBlock, feed_forward_block: FeedForwardBlock, dropout: float) -> None:\n",
    "        super().__init__()\n",
    "        self.self_attention_block = self_attention_block\n",
    "        self.feed_forward_block = feed_forward_block\n",
    "        self.residual_connections = nn.ModuleList([ResidualConnection(features, dropout) for _ in range(2)])\n",
    "\n",
    "    def forward(self, x, src_mask):\n",
    "        x = self.residual_connections[0](x, lambda x: self.self_attention_block(x, x, x, src_mask))\n",
    "        x = self.residual_connections[1](x, self.feed_forward_block)\n",
    "        return x\n",
    "    \n",
    "class Encoder(nn.Module):\n",
    "\n",
    "    def __init__(self, features: int, layers: nn.ModuleList) -> None:\n",
    "        super().__init__()\n",
    "        self.layers = layers\n",
    "        self.norm = LayerNormalization(features)\n",
    "\n",
    "    def forward(self, x, mask):\n",
    "        for layer in self.layers:\n",
    "            x = layer(x, mask)\n",
    "        return self.norm(x)\n",
    "\n",
    "class DecoderBlock(nn.Module):\n",
    "\n",
    "    def __init__(self, features: int, self_attention_block: MultiHeadAttentionBlock, cross_attention_block: MultiHeadAttentionBlock, feed_forward_block: FeedForwardBlock, dropout: float) -> None:\n",
    "        super().__init__()\n",
    "        self.self_attention_block = self_attention_block\n",
    "        self.cross_attention_block = cross_attention_block\n",
    "        self.feed_forward_block = feed_forward_block\n",
    "        self.residual_connections = nn.ModuleList([ResidualConnection(features, dropout) for _ in range(3)])\n",
    "\n",
    "    def forward(self, x, encoder_output, src_mask, tgt_mask):\n",
    "        x = self.residual_connections[0](x, lambda x: self.self_attention_block(x, x, x, tgt_mask))\n",
    "        x = self.residual_connections[1](x, lambda x: self.cross_attention_block(x, encoder_output, encoder_output, src_mask))\n",
    "        x = self.residual_connections[2](x, self.feed_forward_block)\n",
    "        return x\n",
    "    \n",
    "class Decoder(nn.Module):\n",
    "\n",
    "    def __init__(self, features: int, layers: nn.ModuleList) -> None:\n",
    "        super().__init__()\n",
    "        self.layers = layers\n",
    "        self.norm = LayerNormalization(features)\n",
    "\n",
    "    def forward(self, x, encoder_output, src_mask, tgt_mask):\n",
    "        for layer in self.layers:\n",
    "            x = layer(x, encoder_output, src_mask, tgt_mask)\n",
    "        return self.norm(x)"
   ]
  },
  {
   "cell_type": "code",
   "execution_count": 9,
   "id": "de319c08-3a2c-40c0-ba5e-4b7589647a1c",
   "metadata": {},
   "outputs": [],
   "source": [
    "class ProjectionLayer(nn.Module):\n",
    "\n",
    "    def __init__(self, d_model, vocab_size) -> None:\n",
    "        super().__init__()\n",
    "        self.proj = nn.Linear(d_model, vocab_size)\n",
    "\n",
    "    def forward(self, x) -> None:\n",
    "        # (batch, seq_len, d_model) --> (batch, seq_len, vocab_size)\n",
    "        return self.proj(x)"
   ]
  },
  {
   "cell_type": "code",
   "execution_count": 10,
   "id": "0403e5f3-c1dd-4d5b-a38d-eee3f5b927e9",
   "metadata": {},
   "outputs": [],
   "source": [
    "class Transformer(nn.Module):\n",
    "\n",
    "    def __init__(self, encoder: Encoder, decoder: Decoder, src_embed: InputEmbeddings, tgt_embed: InputEmbeddings, src_pos: PositionalEncoding, tgt_pos: PositionalEncoding, projection_layer: ProjectionLayer) -> None:\n",
    "        super().__init__()\n",
    "        self.encoder = encoder\n",
    "        self.decoder = decoder\n",
    "        self.src_embed = src_embed\n",
    "        self.tgt_embed = tgt_embed\n",
    "        self.src_pos = src_pos\n",
    "        self.tgt_pos = tgt_pos\n",
    "        self.projection_layer = projection_layer\n",
    "\n",
    "    def encode(self, src, src_mask):\n",
    "        # (batch, seq_len, d_model)\n",
    "        src = self.src_embed(src)\n",
    "        src = self.src_pos(src)\n",
    "        return self.encoder(src, src_mask)\n",
    "    \n",
    "    def decode(self, encoder_output: torch.Tensor, src_mask: torch.Tensor, tgt: torch.Tensor, tgt_mask: torch.Tensor):\n",
    "        # (batch, seq_len, d_model)\n",
    "        tgt = self.tgt_embed(tgt)\n",
    "        tgt = self.tgt_pos(tgt)\n",
    "        return self.decoder(tgt, encoder_output, src_mask, tgt_mask)\n",
    "    \n",
    "    def project(self, x):\n",
    "        # (batch, seq_len, vocab_size)\n",
    "        return self.projection_layer(x)"
   ]
  },
  {
   "cell_type": "code",
   "execution_count": 11,
   "id": "a4f9780e-79d1-4f18-a2ff-e40486834e0b",
   "metadata": {},
   "outputs": [],
   "source": [
    "def build_transformer(src_vocab_size: int, tgt_vocab_size: int, src_seq_len: int, tgt_seq_len: int, d_model: int=512, N: int=6, h: int=8, dropout: float=0.1, d_ff: int=2048) -> Transformer:\n",
    "    # Create the embedding layers\n",
    "    src_embed = InputEmbeddings(d_model, src_vocab_size)\n",
    "    tgt_embed = InputEmbeddings(d_model, tgt_vocab_size)\n",
    "\n",
    "    # Create the positional encoding layers\n",
    "    src_pos = PositionalEncoding(d_model, src_seq_len, dropout)\n",
    "    tgt_pos = PositionalEncoding(d_model, tgt_seq_len, dropout)\n",
    "    \n",
    "    # Create the encoder blocks\n",
    "    encoder_blocks = []\n",
    "    for _ in range(N):\n",
    "        encoder_self_attention_block = MultiHeadAttentionBlock(d_model, h, dropout)\n",
    "        feed_forward_block = FeedForwardBlock(d_model, d_ff, dropout)\n",
    "        encoder_block = EncoderBlock(d_model, encoder_self_attention_block, feed_forward_block, dropout)\n",
    "        encoder_blocks.append(encoder_block)\n",
    "\n",
    "    # Create the decoder blocks\n",
    "    decoder_blocks = []\n",
    "    for _ in range(N):\n",
    "        decoder_self_attention_block = MultiHeadAttentionBlock(d_model, h, dropout)\n",
    "        decoder_cross_attention_block = MultiHeadAttentionBlock(d_model, h, dropout)\n",
    "        feed_forward_block = FeedForwardBlock(d_model, d_ff, dropout)\n",
    "        decoder_block = DecoderBlock(d_model, decoder_self_attention_block, decoder_cross_attention_block, feed_forward_block, dropout)\n",
    "        decoder_blocks.append(decoder_block)\n",
    "    \n",
    "    # Create the encoder and decoder\n",
    "    encoder = Encoder(d_model, nn.ModuleList(encoder_blocks))\n",
    "    decoder = Decoder(d_model, nn.ModuleList(decoder_blocks))\n",
    "    \n",
    "    # Create the projection layer\n",
    "    projection_layer = ProjectionLayer(d_model, tgt_vocab_size)\n",
    "    \n",
    "    # Create the transformer\n",
    "    transformer = Transformer(encoder, decoder, src_embed, tgt_embed, src_pos, tgt_pos, projection_layer)\n",
    "    \n",
    "    # Initialize the parameters\n",
    "    for p in transformer.parameters():\n",
    "        if p.dim() > 1:\n",
    "            nn.init.xavier_uniform_(p)\n",
    "    \n",
    "    return transformer"
   ]
  },
  {
   "cell_type": "code",
   "execution_count": 12,
   "id": "b134a624-232f-4afb-bd82-44c567edeb69",
   "metadata": {},
   "outputs": [],
   "source": [
    "from pathlib import Path\n",
    "\n",
    "def get_config():\n",
    "    return {\n",
    "        \"batch_size\": 8 * 16,\n",
    "        \"num_epochs\": 900,\n",
    "        \"lr\": 10**-4,\n",
    "        \"seq_len\": 350,\n",
    "        \"d_model\": 512,\n",
    "        \"datasource\": 'opus_books',\n",
    "        \"lang_src\": \"en\",\n",
    "        \"lang_tgt\": \"it\",\n",
    "        \"model_folder\": \"weights\",\n",
    "        \"model_basename\": \"tmodel_\",\n",
    "        \"preload\": \"latest\",\n",
    "        \"tokenizer_file\": \"tokenizer_{0}.json\",\n",
    "        \"experiment_name\": \"runs/tmodel\"\n",
    "    }\n",
    "\n",
    "def get_weights_file_path(config, epoch: str):\n",
    "    model_folder = f\"{config['datasource']}_{config['model_folder']}\"\n",
    "    model_filename = f\"{config['model_basename']}{epoch}.pt\"\n",
    "    return str(Path('.') / model_folder / model_filename)\n",
    "\n",
    "# Find the latest weights file in the weights folder\n",
    "def latest_weights_file_path(config):\n",
    "    model_folder = f\"{config['datasource']}_{config['model_folder']}\"\n",
    "    model_filename = f\"{config['model_basename']}*\"\n",
    "    weights_files = list(Path(model_folder).glob(model_filename))\n",
    "    if len(weights_files) == 0:\n",
    "        return None\n",
    "    weights_files.sort()\n",
    "    return str(weights_files[-1])\n"
   ]
  },
  {
   "cell_type": "code",
   "execution_count": 13,
   "id": "3a6812ca-b2d5-4a64-af96-60f798aefea2",
   "metadata": {},
   "outputs": [],
   "source": [
    "from torch.utils.data import Dataset\n",
    "\n",
    "class BilingualDataset(Dataset):\n",
    "\n",
    "    def __init__(self, ds, tokenizer_src, tokenizer_tgt, src_lang, tgt_lang, seq_len):\n",
    "        super().__init__()\n",
    "        self.seq_len = seq_len\n",
    "\n",
    "        self.ds = ds\n",
    "        self.tokenizer_src = tokenizer_src\n",
    "        self.tokenizer_tgt = tokenizer_tgt\n",
    "        self.src_lang = src_lang\n",
    "        self.tgt_lang = tgt_lang\n",
    "\n",
    "        self.sos_token = torch.tensor([tokenizer_tgt.token_to_id(\"[SOS]\")], dtype=torch.int64)\n",
    "        self.eos_token = torch.tensor([tokenizer_tgt.token_to_id(\"[EOS]\")], dtype=torch.int64)\n",
    "        self.pad_token = torch.tensor([tokenizer_tgt.token_to_id(\"[PAD]\")], dtype=torch.int64)\n",
    "\n",
    "    def __len__(self):\n",
    "        return len(self.ds)\n",
    "\n",
    "    def __getitem__(self, idx):\n",
    "        src_target_pair = self.ds[idx]\n",
    "        src_text = src_target_pair['translation'][self.src_lang]\n",
    "        tgt_text = src_target_pair['translation'][self.tgt_lang]\n",
    "\n",
    "        # Transform the text into tokens\n",
    "        enc_input_tokens = self.tokenizer_src.encode(src_text).ids\n",
    "        dec_input_tokens = self.tokenizer_tgt.encode(tgt_text).ids\n",
    "\n",
    "        # Add sos, eos and padding to each sentence\n",
    "        enc_num_padding_tokens = self.seq_len - len(enc_input_tokens) - 2  # We will add <s> and </s>\n",
    "        # We will only add <s>, and </s> only on the label\n",
    "        dec_num_padding_tokens = self.seq_len - len(dec_input_tokens) - 1\n",
    "\n",
    "        # Make sure the number of padding tokens is not negative. If it is, the sentence is too long\n",
    "        if enc_num_padding_tokens < 0 or dec_num_padding_tokens < 0:\n",
    "            raise ValueError(\"Sentence is too long\")\n",
    "\n",
    "        # Add <s> and </s> token\n",
    "        encoder_input = torch.cat(\n",
    "            [\n",
    "                self.sos_token,\n",
    "                torch.tensor(enc_input_tokens, dtype=torch.int64),\n",
    "                self.eos_token,\n",
    "                torch.tensor([self.pad_token] * enc_num_padding_tokens, dtype=torch.int64),\n",
    "            ],\n",
    "            dim=0,\n",
    "        )\n",
    "\n",
    "        # Add only <s> token\n",
    "        decoder_input = torch.cat(\n",
    "            [\n",
    "                self.sos_token,\n",
    "                torch.tensor(dec_input_tokens, dtype=torch.int64),\n",
    "                torch.tensor([self.pad_token] * dec_num_padding_tokens, dtype=torch.int64),\n",
    "            ],\n",
    "            dim=0,\n",
    "        )\n",
    "\n",
    "        # Add only </s> token\n",
    "        label = torch.cat(\n",
    "            [\n",
    "                torch.tensor(dec_input_tokens, dtype=torch.int64),\n",
    "                self.eos_token,\n",
    "                torch.tensor([self.pad_token] * dec_num_padding_tokens, dtype=torch.int64),\n",
    "            ],\n",
    "            dim=0,\n",
    "        )\n",
    "\n",
    "        # Double check the size of the tensors to make sure they are all seq_len long\n",
    "        assert encoder_input.size(0) == self.seq_len\n",
    "        assert decoder_input.size(0) == self.seq_len\n",
    "        assert label.size(0) == self.seq_len\n",
    "\n",
    "        return {\n",
    "            \"encoder_input\": encoder_input,  # (seq_len)\n",
    "            \"decoder_input\": decoder_input,  # (seq_len)\n",
    "            \"encoder_mask\": (encoder_input != self.pad_token).unsqueeze(0).unsqueeze(0).int(), # (1, 1, seq_len)\n",
    "            \"decoder_mask\": (decoder_input != self.pad_token).unsqueeze(0).int() & causal_mask(decoder_input.size(0)), # (1, seq_len) & (1, seq_len, seq_len),\n",
    "            \"label\": label,  # (seq_len)\n",
    "            \"src_text\": src_text,\n",
    "            \"tgt_text\": tgt_text,\n",
    "        }\n",
    "    \n",
    "def causal_mask(size):\n",
    "    mask = torch.triu(torch.ones((1, size, size)), diagonal=1).type(torch.int)\n",
    "    return mask == 0"
   ]
  },
  {
   "cell_type": "code",
   "execution_count": 14,
   "id": "20beb3ac-2dcb-425c-a1db-bf3ca2a34f79",
   "metadata": {},
   "outputs": [],
   "source": [
    "from torch.utils.data import DataLoader, random_split\n",
    "\n",
    "import warnings\n",
    "from tqdm import tqdm\n",
    "import os\n",
    "from pathlib import Path"
   ]
  },
  {
   "cell_type": "code",
   "execution_count": 15,
   "id": "ca634d93-311b-4582-ab61-eb9a0b0c3ef6",
   "metadata": {},
   "outputs": [
    {
     "name": "stdout",
     "output_type": "stream",
     "text": [
      "Looking in indexes: http://mirrors.aliyun.com/pypi/simple\n",
      "Collecting torchmetrics\n",
      "  Downloading http://mirrors.aliyun.com/pypi/packages/02/21/aa0f434434c48490f91b65962b1ce863fdcce63febc166ca9fe9d706c2b6/torchmetrics-1.8.2-py3-none-any.whl (983 kB)\n",
      "\u001b[2K     \u001b[90m━━━━━━━━━━━━━━━━━━━━━━━━━━━━━━━━━━━━━━━\u001b[0m \u001b[32m983.2/983.2 kB\u001b[0m \u001b[31m7.9 MB/s\u001b[0m eta \u001b[36m0:00:00\u001b[0ma \u001b[36m0:00:01\u001b[0m\n",
      "\u001b[?25hRequirement already satisfied: numpy>1.20.0 in ./miniconda3/lib/python3.12/site-packages (from torchmetrics) (1.26.4)\n",
      "Requirement already satisfied: packaging>17.1 in ./miniconda3/lib/python3.12/site-packages (from torchmetrics) (23.2)\n",
      "Requirement already satisfied: torch>=2.0.0 in ./miniconda3/lib/python3.12/site-packages (from torchmetrics) (2.3.0+cu121)\n",
      "Collecting lightning-utilities>=0.8.0 (from torchmetrics)\n",
      "  Downloading http://mirrors.aliyun.com/pypi/packages/de/73/3d757cb3fc16f0f9794dd289bcd0c4a031d9cf54d8137d6b984b2d02edf3/lightning_utilities-0.15.2-py3-none-any.whl (29 kB)\n",
      "Requirement already satisfied: setuptools in ./miniconda3/lib/python3.12/site-packages (from lightning-utilities>=0.8.0->torchmetrics) (69.5.1)\n",
      "Requirement already satisfied: typing_extensions in ./miniconda3/lib/python3.12/site-packages (from lightning-utilities>=0.8.0->torchmetrics) (4.12.1)\n",
      "Requirement already satisfied: filelock in ./miniconda3/lib/python3.12/site-packages (from torch>=2.0.0->torchmetrics) (3.14.0)\n",
      "Requirement already satisfied: sympy in ./miniconda3/lib/python3.12/site-packages (from torch>=2.0.0->torchmetrics) (1.12.1)\n",
      "Requirement already satisfied: networkx in ./miniconda3/lib/python3.12/site-packages (from torch>=2.0.0->torchmetrics) (3.3)\n",
      "Requirement already satisfied: jinja2 in ./miniconda3/lib/python3.12/site-packages (from torch>=2.0.0->torchmetrics) (3.1.4)\n",
      "Requirement already satisfied: fsspec in ./miniconda3/lib/python3.12/site-packages (from torch>=2.0.0->torchmetrics) (2024.5.0)\n",
      "Requirement already satisfied: nvidia-cuda-nvrtc-cu12==12.1.105 in ./miniconda3/lib/python3.12/site-packages (from torch>=2.0.0->torchmetrics) (12.1.105)\n",
      "Requirement already satisfied: nvidia-cuda-runtime-cu12==12.1.105 in ./miniconda3/lib/python3.12/site-packages (from torch>=2.0.0->torchmetrics) (12.1.105)\n",
      "Requirement already satisfied: nvidia-cuda-cupti-cu12==12.1.105 in ./miniconda3/lib/python3.12/site-packages (from torch>=2.0.0->torchmetrics) (12.1.105)\n",
      "Requirement already satisfied: nvidia-cudnn-cu12==8.9.2.26 in ./miniconda3/lib/python3.12/site-packages (from torch>=2.0.0->torchmetrics) (8.9.2.26)\n",
      "Requirement already satisfied: nvidia-cublas-cu12==12.1.3.1 in ./miniconda3/lib/python3.12/site-packages (from torch>=2.0.0->torchmetrics) (12.1.3.1)\n",
      "Requirement already satisfied: nvidia-cufft-cu12==11.0.2.54 in ./miniconda3/lib/python3.12/site-packages (from torch>=2.0.0->torchmetrics) (11.0.2.54)\n",
      "Requirement already satisfied: nvidia-curand-cu12==10.3.2.106 in ./miniconda3/lib/python3.12/site-packages (from torch>=2.0.0->torchmetrics) (10.3.2.106)\n",
      "Requirement already satisfied: nvidia-cusolver-cu12==11.4.5.107 in ./miniconda3/lib/python3.12/site-packages (from torch>=2.0.0->torchmetrics) (11.4.5.107)\n",
      "Requirement already satisfied: nvidia-cusparse-cu12==12.1.0.106 in ./miniconda3/lib/python3.12/site-packages (from torch>=2.0.0->torchmetrics) (12.1.0.106)\n",
      "Requirement already satisfied: nvidia-nccl-cu12==2.20.5 in ./miniconda3/lib/python3.12/site-packages (from torch>=2.0.0->torchmetrics) (2.20.5)\n",
      "Requirement already satisfied: nvidia-nvtx-cu12==12.1.105 in ./miniconda3/lib/python3.12/site-packages (from torch>=2.0.0->torchmetrics) (12.1.105)\n",
      "Requirement already satisfied: nvidia-nvjitlink-cu12 in ./miniconda3/lib/python3.12/site-packages (from nvidia-cusolver-cu12==11.4.5.107->torch>=2.0.0->torchmetrics) (12.5.40)\n",
      "Requirement already satisfied: MarkupSafe>=2.0 in ./miniconda3/lib/python3.12/site-packages (from jinja2->torch>=2.0.0->torchmetrics) (2.1.5)\n",
      "Requirement already satisfied: mpmath<1.4.0,>=1.1.0 in ./miniconda3/lib/python3.12/site-packages (from sympy->torch>=2.0.0->torchmetrics) (1.3.0)\n",
      "Installing collected packages: lightning-utilities, torchmetrics\n",
      "Successfully installed lightning-utilities-0.15.2 torchmetrics-1.8.2\n",
      "\u001b[33mWARNING: Running pip as the 'root' user can result in broken permissions and conflicting behaviour with the system package manager. It is recommended to use a virtual environment instead: https://pip.pypa.io/warnings/venv\u001b[0m\u001b[33m\n",
      "\u001b[0m"
     ]
    }
   ],
   "source": [
    "!pip install torchmetrics"
   ]
  },
  {
   "cell_type": "code",
   "execution_count": 15,
   "id": "4713d422-86c8-4cc6-8683-87248797c809",
   "metadata": {},
   "outputs": [],
   "source": [
    "import torchmetrics\n",
    "from torch.utils.tensorboard import SummaryWriter"
   ]
  },
  {
   "cell_type": "code",
   "execution_count": 17,
   "id": "6c6e6c43-650b-48d6-a8f8-229fb63d86e2",
   "metadata": {},
   "outputs": [
    {
     "name": "stdout",
     "output_type": "stream",
     "text": [
      "Looking in indexes: http://mirrors.aliyun.com/pypi/simple\n",
      "Collecting tokenizers\n",
      "  Downloading http://mirrors.aliyun.com/pypi/packages/d4/61/aeab3402c26874b74bb67a7f2c4b569dde29b51032c5384db592e7b216f4/tokenizers-0.22.0-cp39-abi3-manylinux_2_17_x86_64.manylinux2014_x86_64.whl (3.3 MB)\n",
      "\u001b[2K     \u001b[90m━━━━━━━━━━━━━━━━━━━━━━━━━━━━━━━━━━━━━━━━\u001b[0m \u001b[32m3.3/3.3 MB\u001b[0m \u001b[31m12.4 MB/s\u001b[0m eta \u001b[36m0:00:00\u001b[0m00:01\u001b[0m00:01\u001b[0m\n",
      "\u001b[?25hCollecting huggingface-hub<1.0,>=0.16.4 (from tokenizers)\n",
      "  Downloading http://mirrors.aliyun.com/pypi/packages/39/7b/bb06b061991107cd8783f300adff3e7b7f284e330fd82f507f2a1417b11d/huggingface_hub-0.34.4-py3-none-any.whl (561 kB)\n",
      "\u001b[2K     \u001b[90m━━━━━━━━━━━━━━━━━━━━━━━━━━━━━━━━━━━━━━\u001b[0m \u001b[32m561.5/561.5 kB\u001b[0m \u001b[31m15.5 MB/s\u001b[0m eta \u001b[36m0:00:00\u001b[0m00:01\u001b[0m\n",
      "\u001b[?25hRequirement already satisfied: filelock in ./miniconda3/lib/python3.12/site-packages (from huggingface-hub<1.0,>=0.16.4->tokenizers) (3.14.0)\n",
      "Requirement already satisfied: fsspec>=2023.5.0 in ./miniconda3/lib/python3.12/site-packages (from huggingface-hub<1.0,>=0.16.4->tokenizers) (2024.5.0)\n",
      "Requirement already satisfied: packaging>=20.9 in ./miniconda3/lib/python3.12/site-packages (from huggingface-hub<1.0,>=0.16.4->tokenizers) (23.2)\n",
      "Requirement already satisfied: pyyaml>=5.1 in ./miniconda3/lib/python3.12/site-packages (from huggingface-hub<1.0,>=0.16.4->tokenizers) (6.0.1)\n",
      "Requirement already satisfied: requests in ./miniconda3/lib/python3.12/site-packages (from huggingface-hub<1.0,>=0.16.4->tokenizers) (2.31.0)\n",
      "Requirement already satisfied: tqdm>=4.42.1 in ./miniconda3/lib/python3.12/site-packages (from huggingface-hub<1.0,>=0.16.4->tokenizers) (4.66.2)\n",
      "Requirement already satisfied: typing-extensions>=3.7.4.3 in ./miniconda3/lib/python3.12/site-packages (from huggingface-hub<1.0,>=0.16.4->tokenizers) (4.12.1)\n",
      "Collecting hf-xet<2.0.0,>=1.1.3 (from huggingface-hub<1.0,>=0.16.4->tokenizers)\n",
      "  Downloading http://mirrors.aliyun.com/pypi/packages/81/42/7e6955cf0621e87491a1fb8cad755d5c2517803cea174229b0ec00ff0166/hf_xet-1.1.9-cp37-abi3-manylinux_2_17_x86_64.manylinux2014_x86_64.whl (3.2 MB)\n",
      "\u001b[2K     \u001b[90m━━━━━━━━━━━━━━━━━━━━━━━━━━━━━━━━━━━━━━━━\u001b[0m \u001b[32m3.2/3.2 MB\u001b[0m \u001b[31m14.4 MB/s\u001b[0m eta \u001b[36m0:00:00\u001b[0ma \u001b[36m0:00:01\u001b[0m\n",
      "\u001b[?25hRequirement already satisfied: charset-normalizer<4,>=2 in ./miniconda3/lib/python3.12/site-packages (from requests->huggingface-hub<1.0,>=0.16.4->tokenizers) (2.0.4)\n",
      "Requirement already satisfied: idna<4,>=2.5 in ./miniconda3/lib/python3.12/site-packages (from requests->huggingface-hub<1.0,>=0.16.4->tokenizers) (3.7)\n",
      "Requirement already satisfied: urllib3<3,>=1.21.1 in ./miniconda3/lib/python3.12/site-packages (from requests->huggingface-hub<1.0,>=0.16.4->tokenizers) (2.1.0)\n",
      "Requirement already satisfied: certifi>=2017.4.17 in ./miniconda3/lib/python3.12/site-packages (from requests->huggingface-hub<1.0,>=0.16.4->tokenizers) (2024.2.2)\n",
      "Installing collected packages: hf-xet, huggingface-hub, tokenizers\n",
      "Successfully installed hf-xet-1.1.9 huggingface-hub-0.34.4 tokenizers-0.22.0\n",
      "\u001b[33mWARNING: Running pip as the 'root' user can result in broken permissions and conflicting behaviour with the system package manager. It is recommended to use a virtual environment instead: https://pip.pypa.io/warnings/venv\u001b[0m\u001b[33m\n",
      "\u001b[0m"
     ]
    }
   ],
   "source": [
    "!pip install tokenizers"
   ]
  },
  {
   "cell_type": "code",
   "execution_count": 18,
   "id": "28fea559-ddd0-445c-8797-da9091d71829",
   "metadata": {},
   "outputs": [
    {
     "name": "stdout",
     "output_type": "stream",
     "text": [
      "Looking in indexes: http://mirrors.aliyun.com/pypi/simple\n",
      "Collecting datasets\n",
      "  Downloading http://mirrors.aliyun.com/pypi/packages/eb/62/eb8157afb21bd229c864521c1ab4fa8e9b4f1b06bafdd8c4668a7a31b5dd/datasets-4.0.0-py3-none-any.whl (494 kB)\n",
      "\u001b[2K     \u001b[90m━━━━━━━━━━━━━━━━━━━━━━━━━━━━━━━━━━━━━━━\u001b[0m \u001b[32m494.8/494.8 kB\u001b[0m \u001b[31m6.5 MB/s\u001b[0m eta \u001b[36m0:00:00\u001b[0ma \u001b[36m0:00:01\u001b[0m\n",
      "\u001b[?25hRequirement already satisfied: filelock in ./miniconda3/lib/python3.12/site-packages (from datasets) (3.14.0)\n",
      "Requirement already satisfied: numpy>=1.17 in ./miniconda3/lib/python3.12/site-packages (from datasets) (1.26.4)\n",
      "Collecting pyarrow>=15.0.0 (from datasets)\n",
      "  Downloading http://mirrors.aliyun.com/pypi/packages/ad/90/2660332eeb31303c13b653ea566a9918484b6e4d6b9d2d46879a33ab0622/pyarrow-21.0.0-cp312-cp312-manylinux_2_28_x86_64.whl (42.8 MB)\n",
      "\u001b[2K     \u001b[90m━━━━━━━━━━━━━━━━━━━━━━━━━━━━━━━━━━━━━━━━\u001b[0m \u001b[32m42.8/42.8 MB\u001b[0m \u001b[31m16.1 MB/s\u001b[0m eta \u001b[36m0:00:00\u001b[0m00:01\u001b[0m00:01\u001b[0m\n",
      "\u001b[?25hCollecting dill<0.3.9,>=0.3.0 (from datasets)\n",
      "  Downloading http://mirrors.aliyun.com/pypi/packages/c9/7a/cef76fd8438a42f96db64ddaa85280485a9c395e7df3db8158cfec1eee34/dill-0.3.8-py3-none-any.whl (116 kB)\n",
      "\u001b[2K     \u001b[90m━━━━━━━━━━━━━━━━━━━━━━━━━━━━━━━━━━━━━━\u001b[0m \u001b[32m116.3/116.3 kB\u001b[0m \u001b[31m38.0 MB/s\u001b[0m eta \u001b[36m0:00:00\u001b[0m\n",
      "\u001b[?25hCollecting pandas (from datasets)\n",
      "  Downloading http://mirrors.aliyun.com/pypi/packages/d3/a4/f7edcfa47e0a88cda0be8b068a5bae710bf264f867edfdf7b71584ace362/pandas-2.3.2-cp312-cp312-manylinux_2_17_x86_64.manylinux2014_x86_64.whl (12.0 MB)\n",
      "\u001b[2K     \u001b[90m━━━━━━━━━━━━━━━━━━━━━━━━━━━━━━━━━━━━━━━━\u001b[0m \u001b[32m12.0/12.0 MB\u001b[0m \u001b[31m17.3 MB/s\u001b[0m eta \u001b[36m0:00:00\u001b[0m00:01\u001b[0m00:01\u001b[0m\n",
      "\u001b[?25hCollecting requests>=2.32.2 (from datasets)\n",
      "  Downloading http://mirrors.aliyun.com/pypi/packages/1e/db/4254e3eabe8020b458f1a747140d32277ec7a271daf1d235b70dc0b4e6e3/requests-2.32.5-py3-none-any.whl (64 kB)\n",
      "\u001b[2K     \u001b[90m━━━━━━━━━━━━━━━━━━━━━━━━━━━━━━━━━━━━━━━━\u001b[0m \u001b[32m64.7/64.7 kB\u001b[0m \u001b[31m19.6 MB/s\u001b[0m eta \u001b[36m0:00:00\u001b[0m\n",
      "\u001b[?25hCollecting tqdm>=4.66.3 (from datasets)\n",
      "  Downloading http://mirrors.aliyun.com/pypi/packages/d0/30/dc54f88dd4a2b5dc8a0279bdd7270e735851848b762aeb1c1184ed1f6b14/tqdm-4.67.1-py3-none-any.whl (78 kB)\n",
      "\u001b[2K     \u001b[90m━━━━━━━━━━━━━━━━━━━━━━━━━━━━━━━━━━━━━━━━\u001b[0m \u001b[32m78.5/78.5 kB\u001b[0m \u001b[31m25.6 MB/s\u001b[0m eta \u001b[36m0:00:00\u001b[0m\n",
      "\u001b[?25hCollecting xxhash (from datasets)\n",
      "  Downloading http://mirrors.aliyun.com/pypi/packages/11/a7/81dba5010f7e733de88af9555725146fc133be97ce36533867f4c7e75066/xxhash-3.5.0-cp312-cp312-manylinux_2_17_x86_64.manylinux2014_x86_64.whl (194 kB)\n",
      "\u001b[2K     \u001b[90m━━━━━━━━━━━━━━━━━━━━━━━━━━━━━━━━━━━━━━\u001b[0m \u001b[32m194.4/194.4 kB\u001b[0m \u001b[31m41.6 MB/s\u001b[0m eta \u001b[36m0:00:00\u001b[0m\n",
      "\u001b[?25hCollecting multiprocess<0.70.17 (from datasets)\n",
      "  Downloading http://mirrors.aliyun.com/pypi/packages/0a/7d/a988f258104dcd2ccf1ed40fdc97e26c4ac351eeaf81d76e266c52d84e2f/multiprocess-0.70.16-py312-none-any.whl (146 kB)\n",
      "\u001b[2K     \u001b[90m━━━━━━━━━━━━━━━━━━━━━━━━━━━━━━━━━━━━━━\u001b[0m \u001b[32m146.7/146.7 kB\u001b[0m \u001b[31m38.8 MB/s\u001b[0m eta \u001b[36m0:00:00\u001b[0m\n",
      "\u001b[?25hRequirement already satisfied: fsspec<=2025.3.0,>=2023.1.0 in ./miniconda3/lib/python3.12/site-packages (from fsspec[http]<=2025.3.0,>=2023.1.0->datasets) (2024.5.0)\n",
      "Requirement already satisfied: huggingface-hub>=0.24.0 in ./miniconda3/lib/python3.12/site-packages (from datasets) (0.34.4)\n",
      "Requirement already satisfied: packaging in ./miniconda3/lib/python3.12/site-packages (from datasets) (23.2)\n",
      "Requirement already satisfied: pyyaml>=5.1 in ./miniconda3/lib/python3.12/site-packages (from datasets) (6.0.1)\n",
      "Collecting aiohttp!=4.0.0a0,!=4.0.0a1 (from fsspec[http]<=2025.3.0,>=2023.1.0->datasets)\n",
      "  Downloading http://mirrors.aliyun.com/pypi/packages/de/5e/3bf5acea47a96a28c121b167f5ef659cf71208b19e52a88cdfa5c37f1fcc/aiohttp-3.12.15-cp312-cp312-manylinux_2_17_x86_64.manylinux2014_x86_64.whl (1.7 MB)\n",
      "\u001b[2K     \u001b[90m━━━━━━━━━━━━━━━━━━━━━━━━━━━━━━━━━━━━━━━━\u001b[0m \u001b[32m1.7/1.7 MB\u001b[0m \u001b[31m20.6 MB/s\u001b[0m eta \u001b[36m0:00:00\u001b[0ma \u001b[36m0:00:01\u001b[0m\n",
      "\u001b[?25hRequirement already satisfied: typing-extensions>=3.7.4.3 in ./miniconda3/lib/python3.12/site-packages (from huggingface-hub>=0.24.0->datasets) (4.12.1)\n",
      "Requirement already satisfied: hf-xet<2.0.0,>=1.1.3 in ./miniconda3/lib/python3.12/site-packages (from huggingface-hub>=0.24.0->datasets) (1.1.9)\n",
      "Requirement already satisfied: charset_normalizer<4,>=2 in ./miniconda3/lib/python3.12/site-packages (from requests>=2.32.2->datasets) (2.0.4)\n",
      "Requirement already satisfied: idna<4,>=2.5 in ./miniconda3/lib/python3.12/site-packages (from requests>=2.32.2->datasets) (3.7)\n",
      "Requirement already satisfied: urllib3<3,>=1.21.1 in ./miniconda3/lib/python3.12/site-packages (from requests>=2.32.2->datasets) (2.1.0)\n",
      "Requirement already satisfied: certifi>=2017.4.17 in ./miniconda3/lib/python3.12/site-packages (from requests>=2.32.2->datasets) (2024.2.2)\n",
      "Requirement already satisfied: python-dateutil>=2.8.2 in ./miniconda3/lib/python3.12/site-packages (from pandas->datasets) (2.9.0.post0)\n",
      "Collecting pytz>=2020.1 (from pandas->datasets)\n",
      "  Downloading http://mirrors.aliyun.com/pypi/packages/81/c4/34e93fe5f5429d7570ec1fa436f1986fb1f00c3e0f43a589fe2bbcd22c3f/pytz-2025.2-py2.py3-none-any.whl (509 kB)\n",
      "\u001b[2K     \u001b[90m━━━━━━━━━━━━━━━━━━━━━━━━━━━━━━━━━━━━━━\u001b[0m \u001b[32m509.2/509.2 kB\u001b[0m \u001b[31m37.1 MB/s\u001b[0m eta \u001b[36m0:00:00\u001b[0m\n",
      "\u001b[?25hCollecting tzdata>=2022.7 (from pandas->datasets)\n",
      "  Downloading http://mirrors.aliyun.com/pypi/packages/5c/23/c7abc0ca0a1526a0774eca151daeb8de62ec457e77262b66b359c3c7679e/tzdata-2025.2-py2.py3-none-any.whl (347 kB)\n",
      "\u001b[2K     \u001b[90m━━━━━━━━━━━━━━━━━━━━━━━━━━━━━━━━━━━━━━\u001b[0m \u001b[32m347.8/347.8 kB\u001b[0m \u001b[31m38.2 MB/s\u001b[0m eta \u001b[36m0:00:00\u001b[0m\n",
      "\u001b[?25hCollecting aiohappyeyeballs>=2.5.0 (from aiohttp!=4.0.0a0,!=4.0.0a1->fsspec[http]<=2025.3.0,>=2023.1.0->datasets)\n",
      "  Downloading http://mirrors.aliyun.com/pypi/packages/0f/15/5bf3b99495fb160b63f95972b81750f18f7f4e02ad051373b669d17d44f2/aiohappyeyeballs-2.6.1-py3-none-any.whl (15 kB)\n",
      "Collecting aiosignal>=1.4.0 (from aiohttp!=4.0.0a0,!=4.0.0a1->fsspec[http]<=2025.3.0,>=2023.1.0->datasets)\n",
      "  Downloading http://mirrors.aliyun.com/pypi/packages/fb/76/641ae371508676492379f16e2fa48f4e2c11741bd63c48be4b12a6b09cba/aiosignal-1.4.0-py3-none-any.whl (7.5 kB)\n",
      "Requirement already satisfied: attrs>=17.3.0 in ./miniconda3/lib/python3.12/site-packages (from aiohttp!=4.0.0a0,!=4.0.0a1->fsspec[http]<=2025.3.0,>=2023.1.0->datasets) (23.2.0)\n",
      "Collecting frozenlist>=1.1.1 (from aiohttp!=4.0.0a0,!=4.0.0a1->fsspec[http]<=2025.3.0,>=2023.1.0->datasets)\n",
      "  Downloading http://mirrors.aliyun.com/pypi/packages/8d/db/48421f62a6f77c553575201e89048e97198046b793f4a089c79a6e3268bd/frozenlist-1.7.0-cp312-cp312-manylinux_2_5_x86_64.manylinux1_x86_64.manylinux_2_17_x86_64.manylinux2014_x86_64.whl (241 kB)\n",
      "\u001b[2K     \u001b[90m━━━━━━━━━━━━━━━━━━━━━━━━━━━━━━━━━━━━━━\u001b[0m \u001b[32m241.8/241.8 kB\u001b[0m \u001b[31m42.5 MB/s\u001b[0m eta \u001b[36m0:00:00\u001b[0m\n",
      "\u001b[?25hCollecting multidict<7.0,>=4.5 (from aiohttp!=4.0.0a0,!=4.0.0a1->fsspec[http]<=2025.3.0,>=2023.1.0->datasets)\n",
      "  Downloading http://mirrors.aliyun.com/pypi/packages/af/65/753a2d8b05daf496f4a9c367fe844e90a1b2cac78e2be2c844200d10cc4c/multidict-6.6.4-cp312-cp312-manylinux2014_x86_64.manylinux_2_17_x86_64.manylinux_2_28_x86_64.whl (256 kB)\n",
      "\u001b[2K     \u001b[90m━━━━━━━━━━━━━━━━━━━━━━━━━━━━━━━━━━━━━━\u001b[0m \u001b[32m256.1/256.1 kB\u001b[0m \u001b[31m39.8 MB/s\u001b[0m eta \u001b[36m0:00:00\u001b[0m\n",
      "\u001b[?25hCollecting propcache>=0.2.0 (from aiohttp!=4.0.0a0,!=4.0.0a1->fsspec[http]<=2025.3.0,>=2023.1.0->datasets)\n",
      "  Downloading http://mirrors.aliyun.com/pypi/packages/37/7c/54fd5301ef38505ab235d98827207176a5c9b2aa61939b10a460ca53e123/propcache-0.3.2-cp312-cp312-manylinux_2_17_x86_64.manylinux2014_x86_64.whl (224 kB)\n",
      "\u001b[2K     \u001b[90m━━━━━━━━━━━━━━━━━━━━━━━━━━━━━━━━━━━━━━\u001b[0m \u001b[32m224.4/224.4 kB\u001b[0m \u001b[31m39.0 MB/s\u001b[0m eta \u001b[36m0:00:00\u001b[0m\n",
      "\u001b[?25hCollecting yarl<2.0,>=1.17.0 (from aiohttp!=4.0.0a0,!=4.0.0a1->fsspec[http]<=2025.3.0,>=2023.1.0->datasets)\n",
      "  Downloading http://mirrors.aliyun.com/pypi/packages/98/28/3ab7acc5b51f4434b181b0cee8f1f4b77a65919700a355fb3617f9488874/yarl-1.20.1-cp312-cp312-manylinux_2_17_x86_64.manylinux2014_x86_64.whl (355 kB)\n",
      "\u001b[2K     \u001b[90m━━━━━━━━━━━━━━━━━━━━━━━━━━━━━━━━━━━━━━\u001b[0m \u001b[32m355.6/355.6 kB\u001b[0m \u001b[31m39.9 MB/s\u001b[0m eta \u001b[36m0:00:00\u001b[0m\n",
      "\u001b[?25hRequirement already satisfied: six>=1.5 in ./miniconda3/lib/python3.12/site-packages (from python-dateutil>=2.8.2->pandas->datasets) (1.16.0)\n",
      "Installing collected packages: pytz, xxhash, tzdata, tqdm, requests, pyarrow, propcache, multidict, frozenlist, dill, aiohappyeyeballs, yarl, pandas, multiprocess, aiosignal, aiohttp, datasets\n",
      "  Attempting uninstall: tqdm\n",
      "    Found existing installation: tqdm 4.66.2\n",
      "    Uninstalling tqdm-4.66.2:\n",
      "      Successfully uninstalled tqdm-4.66.2\n",
      "  Attempting uninstall: requests\n",
      "    Found existing installation: requests 2.31.0\n",
      "    Uninstalling requests-2.31.0:\n",
      "      Successfully uninstalled requests-2.31.0\n",
      "Successfully installed aiohappyeyeballs-2.6.1 aiohttp-3.12.15 aiosignal-1.4.0 datasets-4.0.0 dill-0.3.8 frozenlist-1.7.0 multidict-6.6.4 multiprocess-0.70.16 pandas-2.3.2 propcache-0.3.2 pyarrow-21.0.0 pytz-2025.2 requests-2.32.5 tqdm-4.67.1 tzdata-2025.2 xxhash-3.5.0 yarl-1.20.1\n",
      "\u001b[33mWARNING: Running pip as the 'root' user can result in broken permissions and conflicting behaviour with the system package manager. It is recommended to use a virtual environment instead: https://pip.pypa.io/warnings/venv\u001b[0m\u001b[33m\n",
      "\u001b[0m"
     ]
    }
   ],
   "source": [
    "!pip install datasets"
   ]
  },
  {
   "cell_type": "code",
   "execution_count": 16,
   "id": "6f8df9b2-21da-405c-aa32-3d3ce935fc57",
   "metadata": {},
   "outputs": [],
   "source": [
    "# Huggingface datasets and tokenizers\n",
    "from datasets import load_dataset\n",
    "from tokenizers import Tokenizer\n",
    "from tokenizers.models import WordLevel\n",
    "from tokenizers.trainers import WordLevelTrainer\n",
    "from tokenizers.pre_tokenizers import Whitespace"
   ]
  },
  {
   "cell_type": "code",
   "execution_count": 17,
   "id": "e10c164c-3888-4129-8492-7c74d5c0ee57",
   "metadata": {},
   "outputs": [],
   "source": [
    "import os\n",
    "\n",
    "def delete_file(file_path='opus_books_weights/tmodel_02.pt'):\n",
    "    # 检查文件是否存在\n",
    "    if os.path.exists(file_path):\n",
    "        os.remove(file_path)  # 删除文件\n",
    "        print(f\"Deleted {file_path}\")\n",
    "    else:\n",
    "        print(f\"File {file_path} does not exist\")"
   ]
  },
  {
   "cell_type": "code",
   "execution_count": 18,
   "id": "0c9bb585-8df7-4064-b758-04528f5dc71f",
   "metadata": {},
   "outputs": [],
   "source": [
    "def greedy_decode(model, source, source_mask, tokenizer_src, tokenizer_tgt, max_len, device):\n",
    "    sos_idx = tokenizer_tgt.token_to_id('[SOS]')\n",
    "    eos_idx = tokenizer_tgt.token_to_id('[EOS]')\n",
    "\n",
    "    # Precompute the encoder output and reuse it for every step\n",
    "    encoder_output = model.encode(source, source_mask)\n",
    "    # Initialize the decoder input with the sos token\n",
    "    decoder_input = torch.empty(1, 1).fill_(sos_idx).type_as(source).to(device)\n",
    "    while True:\n",
    "        if decoder_input.size(1) == max_len:\n",
    "            break\n",
    "\n",
    "        # build mask for target\n",
    "        decoder_mask = causal_mask(decoder_input.size(1)).type_as(source_mask).to(device)\n",
    "\n",
    "        # calculate output\n",
    "        out = model.decode(encoder_output, source_mask, decoder_input, decoder_mask)\n",
    "\n",
    "        # get next token\n",
    "        prob = model.project(out[:, -1])\n",
    "        _, next_word = torch.max(prob, dim=1)\n",
    "        decoder_input = torch.cat(\n",
    "            [decoder_input, torch.empty(1, 1).type_as(source).fill_(next_word.item()).to(device)], dim=1\n",
    "        )\n",
    "\n",
    "        if next_word == eos_idx:\n",
    "            break\n",
    "\n",
    "    return decoder_input.squeeze(0)\n",
    "\n",
    "\n",
    "def run_validation(model, validation_ds, tokenizer_src, tokenizer_tgt, max_len, device, print_msg, global_step, writer, num_examples=2):\n",
    "    model.eval()\n",
    "    count = 0\n",
    "\n",
    "    source_texts = []\n",
    "    expected = []\n",
    "    predicted = []\n",
    "\n",
    "    try:\n",
    "        # get the console window width\n",
    "        with os.popen('stty size', 'r') as console:\n",
    "            _, console_width = console.read().split()\n",
    "            console_width = int(console_width)\n",
    "    except:\n",
    "        # If we can't get the console width, use 80 as default\n",
    "        console_width = 80\n",
    "\n",
    "    with torch.no_grad():\n",
    "        for batch in validation_ds:\n",
    "            count += 1\n",
    "            encoder_input = batch[\"encoder_input\"].to(device) # (b, seq_len)\n",
    "            encoder_mask = batch[\"encoder_mask\"].to(device) # (b, 1, 1, seq_len)\n",
    "\n",
    "            # check that the batch size is 1\n",
    "            assert encoder_input.size(\n",
    "                0) == 1, \"Batch size must be 1 for validation\"\n",
    "\n",
    "            model_out = greedy_decode(model, encoder_input, encoder_mask, tokenizer_src, tokenizer_tgt, max_len, device)\n",
    "\n",
    "            source_text = batch[\"src_text\"][0]\n",
    "            target_text = batch[\"tgt_text\"][0]\n",
    "            model_out_text = tokenizer_tgt.decode(model_out.detach().cpu().numpy())\n",
    "\n",
    "            source_texts.append(source_text)\n",
    "            expected.append(target_text)\n",
    "            predicted.append(model_out_text)\n",
    "            \n",
    "            # Print the source, target and model output\n",
    "            print_msg('-'*console_width)\n",
    "            print_msg(f\"{f'SOURCE: ':>12}{source_text}\")\n",
    "            print_msg(f\"{f'TARGET: ':>12}{target_text}\")\n",
    "            print_msg(f\"{f'PREDICTED: ':>12}{model_out_text}\")\n",
    "\n",
    "            if count == num_examples:\n",
    "                print_msg('-'*console_width)\n",
    "                break\n",
    "    \n",
    "    if writer:\n",
    "        # Evaluate the character error rate\n",
    "        # Compute the char error rate \n",
    "        metric = torchmetrics.CharErrorRate()\n",
    "        cer = metric(predicted, expected)\n",
    "        writer.add_scalar('validation cer', cer, global_step)\n",
    "        writer.flush()\n",
    "\n",
    "        # Compute the word error rate\n",
    "        metric = torchmetrics.WordErrorRate()\n",
    "        wer = metric(predicted, expected)\n",
    "        writer.add_scalar('validation wer', wer, global_step)\n",
    "        writer.flush()\n",
    "\n",
    "        # Compute the BLEU metric\n",
    "        metric = torchmetrics.BLEUScore()\n",
    "        bleu = metric(predicted, expected)\n",
    "        writer.add_scalar('validation BLEU', bleu, global_step)\n",
    "        writer.flush()\n",
    "\n",
    "def get_all_sentences(ds, lang):\n",
    "    for item in ds:\n",
    "        yield item['translation'][lang]\n",
    "\n",
    "def get_or_build_tokenizer(config, ds, lang):\n",
    "    tokenizer_path = Path(config['tokenizer_file'].format(lang))\n",
    "    if not Path.exists(tokenizer_path):\n",
    "        # Most code taken from: https://huggingface.co/docs/tokenizers/quicktour\n",
    "        tokenizer = Tokenizer(WordLevel(unk_token=\"[UNK]\"))\n",
    "        tokenizer.pre_tokenizer = Whitespace()\n",
    "        trainer = WordLevelTrainer(special_tokens=[\"[UNK]\", \"[PAD]\", \"[SOS]\", \"[EOS]\"], min_frequency=2)\n",
    "        tokenizer.train_from_iterator(get_all_sentences(ds, lang), trainer=trainer)\n",
    "        tokenizer.save(str(tokenizer_path))\n",
    "    else:\n",
    "        tokenizer = Tokenizer.from_file(str(tokenizer_path))\n",
    "    return tokenizer\n",
    "\n",
    "def get_ds(config):\n",
    "    # It only has the train split, so we divide it overselves\n",
    "    # ds_raw = load_dataset(f\"{config['datasource']}\", f\"{config['lang_src']}-{config['lang_tgt']}\", split='train')\n",
    "    ds_raw = load_dataset(f\"./opus_books\", f\"{config['lang_src']}-{config['lang_tgt']}\", split='train')\n",
    "\n",
    "    # Build tokenizers\n",
    "    tokenizer_src = get_or_build_tokenizer(config, ds_raw, config['lang_src'])\n",
    "    tokenizer_tgt = get_or_build_tokenizer(config, ds_raw, config['lang_tgt'])\n",
    "\n",
    "    # Keep 90% for training, 10% for validation\n",
    "    train_ds_size = int(0.9 * len(ds_raw))\n",
    "    val_ds_size = len(ds_raw) - train_ds_size\n",
    "    train_ds_raw, val_ds_raw = random_split(ds_raw, [train_ds_size, val_ds_size])\n",
    "\n",
    "    train_ds = BilingualDataset(train_ds_raw, tokenizer_src, tokenizer_tgt, config['lang_src'], config['lang_tgt'], config['seq_len'])\n",
    "    val_ds = BilingualDataset(val_ds_raw, tokenizer_src, tokenizer_tgt, config['lang_src'], config['lang_tgt'], config['seq_len'])\n",
    "\n",
    "    # Find the maximum length of each sentence in the source and target sentence\n",
    "    max_len_src = 0\n",
    "    max_len_tgt = 0\n",
    "\n",
    "    for item in ds_raw:\n",
    "        src_ids = tokenizer_src.encode(item['translation'][config['lang_src']]).ids\n",
    "        tgt_ids = tokenizer_tgt.encode(item['translation'][config['lang_tgt']]).ids\n",
    "        max_len_src = max(max_len_src, len(src_ids))\n",
    "        max_len_tgt = max(max_len_tgt, len(tgt_ids))\n",
    "\n",
    "    print(f'Max length of source sentence: {max_len_src}')\n",
    "    print(f'Max length of target sentence: {max_len_tgt}')\n",
    "    \n",
    "\n",
    "    train_dataloader = DataLoader(train_ds, batch_size=config['batch_size'], shuffle=True)\n",
    "    val_dataloader = DataLoader(val_ds, batch_size=1, shuffle=True)\n",
    "\n",
    "    return train_dataloader, val_dataloader, tokenizer_src, tokenizer_tgt\n",
    "\n",
    "def get_model(config, vocab_src_len, vocab_tgt_len):\n",
    "    model = build_transformer(vocab_src_len, vocab_tgt_len, config[\"seq_len\"], config['seq_len'], d_model=config['d_model'])\n",
    "    return model\n",
    "\n",
    "def train_model(config):\n",
    "    # Define the device\n",
    "    device = \"cuda\" if torch.cuda.is_available() else \"mps\" if torch.has_mps or torch.backends.mps.is_available() else \"cpu\"\n",
    "    print(\"Using device:\", device)\n",
    "    if (device == 'cuda'):\n",
    "        print(f\"Device name: {torch.cuda.get_device_name(device.index)}\")\n",
    "        print(f\"Device memory: {torch.cuda.get_device_properties(device.index).total_memory / 1024 ** 3} GB\")\n",
    "    elif (device == 'mps'):\n",
    "        print(f\"Device name: <mps>\")\n",
    "    else:\n",
    "        print(\"NOTE: If you have a GPU, consider using it for training.\")\n",
    "        print(\"      On a Windows machine with NVidia GPU, check this video: https://www.youtube.com/watch?v=GMSjDTU8Zlc\")\n",
    "        print(\"      On a Mac machine, run: pip3 install --pre torch torchvision torchaudio torchtext --index-url https://download.pytorch.org/whl/nightly/cpu\")\n",
    "    device = torch.device(device)\n",
    "\n",
    "    # Make sure the weights folder exists\n",
    "    Path(f\"{config['datasource']}_{config['model_folder']}\").mkdir(parents=True, exist_ok=True)\n",
    "\n",
    "    train_dataloader, val_dataloader, tokenizer_src, tokenizer_tgt = get_ds(config)\n",
    "    model = get_model(config, tokenizer_src.get_vocab_size(), tokenizer_tgt.get_vocab_size()).to(device)\n",
    "    # Tensorboard\n",
    "    writer = SummaryWriter(config['experiment_name'])\n",
    "\n",
    "    optimizer = torch.optim.Adam(model.parameters(), lr=config['lr'], eps=1e-9)\n",
    "\n",
    "    # If the user specified a model to preload before training, load it\n",
    "    initial_epoch = 0\n",
    "    global_step = 0\n",
    "    preload = config['preload']\n",
    "    model_filename = latest_weights_file_path(config) if preload == 'latest' else get_weights_file_path(config, preload) if preload else None\n",
    "    if model_filename:\n",
    "        print(f'Preloading model {model_filename}')\n",
    "        state = torch.load(model_filename)\n",
    "        model.load_state_dict(state['model_state_dict'])\n",
    "        initial_epoch = state['epoch'] + 1\n",
    "        optimizer.load_state_dict(state['optimizer_state_dict'])\n",
    "        global_step = state['global_step']\n",
    "    else:\n",
    "        print('No model to preload, starting from scratch')\n",
    "\n",
    "    loss_fn = nn.CrossEntropyLoss(ignore_index=tokenizer_src.token_to_id('[PAD]'), label_smoothing=0.1).to(device)\n",
    "\n",
    "    for epoch in range(initial_epoch, config['num_epochs']):\n",
    "        torch.cuda.empty_cache()\n",
    "        model.train()\n",
    "        batch_iterator = tqdm(train_dataloader, desc=f\"Processing Epoch {epoch:02d}\")\n",
    "        for batch in batch_iterator:\n",
    "\n",
    "            encoder_input = batch['encoder_input'].to(device) # (b, seq_len)\n",
    "            decoder_input = batch['decoder_input'].to(device) # (B, seq_len)\n",
    "            encoder_mask = batch['encoder_mask'].to(device) # (B, 1, 1, seq_len)\n",
    "            decoder_mask = batch['decoder_mask'].to(device) # (B, 1, seq_len, seq_len)\n",
    "\n",
    "            # Run the tensors through the encoder, decoder and the projection layer\n",
    "            encoder_output = model.encode(encoder_input, encoder_mask) # (B, seq_len, d_model)\n",
    "            decoder_output = model.decode(encoder_output, encoder_mask, decoder_input, decoder_mask) # (B, seq_len, d_model)\n",
    "            proj_output = model.project(decoder_output) # (B, seq_len, vocab_size)\n",
    "\n",
    "            # Compare the output with the label\n",
    "            label = batch['label'].to(device) # (B, seq_len)\n",
    "\n",
    "            # Compute the loss using a simple cross entropy\n",
    "            loss = loss_fn(proj_output.view(-1, tokenizer_tgt.get_vocab_size()), label.view(-1))\n",
    "            batch_iterator.set_postfix({\"loss\": f\"{loss.item():6.3f}\"})\n",
    "\n",
    "            # Log the loss\n",
    "            writer.add_scalar('train loss', loss.item(), global_step)\n",
    "            writer.flush()\n",
    "\n",
    "            # Backpropagate the loss\n",
    "            loss.backward()\n",
    "\n",
    "            # Update the weights\n",
    "            optimizer.step()\n",
    "            optimizer.zero_grad(set_to_none=True)\n",
    "\n",
    "            global_step += 1\n",
    "\n",
    "        # Run validation at the end of every epoch\n",
    "        run_validation(model, val_dataloader, tokenizer_src, tokenizer_tgt, config['seq_len'], device, lambda msg: batch_iterator.write(msg), global_step, writer)\n",
    "\n",
    "        # Save the model at the end of every epoch\n",
    "        model_filename = get_weights_file_path(config, f\"{epoch:03d}\")\n",
    "        torch.save({\n",
    "            'epoch': epoch,\n",
    "            'model_state_dict': model.state_dict(),\n",
    "            'optimizer_state_dict': optimizer.state_dict(),\n",
    "            'global_step': global_step\n",
    "        }, model_filename)\n",
    "        delete_file(f'opus_books_weights/tmodel_{(epoch-1):03d}.pt')\n"
   ]
  },
  {
   "cell_type": "code",
   "execution_count": 19,
   "id": "f85a25e8-95e6-4adf-a754-600d5c5491f9",
   "metadata": {},
   "outputs": [
    {
     "name": "stdout",
     "output_type": "stream",
     "text": [
      "Using device: cuda\n",
      "Device name: NVIDIA H20\n",
      "Device memory: 95.1004638671875 GB\n",
      "Max length of source sentence: 309\n",
      "Max length of target sentence: 274\n",
      "Preloading model opus_books_weights/tmodel_034.pt\n"
     ]
    },
    {
     "name": "stderr",
     "output_type": "stream",
     "text": [
      "Processing Epoch 35: 100%|██████████| 228/228 [03:05<00:00,  1.23it/s, loss=2.521]\n",
      "stty: 'standard input': Inappropriate ioctl for device\n"
     ]
    },
    {
     "name": "stdout",
     "output_type": "stream",
     "text": [
      "--------------------------------------------------------------------------------\n",
      "    SOURCE: J'ai dit qu'oui: car c'est vrai, n'est-ce pas, mademoiselle?\"\n",
      "    TARGET: Ho detto di sì, perché è vero, signorina.\n",
      " PREDICTED: Mi pare di sì , perché è vero , signorina .\n",
      "--------------------------------------------------------------------------------\n",
      "    SOURCE: \"With that searching and yet faithful and generous look, you torture me!\"\n",
      "    TARGET: Con quello sguardo, ora scrutatore, ora sincero e generoso, mi torturate.\n",
      " PREDICTED: Con quello sguardo , ora scrutatore , ora sincero e generoso , mi torturate .\n",
      "--------------------------------------------------------------------------------\n",
      "Deleted opus_books_weights/tmodel_034.pt\n"
     ]
    },
    {
     "name": "stderr",
     "output_type": "stream",
     "text": [
      "Processing Epoch 36: 100%|██████████| 228/228 [03:05<00:00,  1.23it/s, loss=2.418]\n",
      "stty: 'standard input': Inappropriate ioctl for device\n"
     ]
    },
    {
     "name": "stdout",
     "output_type": "stream",
     "text": [
      "--------------------------------------------------------------------------------\n",
      "    SOURCE: I found presently it flew up into my head violently; but I fell into a sound sleep, and waked no more till, by the sun, it must necessarily be near three o’clock in the afternoon the next day—nay, to this hour I am partly of opinion that I slept all the next day and night, and till almost three the day after; for otherwise I know not how I should lose a day out of my reckoning in the days of the week, as it appeared some years after I had done; for if I had lost it by crossing and recrossing the line, I should have lost more than one day; but certainly I lost a day in my account, and never knew which way.\n",
      "    TARGET: Ma erano queste le tre ore del dì seguente, o aveva io dormito tutta una notte e tutto il giorno e l’altra notte seguente? Inchino a credere così; altrimenti non saprei spiegare a me stesso in qual maniera nel mio computo dei giorni della settimana ne avessi perduto uno, siccome dovetti accorgermene alcuni anni dopo; perchè se avessi perduto un giorno per avere tagliata e ritagliata la stessa linea o tacca, il giorno perduto non sarebbe stato uno solamente.\n",
      " PREDICTED: Avevo già fatto una via diversa dalla mia testa ; ma qui mi venne a sedere un giorno e tanta notte e forse non si mai a pensare ai tre giorni : forse si sarebbe forse possibile per altro che la notte all ’ ora , perchè , come ho perduto l ’ intera giornata col mio sogno del giorno , e se avessi perduto una settimana prima , non saprei io medesimo se avessi perduto qualche giorno d ’ allora il mio sogno ; perchè se avessi perduto un giorno , mi sempre l ’ intera giornata in qualche giorno del mio sogno , e nemmeno l ’ avessi perduto il mio sogno o l ’ intera giornata , come io non sapeva mai perduto il mio giorno .\n",
      "--------------------------------------------------------------------------------\n",
      "    SOURCE: There was no label this time with the words 'DRINK ME,' but nevertheless she uncorked it and put it to her lips.\n",
      "    TARGET: Questa volta non v'era alcuna etichetta con la parola “Bevi”. Pur nondimeno la stappò e se la portò alle labbra.\n",
      " PREDICTED: Un ' altra volta non v ' era alcuna etichetta con la parola “ Bevi ”. Ma se la e la di lei .\n",
      "--------------------------------------------------------------------------------\n",
      "Deleted opus_books_weights/tmodel_035.pt\n"
     ]
    },
    {
     "name": "stderr",
     "output_type": "stream",
     "text": [
      "Processing Epoch 37: 100%|██████████| 228/228 [03:05<00:00,  1.23it/s, loss=2.474]\n",
      "stty: 'standard input': Inappropriate ioctl for device\n"
     ]
    },
    {
     "name": "stdout",
     "output_type": "stream",
     "text": [
      "--------------------------------------------------------------------------------\n",
      "    SOURCE: You walk down the path, and as you pass the summer-house you glance in, and there are those two young idiots, huddled up into one corner of it; and they see you, and are evidently under the idea that, for some wicked purpose of your own, you are following them about.\n",
      "    TARGET: V’incamminate per il viale, e passando innanzi al villino d’estate date un’occhiata all’interno, ed ecco apparirvi, rannicchiati in un angolo, quei due giovani idioti. Anch’essi vi veggono, e hanno evidentemente l’impressione che per un malvagio vostro proposito particolare voi li andiate passo passo pedinando.\n",
      " PREDICTED: via per il viale , e , come voi l ’ estate , guardate e vi , ma quei due giovani idioti si , idioti . E vedete che siete evidentemente sotto l ’ idea di quella gente , e si son evidentemente evidentemente occupati da chi ti siano messi fuori .\n",
      "--------------------------------------------------------------------------------\n",
      "    SOURCE: I took out one of the fowling-pieces, and one of the pistols, and a horn of powder; and thus armed, I travelled for discovery up to the top of that hill, where, after I had with great labour and difficulty got to the top, I saw my fate, to my great affliction—viz. that I was in an island environed every way with the sea: no land to be seen except some rocks, which lay a great way off; and two small islands, less than this, which lay about three leagues to the west.\n",
      "    TARGET: Presi con me uno de’ miei moschetti, una delle mie pistole ed un fiaschetto di polvere, e andai così armato alla scoperta della cima di questo monte, alla quale inerpicatomi con grande pena e fatica, conobbi pienamente e con mia grande costernazione il mio destino: quello cioè di trovarmi in un’isola accerchiata per tutti i versi dal mare senza veruna terra in vista, salvo alcune giogaie di scogli da me lontanissimi e due isolette più piccole di questa, che mi giacevano in una distanza di circa tre leghe a levante.\n",
      " PREDICTED: Presi con me uno de ’ miei moschetti , uno de ’ miei pistole e su un fiaschetto di polvere , e presi meco così per quella cima di montagna , ove fui preso il mio destino e con la fatica , giunsi a la mia grande sorte di sopra la mia terra , che un grande pane era in mezzo per vedere i vasi , e le scogli poste ad una specie di scogli piantati in mare ; ma altre due leghe di cui non facevano più oltre il vedere da quelle leghe ad una leghe di scogli , che trovai in quelle leghe di scogli e tre leghe .\n",
      "--------------------------------------------------------------------------------\n",
      "Deleted opus_books_weights/tmodel_036.pt\n"
     ]
    },
    {
     "name": "stderr",
     "output_type": "stream",
     "text": [
      "Processing Epoch 38: 100%|██████████| 228/228 [03:05<00:00,  1.23it/s, loss=2.419]\n",
      "stty: 'standard input': Inappropriate ioctl for device\n"
     ]
    },
    {
     "name": "stdout",
     "output_type": "stream",
     "text": [
      "--------------------------------------------------------------------------------\n",
      "    SOURCE: Like Madame Stahl's niece, Aline, of whom Varenka told her a great deal, Kitty determined, wherever she lived, to seek out the unfortunate, help them as much as she could, distribute Gospels, and read the Gospel to the sick, to criminals, and to the dying.\n",
      "    TARGET: Dovunque avesse vissuto, ella avrebbe cercato, come Aline, la nipote della signora Stahl di cui Varen’ka parlava tanto, gli sventurati, li avrebbe aiutati per quanto possibile, avrebbe distribuito il Vangelo, lo avrebbe letto ai malati, ai delinquenti, ai moribondi.\n",
      " PREDICTED: Come , come ella fosse nipote di lei , tutti i quali raccontò con Varen ’ ka , desiderando molto di fare , alla povera creatura , di cui non avrebbe potuto del Vangelo , gli avrebbe potuto leggere il Vangelo , e il Vangelo ai delinquenti della separazione e al Vangelo ai delinquenti di casa .\n",
      "--------------------------------------------------------------------------------\n",
      "    SOURCE: What does it matter what I write about?\n",
      "    TARGET: Non ha importanza su che cosa.\n",
      " PREDICTED: Che cosa significa ?\n",
      "--------------------------------------------------------------------------------\n",
      "Deleted opus_books_weights/tmodel_037.pt\n"
     ]
    },
    {
     "name": "stderr",
     "output_type": "stream",
     "text": [
      "Processing Epoch 39: 100%|██████████| 228/228 [03:05<00:00,  1.23it/s, loss=2.199]\n",
      "stty: 'standard input': Inappropriate ioctl for device\n"
     ]
    },
    {
     "name": "stdout",
     "output_type": "stream",
     "text": [
      "--------------------------------------------------------------------------------\n",
      "    SOURCE: This cost me as much thought as a statesman would have bestowed upon a grand point of politics, or a judge upon the life and death of a man.\n",
      "    TARGET: Ciò mi diede tanti pensieri quanti ne avrebbe dati ad un magistrato il decidere sopra un punto scabrosissimo di politica, o quanti se ne sarebbe presi un giudice prima di sentenziare su la vita o la morte d’un poveretto.\n",
      " PREDICTED: Ciò mi diede quanto io mi avesse pensato ad un al modo di far tutti i della politica , o ad un vero ad un giudice di politica , o la morte di un uomo d ’ uomo da : la morte è un uomo d ’ uomo .\n",
      "--------------------------------------------------------------------------------\n",
      "    SOURCE: A pause.\n",
      "    TARGET: Vi fu un momento di silenzio.\n",
      " PREDICTED: Il signor Rochester tacque un momento .\n",
      "--------------------------------------------------------------------------------\n",
      "Deleted opus_books_weights/tmodel_038.pt\n"
     ]
    },
    {
     "name": "stderr",
     "output_type": "stream",
     "text": [
      "Processing Epoch 40: 100%|██████████| 228/228 [03:05<00:00,  1.23it/s, loss=2.403]\n",
      "stty: 'standard input': Inappropriate ioctl for device\n"
     ]
    },
    {
     "name": "stdout",
     "output_type": "stream",
     "text": [
      "--------------------------------------------------------------------------------\n",
      "    SOURCE: 'Why?\n",
      "    TARGET: — Perché?\n",
      " PREDICTED: — E perché ?\n",
      "--------------------------------------------------------------------------------\n",
      "    SOURCE: As to the Englishmen, I promised to send them some women from England, with a good cargo of necessaries, if they would apply themselves to planting—which I afterwards could not perform.\n",
      "    TARGET: Quanto agli Inglesi, promisi di spedir loro alcune donne dall’Inghilterra ed un buon carico di stromenti rurali, se avessero voluto darsi all’agricoltura, promessa che in appresso non potei mantenere.\n",
      " PREDICTED: Quanto ai nostri Inglesi , promisi di mandare ad essi l ’ Inghilterra di portare meco un buon carico di stromenti , per quanto si sarebbero fatti pel quale , io non potei mantenere l ’ aiuto .\n",
      "--------------------------------------------------------------------------------\n",
      "Deleted opus_books_weights/tmodel_039.pt\n"
     ]
    },
    {
     "name": "stderr",
     "output_type": "stream",
     "text": [
      "Processing Epoch 41: 100%|██████████| 228/228 [03:05<00:00,  1.23it/s, loss=2.292]\n",
      "stty: 'standard input': Inappropriate ioctl for device\n"
     ]
    },
    {
     "name": "stdout",
     "output_type": "stream",
     "text": [
      "--------------------------------------------------------------------------------\n",
      "    SOURCE: \"She's ready now,\" said the footman, as he reappeared. \"She wishes to know who will be her first visitor.\"\n",
      "    TARGET: — È pronta ora, — disse il servo entrando, — e vuol sapere chi è la prima persona che andrà da lei.\n",
      " PREDICTED: — È pronta ora , — disse il servitore , — e poi vuol sapere chi è la prima persona che avrà la sua ospite .\n",
      "--------------------------------------------------------------------------------\n",
      "    SOURCE: \"How is Helen Burns?\"\n",
      "    TARGET: — Come sta Elena Burns?\n",
      " PREDICTED: — Come sta Elena ?\n",
      "--------------------------------------------------------------------------------\n",
      "Deleted opus_books_weights/tmodel_040.pt\n"
     ]
    },
    {
     "name": "stderr",
     "output_type": "stream",
     "text": [
      "Processing Epoch 42: 100%|██████████| 228/228 [03:05<00:00,  1.23it/s, loss=2.209]\n",
      "stty: 'standard input': Inappropriate ioctl for device\n"
     ]
    },
    {
     "name": "stdout",
     "output_type": "stream",
     "text": [
      "--------------------------------------------------------------------------------\n",
      "    SOURCE: Encouraged by this observation, I resolved the next morning to set out with the first of the tide; and reposing myself for the night in my canoe, under the watch-coat I mentioned, I launched out.\n",
      "    TARGET: Incoraggiato da tale osservazione, risolsi di mettermi in mare nella seguente mattina col favore della prima marea; onde riposatomi la notte nella piroga, coperto da quella grande casacca, di cui ho già fatto parola altra volta, mi posi in via.\n",
      " PREDICTED: dalla osservazione , risolsi di mettermi all ’ indomani nella seguente mattina col primo della marea , la spiaggia ove mi nella notte del mio piccolo ombrello ; nella mia piccola notte , dissi , d ’ una nuova idea .\n",
      "--------------------------------------------------------------------------------\n",
      "    SOURCE: 'Where did you stop?'\n",
      "    TARGET: — Dove ti sei fermato?\n",
      " PREDICTED: — Dove sei andato ?\n",
      "--------------------------------------------------------------------------------\n",
      "Deleted opus_books_weights/tmodel_041.pt\n"
     ]
    },
    {
     "name": "stderr",
     "output_type": "stream",
     "text": [
      "Processing Epoch 43: 100%|██████████| 228/228 [03:05<00:00,  1.23it/s, loss=2.175]\n",
      "stty: 'standard input': Inappropriate ioctl for device\n"
     ]
    },
    {
     "name": "stdout",
     "output_type": "stream",
     "text": [
      "--------------------------------------------------------------------------------\n",
      "    SOURCE: No!' she now answered herself without the least hesitation. 'It is impossible!\n",
      "    TARGET: No e no! — ella si rispose adesso, senza la più piccola esitazione. — È impossibile!\n",
      " PREDICTED: No — ella disse adesso , senza la esitazione , ma non si può essere . — È impossibile !\n",
      "--------------------------------------------------------------------------------\n",
      "    SOURCE: About a week subsequently to the incidents above narrated, Miss Temple, who had written to Mr. Lloyd, received his answer: it appeared that what he said went to corroborate my account.\n",
      "    TARGET: Una settimana circa dopo i fatti che ho narrato, la signorina Temple ricevè una risposta dal signor Lloyd, al quale aveva scritto. Pare che la testimonianza di lui si accordasse col mio racconto.\n",
      " PREDICTED: Una settimana circa dopo i quali ho narrato , la signorina Temple , che ha scritto al signor Lloyd , il signor Lloyd che aveva scritto . Fu questo la risposta a me .\n",
      "--------------------------------------------------------------------------------\n",
      "Deleted opus_books_weights/tmodel_042.pt\n"
     ]
    },
    {
     "name": "stderr",
     "output_type": "stream",
     "text": [
      "Processing Epoch 44: 100%|██████████| 228/228 [03:05<00:00,  1.23it/s, loss=2.122]\n",
      "stty: 'standard input': Inappropriate ioctl for device\n"
     ]
    },
    {
     "name": "stdout",
     "output_type": "stream",
     "text": [
      "--------------------------------------------------------------------------------\n",
      "    SOURCE: 'Here!' cried Alice, quite forgetting in the flurry of the moment how large she had grown in the last few minutes, and she jumped up in such a hurry that she tipped over the jury-box with the edge of her skirt, upsetting all the jurymen on to the heads of the crowd below, and there they lay sprawling about, reminding her very much of a globe of goldfish she had accidentally upset the week before.\n",
      "    TARGET: Dimenticando, nella confusione di quell'istante di esser cresciuta enormemente, saltò con tanta fretta che rovesciò col lembo della veste il banco de' giurati, i quali capitombolarono con la testa in giù sulla folla, restando con le. gambe in aria. Questo le rammentò l'urtone dato la settimana prima a un globo di cristallo con i pesciolini d'oro.\n",
      " PREDICTED: , di nuovo Alice , che ebbe una gran disposizione d ' aver esaminato in pochi minuti . Con le candide tazze col banco del Brasile , e con la testa in giù nel giardino .\n",
      "--------------------------------------------------------------------------------\n",
      "    SOURCE: AT THE BEGINNING OF JUNE Levin's old nurse and housekeeper, Agatha Mikhaylovna, happened to slip as she was carrying to the cellar a jar of mushrooms which she had just pickled, and sprained her wrist.\n",
      "    TARGET: Nei primi giorni di giugno accadde che Agaf’ja Michajlovna, la njanja e ora governante, portando in cantina un vasetto di funghi allora da lei salati, scivolò e cadde, slogandosi un braccio.\n",
      " PREDICTED: A sinistra , al ritorno dell ’ arrivo di Levin , la njanja e la governante , quando era vestita da un nastro nero che era vestita a un nastro che era chiuso , si portò là , un polso che era .\n",
      "--------------------------------------------------------------------------------\n",
      "Deleted opus_books_weights/tmodel_043.pt\n"
     ]
    },
    {
     "name": "stderr",
     "output_type": "stream",
     "text": [
      "Processing Epoch 45: 100%|██████████| 228/228 [03:05<00:00,  1.23it/s, loss=2.144]\n",
      "stty: 'standard input': Inappropriate ioctl for device\n"
     ]
    },
    {
     "name": "stdout",
     "output_type": "stream",
     "text": [
      "--------------------------------------------------------------------------------\n",
      "    SOURCE: We were pulling down stream, and, as we came round the bend, we noticed a couple of men on the bank.\n",
      "    TARGET: Si remava secondo corrente, e quando ci avvicinammo alla curva, scorgemmo due persone sulla riva.\n",
      " PREDICTED: Ci trovavamo fin all ’ corrente , e siccome ci eravamo intorno alla curva , ci vedemmo due passi sulla riva .\n",
      "--------------------------------------------------------------------------------\n",
      "    SOURCE: As I sat in my usual nook, and looked at him with the light of the girandoles on the mantelpiece beaming full over him--for he occupied an arm-chair drawn close to the fire, and kept shrinking still nearer, as if he were cold, I compared him with Mr. Rochester.\n",
      "    TARGET: Dal mio solito posto potevo vederlo bene. Stava seduto in una poltrona accanto al fuoco e sempre si avvicinava alla fiamma, come se avesse freddo.\n",
      " PREDICTED: Pensavo al mio solito posto nel caminetto , come se si fosse vestita da un camino di bianco , e poi si mise a , cadendo dalla fiamma , che il signor Rochester era freddo .\n",
      "--------------------------------------------------------------------------------\n",
      "Deleted opus_books_weights/tmodel_044.pt\n"
     ]
    },
    {
     "name": "stderr",
     "output_type": "stream",
     "text": [
      "Processing Epoch 46: 100%|██████████| 228/228 [03:05<00:00,  1.23it/s, loss=2.067]\n",
      "stty: 'standard input': Inappropriate ioctl for device\n"
     ]
    },
    {
     "name": "stdout",
     "output_type": "stream",
     "text": [
      "--------------------------------------------------------------------------------\n",
      "    SOURCE: This conversation was unpleasant to Kitty and upset her, both by the subject itself and by the tone in which it was carried on, but especially because she already knew the effect it would have on her husband.\n",
      "    TARGET: Per Kitty questa conversazione non era gradita, l’agitava e per la sostanza stessa e per il tono col quale era condotta, e soprattutto perché sapeva già come avrebbe agito su suo marito.\n",
      " PREDICTED: Questo discorso era spiacevole per Kitty e non era spiacevole da sé , e per questo tono con cui era stata , e per il tono , soprattutto perché sapeva che era già evidente il marito sarebbe stato da lei .\n",
      "--------------------------------------------------------------------------------\n",
      "    SOURCE: \"There again! Another stick of the penknife, when she pretended to pat my head: and that is because I said I did not like the society of children and old women (low be it spoken!).\n",
      "    TARGET: — Un'altra botta perché ho dichiarato che non mi piaceva la compagnia delle vecchie e dei bimbi.... Parliamo più piano....\n",
      " PREDICTED: — Un ' altra scossa dove la testa mi parla con la testa e che mi pare , non mi ho detto che i bambini e delle donne ... mi fecero parlare della società ( le donne .\n",
      "--------------------------------------------------------------------------------\n",
      "Deleted opus_books_weights/tmodel_045.pt\n"
     ]
    },
    {
     "name": "stderr",
     "output_type": "stream",
     "text": [
      "Processing Epoch 47: 100%|██████████| 228/228 [03:05<00:00,  1.23it/s, loss=2.003]\n",
      "stty: 'standard input': Inappropriate ioctl for device\n"
     ]
    },
    {
     "name": "stdout",
     "output_type": "stream",
     "text": [
      "--------------------------------------------------------------------------------\n",
      "    SOURCE: At seven o'clock he was awakened by her touch on his shoulder and a soft whisper.\n",
      "    TARGET: Alle sette, lo svegliò il contatto della mano di lei sulla spalla e un sussurro sommesso.\n",
      " PREDICTED: Alle sette , lui la trattenne contro la spalla e un mormorio mormorio mormorio triste .\n",
      "--------------------------------------------------------------------------------\n",
      "    SOURCE: This was the only voyage which I may say was successful in all my adventures, which I owe to the integrity and honesty of my friend the captain; under whom also I got a competent knowledge of the mathematics and the rules of navigation, learned how to keep an account of the ship’s course, take an observation, and, in short, to understand some things that were needful to be understood by a sailor; for, as he took delight to instruct me, I took delight to learn; and, in a word, this voyage made me both a sailor and a merchant; for I brought home five pounds nine ounces of gold-dust for my adventure, which yielded me in London, at my return, almost £300; and this filled me with those aspiring thoughts which have since so completed my ruin.\n",
      "    TARGET: Fu questo il solo viaggio fortunato fra tutte le avventure della mia vita, e lo dovei all’integerrima onestà dell’indicato mio amico, sotto del quale acquistai in oltre una sufficiente cognizione dei principî della matematica e della nautica: imparai a valutare il corso di una nave, a prender la misura delle altezze, in somma a conoscere quelle principali cose che non può non sapere un marinaio; poichè egli prendeva diletto ad istruirmi, com’io ad imparare. In una parola, questo viaggio mi fece ad un tempo marinaio ed esperto nelle cose del commercio; onde portai a casa dal mio viaggio cinque libbre e nove once di polve d’oro, che mi fruttarono in Londra circa trecento sterlini; ma ciò mi empì sempre più la testa di quelle chimere d’ingrandimento, che furono in appresso la mia generale rovina.\n",
      " PREDICTED: Fu questa il solo viaggio che mi diceva la mia condizione in tutto il mio buon valore della mia fortuna , e da quanto io m ’ avea fatta oltre ogni probabilità di cognizione dell ’ onesto e alla pratica delle provvigioni che le vicende e il capitale del marinaio , avea una somma di ottenere senza capire una parola , di ottenere da mandare a prendere una parola di mare ; ed in qualunque bisogno mi a fare un marinaio ed a fare in parola di cinque sterlini per me il mio ) lo condussi dieci sterlini per cento sterlini ; così di Londra e ciò che dopo aver preso ad una parola di Natale , la mia piantagione ; in somma che non avrei dovuto far conoscenza di far conoscenza a ciò che a ciò che mi restavano a ciò che dopo alcune piantagioni diciotto lire sterline , dopo essermi i miei beni che mi il mio talento .\n",
      "--------------------------------------------------------------------------------\n",
      "Deleted opus_books_weights/tmodel_046.pt\n"
     ]
    },
    {
     "name": "stderr",
     "output_type": "stream",
     "text": [
      "Processing Epoch 48: 100%|██████████| 228/228 [03:05<00:00,  1.23it/s, loss=1.922]\n",
      "stty: 'standard input': Inappropriate ioctl for device\n"
     ]
    },
    {
     "name": "stdout",
     "output_type": "stream",
     "text": [
      "--------------------------------------------------------------------------------\n",
      "    SOURCE: I spent great part of this day in perplexing myself on these things; but at length, seeing the ship almost dry, I went upon the sand as near as I could, and then swam on board.\n",
      "    TARGET: Perdei molto tempo di questo giorno in tali perplessità, ma finalmente, vedendo che il vascello posava quasi affatto su l’asciutta sabbia, me gli avvicinai quanto mi fu possibile; indi superato a nuoto il tratto d’acqua che me ne disgiungeva, vi entrai a bordo.\n",
      " PREDICTED: molto tempo di questo giorno , mi posi in tal modo ad accorgermi che la nave era quasi asciutta , benchè la sabbia che quasi fosse quasi asciutta come la sabbia ove mi riuscisse a la tela .\n",
      "--------------------------------------------------------------------------------\n",
      "    SOURCE: In the middle of this work I finished my fourth year in this place, and kept my anniversary with the same devotion, and with as much comfort as ever before; for, by a constant study and serious application to the Word of God, and by the assistance of His grace, I gained a different knowledge from what I had before. I entertained different notions of things.\n",
      "    TARGET: Quinto anno; novelli arnesi, seconda piroga. Io era alla metà dell’indicato lavoro quando terminava il quarto anno della mia dimora in quest’isola, il cui giorno anniversario solennizzai con la stessa divozione e con maggiore conforto d’animo che per lo addietro; poichè col costante intenso studio da me dato alla parola di Dio e con l’aiuto della sua grazia guadagnai cognizioni ben diverse da quelle che aveva in principio.\n",
      " PREDICTED: In mezzo a questo lavoro ebbi terminato il mio quarto d ’ anno , e poichè ebbi la mia solitudine , nella mia solitudine , della quale , con quanto più mi trovava mai in buon tempo sin da quel pieno di preghiera ed alla naturale risoluzione di Dio ben m ’ avea liberato e dallo stesso disegno del suo ingegno , delle quali avevo già parlato ben diverse . Io m ’ era già diverse .\n",
      "--------------------------------------------------------------------------------\n",
      "Deleted opus_books_weights/tmodel_047.pt\n"
     ]
    },
    {
     "name": "stderr",
     "output_type": "stream",
     "text": [
      "Processing Epoch 49: 100%|██████████| 228/228 [03:05<00:00,  1.23it/s, loss=1.977]\n",
      "stty: 'standard input': Inappropriate ioctl for device\n"
     ]
    },
    {
     "name": "stdout",
     "output_type": "stream",
     "text": [
      "--------------------------------------------------------------------------------\n",
      "    SOURCE: \"What to do?--where to go?\"\n",
      "    TARGET: — Per che farne? Per andar dove?\n",
      " PREDICTED: — Che cosa volete ?\n",
      "--------------------------------------------------------------------------------\n",
      "    SOURCE: 'But, my dear friend, do not give way to that feeling you were speaking about – of being ashamed of that which is the utmost height of Christianity!\n",
      "    TARGET: — Ma, amico mio, non vi abbandonate al sentimento cui avete accennato, vergognarsi di quanto c’è di più alto per il cristiano: “chi si umilia sarà innalzato”.\n",
      " PREDICTED: — Ma , amico mio , non fate il senso di pena che ti parli in senso di questo , vergognarsi della cosa più alto del cristianesimo !\n",
      "--------------------------------------------------------------------------------\n",
      "Deleted opus_books_weights/tmodel_048.pt\n"
     ]
    },
    {
     "name": "stderr",
     "output_type": "stream",
     "text": [
      "Processing Epoch 50: 100%|██████████| 228/228 [03:05<00:00,  1.23it/s, loss=1.998]\n",
      "stty: 'standard input': Inappropriate ioctl for device\n"
     ]
    },
    {
     "name": "stdout",
     "output_type": "stream",
     "text": [
      "--------------------------------------------------------------------------------\n",
      "    SOURCE: Through her room he reached the door of their bedroom and then turned back again.\n",
      "    TARGET: Attraversando lo studiolo giungeva alla porta della stanza da letto e voltava di nuovo indietro.\n",
      " PREDICTED: Dal salotto si avvicinò alla porta della camera e poi si rivolse di nuovo alla camera .\n",
      "--------------------------------------------------------------------------------\n",
      "    SOURCE: 'What am I to write to him?' asked Levin. 'I hope you are not angry with him?'\n",
      "    TARGET: — E cosa gli devo scrivere? — domandò Levin. — Spero che tu non sia arrabbiato contro di lui.\n",
      " PREDICTED: — Ma che cosa devo scrivere ? — chiese Levin . — Spero che non tu sia arrabbiato con lui .\n",
      "--------------------------------------------------------------------------------\n",
      "Deleted opus_books_weights/tmodel_049.pt\n"
     ]
    },
    {
     "name": "stderr",
     "output_type": "stream",
     "text": [
      "Processing Epoch 51: 100%|██████████| 228/228 [03:05<00:00,  1.23it/s, loss=1.936]\n",
      "stty: 'standard input': Inappropriate ioctl for device\n"
     ]
    },
    {
     "name": "stdout",
     "output_type": "stream",
     "text": [
      "--------------------------------------------------------------------------------\n",
      "    SOURCE: 'Yes, it is his business!' said Five, 'and I'll tell him--it was for bringing the cook tulip-roots instead of onions.'\n",
      "    TARGET: Sì, che gli riguarda! — disse Cinque; — e glielo dirò io... perchè hai portato al cuoco bulbi di tulipani invece di cipolle.\n",
      " PREDICTED: — Sì , che suo lavoro è io ! — disse Cinque in piedi ; — e lo dirò che se mi al cuoco ... invece di invece di ...\n",
      "--------------------------------------------------------------------------------\n",
      "    SOURCE: The celebrity was not offended.\n",
      "    TARGET: Il medico famoso non si offese.\n",
      " PREDICTED: Il medico famoso non lo offese in nessun modo .\n",
      "--------------------------------------------------------------------------------\n",
      "Deleted opus_books_weights/tmodel_050.pt\n"
     ]
    },
    {
     "name": "stderr",
     "output_type": "stream",
     "text": [
      "Processing Epoch 52: 100%|██████████| 228/228 [03:05<00:00,  1.23it/s, loss=1.917]\n",
      "stty: 'standard input': Inappropriate ioctl for device\n"
     ]
    },
    {
     "name": "stdout",
     "output_type": "stream",
     "text": [
      "--------------------------------------------------------------------------------\n",
      "    SOURCE: 'No, extremes are not right in any case,' said Nataly quietly, putting his paper-knife in its right place on the table.\n",
      "    TARGET: — No, l’esagerazione non va bene in nulla — disse tranquilla Natalie, mettendo al suo posto il tagliacarte sul tavolo.\n",
      " PREDICTED: — No , le zampe , non del resto in nessun caso — disse con calma Natalie , dando il tagliacarte al tagliacarte sul tavolo .\n",
      "--------------------------------------------------------------------------------\n",
      "    SOURCE: Anna looked out and saw Karenin's messenger in the porch ringing the bell.\n",
      "    TARGET: Anna guardò dalla finestra e vide presso la scala il fattorino di Aleksej Aleksandrovic che sonava alla porta d’ingresso.\n",
      " PREDICTED: Anna guardò e vide il fattorino di Aleksej Aleksandrovic la porta di passi , che veniva la porta .\n",
      "--------------------------------------------------------------------------------\n",
      "Deleted opus_books_weights/tmodel_051.pt\n"
     ]
    },
    {
     "name": "stderr",
     "output_type": "stream",
     "text": [
      "Processing Epoch 53: 100%|██████████| 228/228 [03:05<00:00,  1.23it/s, loss=1.834]\n",
      "stty: 'standard input': Inappropriate ioctl for device\n"
     ]
    },
    {
     "name": "stdout",
     "output_type": "stream",
     "text": [
      "--------------------------------------------------------------------------------\n",
      "    SOURCE: It was still quite light out of doors, but in the Countess Lydia Ivanovna's small drawing-room the blinds were down and the lamp alight.\n",
      "    TARGET: Fuori era ancora giorno, ma nel piccolo salotto della contessa Lidija Ivanovna dalle tende abbassate erano già accese le luci.\n",
      " PREDICTED: Era ancora buio , ma in fondo alla contessa Lidija Ivanovna , sul piccolo salotto , le erano aperte le era una lampada , e la lampada .\n",
      "--------------------------------------------------------------------------------\n",
      "    SOURCE: What a day it is for shooting!'\n",
      "    TARGET: E oggi che giornata è per la caccia?\n",
      " PREDICTED: Che giorno oggi ?\n",
      "--------------------------------------------------------------------------------\n",
      "Deleted opus_books_weights/tmodel_052.pt\n"
     ]
    },
    {
     "name": "stderr",
     "output_type": "stream",
     "text": [
      "Processing Epoch 54: 100%|██████████| 228/228 [03:05<00:00,  1.23it/s, loss=1.850]\n",
      "stty: 'standard input': Inappropriate ioctl for device\n"
     ]
    },
    {
     "name": "stdout",
     "output_type": "stream",
     "text": [
      "--------------------------------------------------------------------------------\n",
      "    SOURCE: The great pavilion brought there yester eve is being raised, and carpenters are busy nailing tiers of seats, while `prentices from London town are there with many-coloured stuffs and silks and cloth of gold and silver.\n",
      "    TARGET: Il gran padiglione portato colà ieri sera è stato costruito, e i falegnami sono affaccendati a inchiodare file di sedili, mentre gli apprendisti della città di Londra son lì pronti con stoffe di vari colori e sete e tessuti d’oro e d’argento.\n",
      " PREDICTED: La grande luce portò qui un che sia stata , ed eravamo assunti , mentre di case di governatorato , i di Londra ce n ’ è da onore a e di fiori d ’ argento e di seta color d ’ argento .\n",
      "--------------------------------------------------------------------------------\n",
      "    SOURCE: 'Very well.\n",
      "    TARGET: — Va bene.\n",
      " PREDICTED: — Molto bene .\n",
      "--------------------------------------------------------------------------------\n",
      "Deleted opus_books_weights/tmodel_053.pt\n"
     ]
    },
    {
     "name": "stderr",
     "output_type": "stream",
     "text": [
      "Processing Epoch 55: 100%|██████████| 228/228 [03:05<00:00,  1.23it/s, loss=1.838]\n",
      "stty: 'standard input': Inappropriate ioctl for device\n"
     ]
    },
    {
     "name": "stdout",
     "output_type": "stream",
     "text": [
      "--------------------------------------------------------------------------------\n",
      "    SOURCE: \"You have no right to preach to me, you neophyte, that have not passed the porch of life, and are absolutely unacquainted with its mysteries.\" \"I only remind you of your own words, sir: you said error brought remorse, and you pronounced remorse the poison of existence.\"\n",
      "    TARGET: Non avete il diritto di farmi un sermone, voi, neofita, che non avete passato la soglia della vita e non ne conoscete alcuno dei misteri. — Non faccio altro che rammentarvi le vostre parole, signore; voi avete detto che la colpa conduce al rimorso, e che il rimorso è il veleno della vita.\n",
      " PREDICTED: — Non avete diritto a farmi un vero errore , voi , voi avete passato la scala di vita , e non conoscete nulla , — non posso che voi ne i vostri termini ; avete detto la vostra , che avete vinto ; avete il rimorso e il rimorso è divenuto un rimorso .\n",
      "--------------------------------------------------------------------------------\n",
      "    SOURCE: 'Worse than wrong, shameful.'\n",
      "    TARGET: — Peggio che male, vergognosamente.\n",
      " PREDICTED: — Peggio che male , sei malata .\n",
      "--------------------------------------------------------------------------------\n",
      "Deleted opus_books_weights/tmodel_054.pt\n"
     ]
    },
    {
     "name": "stderr",
     "output_type": "stream",
     "text": [
      "Processing Epoch 56: 100%|██████████| 228/228 [03:05<00:00,  1.23it/s, loss=1.859]\n",
      "stty: 'standard input': Inappropriate ioctl for device\n"
     ]
    },
    {
     "name": "stdout",
     "output_type": "stream",
     "text": [
      "--------------------------------------------------------------------------------\n",
      "    SOURCE: Since I had ascertained that Rosamond really preferred him, and that her father was not likely to oppose the match, I--less exalted in my views than St. John--had been strongly disposed in my own heart to advocate their union.\n",
      "    TARGET: Dacché sapevo che Rosmunda gli voleva bene, che il signor Oliver non si sarebbe opposto al matrimonio, mi ero messa in testa di favorire quell'unione,\n",
      " PREDICTED: Da quel momento avevo saputo che Rosmunda lo aveva ricordato e che il padre non avrebbe potuto ammettere un ' altra , piuttosto sull ' unione di Saint - John , mi ero unita a lavorare nel suo contegno .\n",
      "--------------------------------------------------------------------------------\n",
      "    SOURCE: Levin did not get in, but followed the calèche.\n",
      "    TARGET: Levin non montò in carrozza, ma tenne dietro.\n",
      " PREDICTED: Levin non andò in carrozza , ma dietro la carrozza .\n",
      "--------------------------------------------------------------------------------\n",
      "Deleted opus_books_weights/tmodel_055.pt\n"
     ]
    },
    {
     "name": "stderr",
     "output_type": "stream",
     "text": [
      "Processing Epoch 57: 100%|██████████| 228/228 [03:05<00:00,  1.23it/s, loss=1.804]\n",
      "stty: 'standard input': Inappropriate ioctl for device\n"
     ]
    },
    {
     "name": "stdout",
     "output_type": "stream",
     "text": [
      "--------------------------------------------------------------------------------\n",
      "    SOURCE: He liked talking of Shakespeare, Raphael and Beethoven, and about the importance of the new schools of poetry and music, which in his mind were all classified with very logical exactitude.\n",
      "    TARGET: Gli piaceva parlare di Shakespeare, di Raffaello, di Beethoven, del valore delle nuove correnti poetiche e musicali che venivano tutte classificate da lui con una logica molto chiara.\n",
      " PREDICTED: Aveva tentato di parlare di Raffaello , di e di degli antichi nuovi acquisti dalla musica e di musica , che in mente tutti gli erano stati condotti con maggiore leggerezza di .\n",
      "--------------------------------------------------------------------------------\n",
      "    SOURCE: An old woman we met in the shop then kindly took us along with her for a quarter of a mile, to a lady friend of hers, who occasionally let rooms to gentlemen.\n",
      "    TARGET: Una vecchia incontrata nella bottega ci condusse gentilmente con lei per un quarto di miglio da una donnetta amica sua, che talvolta affittava delle stanze a dei signori.\n",
      " PREDICTED: Una vecchia donna ci riunimmo di nuovo in bottega per noi due a lavorar di un quarto di miglio da una signora di un amico suo , che quasi tutti i signori .\n",
      "--------------------------------------------------------------------------------\n",
      "Deleted opus_books_weights/tmodel_056.pt\n"
     ]
    },
    {
     "name": "stderr",
     "output_type": "stream",
     "text": [
      "Processing Epoch 58: 100%|██████████| 228/228 [03:05<00:00,  1.23it/s, loss=1.767]\n",
      "stty: 'standard input': Inappropriate ioctl for device\n"
     ]
    },
    {
     "name": "stdout",
     "output_type": "stream",
     "text": [
      "--------------------------------------------------------------------------------\n",
      "    SOURCE: Then George tried taking it out with him late at night, and practising round the square.\n",
      "    TARGET: Poi Giorgio tentò di portar fuori il banjo di notte e di esercitarsi nella piazzetta.\n",
      " PREDICTED: Allora Giorgio tentò di con lui la notte e di portar di tutta la notte a scuola .\n",
      "--------------------------------------------------------------------------------\n",
      "    SOURCE: I am glad they happened to be there.\n",
      "    TARGET: Son lieto che l’avessero costruito lì.\n",
      " PREDICTED: Sono felice di essere qui .\n",
      "--------------------------------------------------------------------------------\n",
      "Deleted opus_books_weights/tmodel_057.pt\n"
     ]
    },
    {
     "name": "stderr",
     "output_type": "stream",
     "text": [
      "Processing Epoch 59: 100%|██████████| 228/228 [03:05<00:00,  1.23it/s, loss=1.772]\n",
      "stty: 'standard input': Inappropriate ioctl for device\n"
     ]
    },
    {
     "name": "stdout",
     "output_type": "stream",
     "text": [
      "--------------------------------------------------------------------------------\n",
      "    SOURCE: I don't know how many of the fine people at the Leas are coming with him: he sends directions for all the best bedrooms to be prepared; and the library and drawing-rooms are to be cleaned out; I am to get more kitchen hands from the George Inn, at Millcote, and from wherever else I can; and the ladies will bring their maids and the gentlemen their valets: so we shall have a full house of it.\"\n",
      "    TARGET: Dice che si preparino le più belle camere della villa, la biblioteca e la sala. Mi ordina pure di far venir gente da Millcote per aiutare in cucina.\n",
      " PREDICTED: Le signore che si alla bella villa del signor Eshton si avvicinò alla casa . — Grazie a tutti gli ospiti per fare alle altre ragazze ; devo andar via di qui .\n",
      "--------------------------------------------------------------------------------\n",
      "    SOURCE: 'I have,' answered Golenishchev. 'Of course he is not without talent, but his tendency is quite a false one.\n",
      "    TARGET: — Ho visto — rispose Golenišcev. — S’intende, egli non è privo di talento, ma è su di una via completamente falsa.\n",
      " PREDICTED: — Ho detto — rispose Golenišcev . — S ’ intende , egli non è superiore , ma la sua tendenza è proprio un ’ falsa .\n",
      "--------------------------------------------------------------------------------\n",
      "Deleted opus_books_weights/tmodel_058.pt\n"
     ]
    },
    {
     "name": "stderr",
     "output_type": "stream",
     "text": [
      "Processing Epoch 60: 100%|██████████| 228/228 [03:05<00:00,  1.23it/s, loss=1.811]\n",
      "stty: 'standard input': Inappropriate ioctl for device\n"
     ]
    },
    {
     "name": "stdout",
     "output_type": "stream",
     "text": [
      "--------------------------------------------------------------------------------\n",
      "    SOURCE: It did look a lot, and Harris and I began to feel rather ashamed of it, though why we should be, I can't see.\n",
      "    TARGET: Tutto aveva l’apparenza d’un lotto da portare a vendere, e Harris e io ce ne vergognammo un po’, benchè non ne sapessimo dir la ragione.\n",
      " PREDICTED: Ne rimaneva un ’ , e Harris cominciai a ricordarmi che era un po ’ piuttosto vergognoso , benchè non ci saremmo stati contenti .\n",
      "--------------------------------------------------------------------------------\n",
      "    SOURCE: \"I thought not.\n",
      "    TARGET: — Ne ero sicuro.\n",
      " PREDICTED: — Non l ' ho pensato .\n",
      "--------------------------------------------------------------------------------\n",
      "Deleted opus_books_weights/tmodel_059.pt\n"
     ]
    },
    {
     "name": "stderr",
     "output_type": "stream",
     "text": [
      "Processing Epoch 61: 100%|██████████| 228/228 [03:05<00:00,  1.23it/s, loss=1.714]\n",
      "stty: 'standard input': Inappropriate ioctl for device\n"
     ]
    },
    {
     "name": "stdout",
     "output_type": "stream",
     "text": [
      "--------------------------------------------------------------------------------\n",
      "    SOURCE: \"Their father is dead?\"\n",
      "    TARGET: — Il padre è morto?\n",
      " PREDICTED: — Il loro padre è morto ?\n",
      "--------------------------------------------------------------------------------\n",
      "    SOURCE: \"Mr. Rochester would be glad if you and your pupil would take tea with him in the drawing-room this evening,\" said she: \"he has been so much engaged all day that he could not ask to see you before.\"\n",
      "    TARGET: — Il signor Rochester sarebbe felice, — disse ella, — se voi e la vostra alunna voleste prendere stasera il tè con lui. È stato così occupato tutto il giorno che non ha potuto chiedere di vedervi.\n",
      " PREDICTED: — È contenta , — disse , — se la vostra alunna andrà in salotto per prendere il signor Rochester nella sala . È stato così occupato tutto quel giorno che non poteva vedervi .\n",
      "--------------------------------------------------------------------------------\n",
      "Deleted opus_books_weights/tmodel_060.pt\n"
     ]
    },
    {
     "name": "stderr",
     "output_type": "stream",
     "text": [
      "Processing Epoch 62: 100%|██████████| 228/228 [03:05<00:00,  1.23it/s, loss=1.725]\n",
      "stty: 'standard input': Inappropriate ioctl for device\n"
     ]
    },
    {
     "name": "stdout",
     "output_type": "stream",
     "text": [
      "--------------------------------------------------------------------------------\n",
      "    SOURCE: \"Did ever anybody see such a picture of passion!\"\n",
      "    TARGET: — Avete mai visto una rabbiosa come questa?\n",
      " PREDICTED: — Avete mai veduto un quadro così poco ?\n",
      "--------------------------------------------------------------------------------\n",
      "    SOURCE: 'It is both a virtue and a fault in you.\n",
      "    TARGET: Questo è il tuo pregio e il tuo difetto.\n",
      " PREDICTED: — E questa è un ’ altra virtù e la tua colpa .\n",
      "--------------------------------------------------------------------------------\n",
      "Deleted opus_books_weights/tmodel_061.pt\n"
     ]
    },
    {
     "name": "stderr",
     "output_type": "stream",
     "text": [
      "Processing Epoch 63: 100%|██████████| 228/228 [03:05<00:00,  1.23it/s, loss=1.747]\n",
      "stty: 'standard input': Inappropriate ioctl for device\n"
     ]
    },
    {
     "name": "stdout",
     "output_type": "stream",
     "text": [
      "--------------------------------------------------------------------------------\n",
      "    SOURCE: Everything now confirmed her view.\n",
      "    TARGET: E tutto adesso lo confermava.\n",
      " PREDICTED: Adesso adesso , tutto l ’ confermò il suo .\n",
      "--------------------------------------------------------------------------------\n",
      "    SOURCE: \"Yes, bonny wee thing, I'll wear you in my bosom, lest my jewel I should tyne.\"\n",
      "    TARGET: Sì, cara, e vi porterò sul cuore, come porto questo gioiello.\n",
      " PREDICTED: Sì , messaggero di sete , e vi chiamo sul suo petto quello che è ingiusto .\n",
      "--------------------------------------------------------------------------------\n",
      "Deleted opus_books_weights/tmodel_062.pt\n"
     ]
    },
    {
     "name": "stderr",
     "output_type": "stream",
     "text": [
      "Processing Epoch 64: 100%|██████████| 228/228 [03:05<00:00,  1.23it/s, loss=1.751]\n",
      "stty: 'standard input': Inappropriate ioctl for device\n"
     ]
    },
    {
     "name": "stdout",
     "output_type": "stream",
     "text": [
      "--------------------------------------------------------------------------------\n",
      "    SOURCE: Then he dashed on his great-coat and hat, and, seizing his umbrella, made for the front door.\n",
      "    TARGET: Poi si avventò al soprabito e al cappello, e, impugnando l’ombrello, si diresse alla porta di strada.\n",
      " PREDICTED: Poi si slanciò sull ’ orlo e , e , presala per un ombrello , si diede al parapetto .\n",
      "--------------------------------------------------------------------------------\n",
      "    SOURCE: He thinks it is only my over-scrupulous nature that makes me fear I am having more than my due; and that, as a matter of fact, I don't have half as much as I ought.\n",
      "    TARGET: La mia natura più che scrupolosa, egli dice, mi fa temere d’averne più di quanto me ne spetterebbe; ma che in realtà non me ne tocchi nemmeno la metà.\n",
      " PREDICTED: A me sembra che più forte mi sia di più accorto , che io abbia paura più che la mia volontà ; ed egli , come realmente non ci sarà sufficiente di quel che mi sembra .\n",
      "--------------------------------------------------------------------------------\n",
      "Deleted opus_books_weights/tmodel_063.pt\n"
     ]
    },
    {
     "name": "stderr",
     "output_type": "stream",
     "text": [
      "Processing Epoch 65: 100%|██████████| 228/228 [03:04<00:00,  1.23it/s, loss=1.701]\n",
      "stty: 'standard input': Inappropriate ioctl for device\n"
     ]
    },
    {
     "name": "stdout",
     "output_type": "stream",
     "text": [
      "--------------------------------------------------------------------------------\n",
      "    SOURCE: A bed supported on massive pillars of mahogany, hung with curtains of deep red damask, stood out like a tabernacle in the centre; the two large windows, with their blinds always drawn down, were half shrouded in festoons and falls of similar drapery; the carpet was red; the table at the foot of the bed was covered with a crimson cloth; the walls were a soft fawn colour with a blush of pink in it; the wardrobe, the toilet-table, the chairs were of darkly polished old mahogany.\n",
      "    TARGET: Le due grandi finestre, con le persiane chiuse, erano ornate di drappeggiamenti della stessa stoffa. Il tappeto era rosso, la tavola, collocata a piè del letto, era coperta con un panno rosso; i muri erano coperti di carta giallastra a rose; l'armadio, la toilette, le seggiole, erano di vecchio mogano ben lustro.\n",
      " PREDICTED: Un letto dalle finestre , con le tende di , erano nei punti delle finestre della stanza ; le finestre però si fermarono sopra la tavola , erano rosse e il tappeto coperto di fiori , erano sopra le finestre scure di mussolina , le finestre d ' argento .\n",
      "--------------------------------------------------------------------------------\n",
      "    SOURCE: Voytov, who was buying a horse from Vronsky, arrived, and Anna rose and left the room.\n",
      "    TARGET: Venne Vojtov, che aveva comprato uno stallone; Anna si alzò e uscì dalla stanza.\n",
      " PREDICTED: Vojtov , che aveva comprato una cavalla detta dal cavallo , e Anna si alzò dalla stanza .\n",
      "--------------------------------------------------------------------------------\n",
      "Deleted opus_books_weights/tmodel_064.pt\n"
     ]
    },
    {
     "name": "stderr",
     "output_type": "stream",
     "text": [
      "Processing Epoch 66: 100%|██████████| 228/228 [03:04<00:00,  1.23it/s, loss=1.702]\n",
      "stty: 'standard input': Inappropriate ioctl for device\n"
     ]
    },
    {
     "name": "stdout",
     "output_type": "stream",
     "text": [
      "--------------------------------------------------------------------------------\n",
      "    SOURCE: He had been called away by the sudden death of his father: he was at Marsh End now, and would very likely stay there a fortnight longer.\"\n",
      "    TARGET: È stato chiamato per la morte improvvisa di suo padre. È a Marsh-End, o forse tornerà fra una quindicina di giorni.\n",
      " PREDICTED: È stato chiamato da questa morte del padre e aggiunse che sarebbe Marsh - End , sarebbe stato meno che fra quindici giorni .\n",
      "--------------------------------------------------------------------------------\n",
      "    SOURCE: Anna went into Society as before, frequently visiting the Princess Betsy, and she met Vronsky everywhere.\n",
      "    TARGET: Anna continuò a frequentare il gran mondo, andava spesso, più che altrove, dalla principessa Betsy, e s’incontrava con Vronskij dovunque.\n",
      " PREDICTED: Anna entrò nella società come prima , per giungere ad Anna , s ’ incontrava con Betsy e Vronskij si aspettava dovunque .\n",
      "--------------------------------------------------------------------------------\n",
      "Deleted opus_books_weights/tmodel_065.pt\n"
     ]
    },
    {
     "name": "stderr",
     "output_type": "stream",
     "text": [
      "Processing Epoch 67: 100%|██████████| 228/228 [03:05<00:00,  1.23it/s, loss=1.676]\n",
      "stty: 'standard input': Inappropriate ioctl for device\n"
     ]
    },
    {
     "name": "stdout",
     "output_type": "stream",
     "text": [
      "--------------------------------------------------------------------------------\n",
      "    SOURCE: The Locrians were laid waste by a legate of Scipio, yet they were not avenged by him, nor was the insolence of the legate punished, owing entirely to his easy nature. Insomuch that someone in the Senate, wishing to excuse him, said there were many men who knew much better how not to err than to correct the errors of others.\n",
      "    TARGET: E' Locrensi, sendo stati da uno legato di Scipione destrutti, non furono da lui vendicati, né la insolenzia di quello legato corretta, nascendo tutto da quella sua natura facile; talmente che, volendolo alcuno in Senato escusare, disse come elli erano di molti uomini che sapevano meglio non errare, che correggere li errori.\n",
      " PREDICTED: E a uno legato da uno di Scipione , non di prima , né l ' el legato di quella el legato , da tutto el Senato , che , in Senato con quella sua natura , ce ne ’ fussino tanti uomini , che come adesso fussi più giusto .\n",
      "--------------------------------------------------------------------------------\n",
      "    SOURCE: \"Only four,\" answered George. \"It will be all right, if he's awake.\"\n",
      "    TARGET: — Quattro soltanto — rispose Giorgio. — Non vorrà dire, se è sveglio.\n",
      " PREDICTED: — Soltanto quattro — rispose Giorgio . — È inutile , se è sveglio .\n",
      "--------------------------------------------------------------------------------\n",
      "Deleted opus_books_weights/tmodel_066.pt\n"
     ]
    },
    {
     "name": "stderr",
     "output_type": "stream",
     "text": [
      "Processing Epoch 68: 100%|██████████| 228/228 [03:05<00:00,  1.23it/s, loss=1.648]\n",
      "stty: 'standard input': Inappropriate ioctl for device\n"
     ]
    },
    {
     "name": "stdout",
     "output_type": "stream",
     "text": [
      "--------------------------------------------------------------------------------\n",
      "    SOURCE: All this time the Queen had never left off staring at the Hatter, and, just as the Dormouse crossed the court, she said to one of the officers of the court, 'Bring me the list of the singers in the last concert!' on which the wretched Hatter trembled so, that he shook both his shoes off.\n",
      "    TARGET: Intanto la Regina non aveva mai distolto lo sguardo dal Cappellaio e mentre il Ghiro attraversava la sala del tribunale, disse a un usciere: - Dammi la lista dei cantanti dell'ultimo concerto! A quest'ordine il Cappellaio si mise a tremare così che le scarpe gli sfuggirono dai piedi.\n",
      " PREDICTED: Tutta la Regina non aveva ancora nascosta il Cappellaio , e , appunto il Ghiro , disse la corte , disse a un gruppo di ufficiali , : “ Un della lista dei cantanti in corte ! la lista dei cantanti sul Cappellaio , e si mise a tremare che il Cappellaio gli strinse così la testa .\n",
      "--------------------------------------------------------------------------------\n",
      "    SOURCE: CHAPTER XXX\n",
      "    TARGET: XXX\n",
      " PREDICTED: XXX\n",
      "--------------------------------------------------------------------------------\n",
      "Deleted opus_books_weights/tmodel_067.pt\n"
     ]
    },
    {
     "name": "stderr",
     "output_type": "stream",
     "text": [
      "Processing Epoch 69: 100%|██████████| 228/228 [03:05<00:00,  1.23it/s, loss=1.666]\n",
      "stty: 'standard input': Inappropriate ioctl for device\n"
     ]
    },
    {
     "name": "stdout",
     "output_type": "stream",
     "text": [
      "--------------------------------------------------------------------------------\n",
      "    SOURCE: \"Yes.\"\n",
      "    TARGET: — Sì.\n",
      " PREDICTED: — Sì .\n",
      "--------------------------------------------------------------------------------\n",
      "    SOURCE: But you had better tell us how the theory of rent can be...'\n",
      "    TARGET: No, ditemi, come la teoria della rendita può essere....\n",
      " PREDICTED: Ma , dimmi , come la teoria della rendita può essere ....\n",
      "--------------------------------------------------------------------------------\n",
      "Deleted opus_books_weights/tmodel_068.pt\n"
     ]
    },
    {
     "name": "stderr",
     "output_type": "stream",
     "text": [
      "Processing Epoch 70: 100%|██████████| 228/228 [03:05<00:00,  1.23it/s, loss=1.672]\n",
      "stty: 'standard input': Inappropriate ioctl for device\n"
     ]
    },
    {
     "name": "stdout",
     "output_type": "stream",
     "text": [
      "--------------------------------------------------------------------------------\n",
      "    SOURCE: 'Oh, it is terrible, terrible!\n",
      "    TARGET: — Ah, è terribile, terribile!\n",
      " PREDICTED: — Ah , tremendo , tremendo !\n",
      "--------------------------------------------------------------------------------\n",
      "    SOURCE: I got over the stile without a word, and meant to leave him calmly. An impulse held me fast--a force turned me round. I said--or something in me said for me, and in spite of me--\n",
      "    TARGET: Salii i gradini senza fiatare e volevo lasciarlo con calma, ma qualcosa mi tratteneva, una forza irresistibile costrinsemi a voltarmi e dissi, o meglio una voce a mia insaputa, gridò per me:\n",
      " PREDICTED: Salii i gradini senza che mi aveva , e volli per partire tranquillamente le mie parole , una sola mi sentii sollevata e mi feci un passo contro di me .\n",
      "--------------------------------------------------------------------------------\n",
      "Deleted opus_books_weights/tmodel_069.pt\n"
     ]
    },
    {
     "name": "stderr",
     "output_type": "stream",
     "text": [
      "Processing Epoch 71: 100%|██████████| 228/228 [03:05<00:00,  1.23it/s, loss=1.648]\n",
      "stty: 'standard input': Inappropriate ioctl for device\n"
     ]
    },
    {
     "name": "stdout",
     "output_type": "stream",
     "text": [
      "--------------------------------------------------------------------------------\n",
      "    SOURCE: The single fact that his wife, his Kitty, would be in the same room with a girl off the streets made him shudder with repulsion and horror.\n",
      "    TARGET: Già il solo fatto che sua moglie, la sua Kitty, sarebbe stata nella stessa stanza con una donna perduta, lo faceva rabbrividire di ribrezzo e di orrore.\n",
      " PREDICTED: E quanto più la moglie , Kitty , sarebbe stato nella stessa stanza con una ragazza , gli si accendeva il segno della conversazione con orrore e orrore .\n",
      "--------------------------------------------------------------------------------\n",
      "    SOURCE: 'That's nothing – only an old study,' he said.\n",
      "    TARGET: — Già, ecco, un vecchio studio — disse.\n",
      " PREDICTED: — Non è nulla , soltanto un vecchio studio — egli disse .\n",
      "--------------------------------------------------------------------------------\n",
      "Deleted opus_books_weights/tmodel_070.pt\n"
     ]
    },
    {
     "name": "stderr",
     "output_type": "stream",
     "text": [
      "Processing Epoch 72: 100%|██████████| 228/228 [03:05<00:00,  1.23it/s, loss=1.638]\n",
      "stty: 'standard input': Inappropriate ioctl for device\n"
     ]
    },
    {
     "name": "stdout",
     "output_type": "stream",
     "text": [
      "--------------------------------------------------------------------------------\n",
      "    SOURCE: \"Madam, Mrs. Harden says she has sent up the usual quantity.\"\n",
      "    TARGET: — Signorina, — disse, — la signora Harden assicura che ne ha mandato la solita quantità.\n",
      " PREDICTED: — Signora , la signora Stahl ha mandato , — ha mandato la via dell ' abitazione .\n",
      "--------------------------------------------------------------------------------\n",
      "    SOURCE: What do you fear?--that I shall not prove a good husband?\"\n",
      "    TARGET: Che cosa temete? Che forse io non sia un buon marito?\n",
      " PREDICTED: Che cosa avete paura ? Non sono un bene buono ?\n",
      "--------------------------------------------------------------------------------\n",
      "Deleted opus_books_weights/tmodel_071.pt\n"
     ]
    },
    {
     "name": "stderr",
     "output_type": "stream",
     "text": [
      "Processing Epoch 73: 100%|██████████| 228/228 [03:05<00:00,  1.23it/s, loss=1.625]\n",
      "stty: 'standard input': Inappropriate ioctl for device\n"
     ]
    },
    {
     "name": "stdout",
     "output_type": "stream",
     "text": [
      "--------------------------------------------------------------------------------\n",
      "    SOURCE: She knew now what consorting with gay people of Oblonsky's sort meant – it meant drinking and then driving somewhere...\n",
      "    TARGET: Frequentare dei buontemponi sul genere di Oblonskij, ella sapeva ormai che cosa significasse... significava bere, e, dopo aver bevuto, andare chi sa dove.\n",
      " PREDICTED: Capì ora , con l ’ allegria che delle persone di Stepan Arkad ’ ic : « Ma forse , bere la cosa e aveva costretto bere in qualche cosa .\n",
      "--------------------------------------------------------------------------------\n",
      "    SOURCE: 'It is out of the question in the present case,' said he. 'Only one measure is possible: involuntary detection confirmed by letters which I have.'\n",
      "    TARGET: — Questo è fuori questione nel caso presente — egli disse. — Qui una sola cosa è possibile: la prova del fatto è confermata dalle lettere che sono in mio possesso.\n",
      " PREDICTED: — È una questione del presente — disse . — È una sola questione di un solo affare è possibile : la quale prova è dell ’ indirizzo .\n",
      "--------------------------------------------------------------------------------\n",
      "Deleted opus_books_weights/tmodel_072.pt\n"
     ]
    },
    {
     "name": "stderr",
     "output_type": "stream",
     "text": [
      "Processing Epoch 74: 100%|██████████| 228/228 [03:05<00:00,  1.23it/s, loss=1.628]\n",
      "stty: 'standard input': Inappropriate ioctl for device\n"
     ]
    },
    {
     "name": "stdout",
     "output_type": "stream",
     "text": [
      "--------------------------------------------------------------------------------\n",
      "    SOURCE: He,' he meant Koznyshev, 'could have made the best match in Russia any time; now he is no longer so young, but all the same I am sure many would marry him even now...\n",
      "    TARGET: Lui — “lui” era naturalmente Sergej Ivanovic — ha sempre potuto rappresentare il miglior partito della Russia; ora non è più tanto giovane, tuttavia, molte lo sposerebbero....\n",
      " PREDICTED: Egli Sergej Ivanovic — disse Sergej Ivanovic — il miglior partito da farsi la migliore in Russia ; adesso non è più giovane , e tuttavia tutte le persone che lo avrebbero sposato anche adesso ...\n",
      "--------------------------------------------------------------------------------\n",
      "    SOURCE: When he saw Kitty who was going away, and her mother who had met her on the steps, Levin, flushed with the violent exercise, stood still and considered.\n",
      "    TARGET: Nel veder Kitty che andava via e la madre che la raggiungeva sulle scale, Levin, tutto rosso ancora per il movimento brusco che aveva fatto, si fermò a riflettere.\n",
      " PREDICTED: Tornato avanti , Kitty che veniva via , e la madre che le aveva incontrato il passo su di lui , Levin , col quale era gagliardo movimento brusco e si fermò .\n",
      "--------------------------------------------------------------------------------\n",
      "Deleted opus_books_weights/tmodel_073.pt\n"
     ]
    },
    {
     "name": "stderr",
     "output_type": "stream",
     "text": [
      "Processing Epoch 75: 100%|██████████| 228/228 [03:05<00:00,  1.23it/s, loss=1.603]\n",
      "stty: 'standard input': Inappropriate ioctl for device\n"
     ]
    },
    {
     "name": "stdout",
     "output_type": "stream",
     "text": [
      "--------------------------------------------------------------------------------\n",
      "    SOURCE: While I was thus looking on them, I perceived, by my perspective, two miserable wretches dragged from the boats, where, it seems, they were laid by, and were now brought out for the slaughter.\n",
      "    TARGET: Mentre guardavali così col mio cannocchiale, vidi due miserabili trascinati fuori delle scialuppe, ore erano stati lasciati, e menati alla spiaggia per essere macellati.\n",
      " PREDICTED: Mentre io si in faccia , vidi la mia impresa , dal mio cannocchiale degli miserabili barche , facendo essere e avere ora la golpe .\n",
      "--------------------------------------------------------------------------------\n",
      "    SOURCE: But question Oblonsky as he would, as to whether he could not obtain a certificate without going to communion, Oblonsky declared that he must go through with it.\n",
      "    TARGET: Ma per quanto interrogasse Stepan Arkad’ic se fosse possibile ricevere il certificato senza confessarsi, Stepan Arkad’ic dichiarava che non era possibile.\n",
      " PREDICTED: Ma per quanto si faceva più alla domanda , come se non avesse potuto prendere un certificato che Stepan Arkad ’ ic , Stepan Arkad ’ ic faceva del tutto per mezzo a lui .\n",
      "--------------------------------------------------------------------------------\n",
      "Deleted opus_books_weights/tmodel_074.pt\n"
     ]
    },
    {
     "name": "stderr",
     "output_type": "stream",
     "text": [
      "Processing Epoch 76: 100%|██████████| 228/228 [03:05<00:00,  1.23it/s, loss=1.632]\n",
      "stty: 'standard input': Inappropriate ioctl for device\n"
     ]
    },
    {
     "name": "stdout",
     "output_type": "stream",
     "text": [
      "--------------------------------------------------------------------------------\n",
      "    SOURCE: 'Schools? What for?'\n",
      "    TARGET: — Perché le scuole?\n",
      " PREDICTED: — Ma che sono ?\n",
      "--------------------------------------------------------------------------------\n",
      "    SOURCE: Every one used to say, \"He is so clever, so clever.\" I alone said that he was stupid.\n",
      "    TARGET: Tutti dicevano ch’era intelligente, io sola dicevo ch’era scemo.\n",
      " PREDICTED: Ogni cosa era così simpatica , ed è così simpatica , che mi ha detto .\n",
      "--------------------------------------------------------------------------------\n",
      "Deleted opus_books_weights/tmodel_075.pt\n"
     ]
    },
    {
     "name": "stderr",
     "output_type": "stream",
     "text": [
      "Processing Epoch 77: 100%|██████████| 228/228 [03:05<00:00,  1.23it/s, loss=1.631]\n",
      "stty: 'standard input': Inappropriate ioctl for device\n"
     ]
    },
    {
     "name": "stdout",
     "output_type": "stream",
     "text": [
      "--------------------------------------------------------------------------------\n",
      "    SOURCE: 'It matters a good deal to me,' said Alice hastily; 'but I'm not looking for eggs, as it happens; and if I was, I shouldn't want yours: I don't like them raw.'\n",
      "    TARGET: — Ma importa moltissimo a me, — rispose subito Alice. — A ogni modo non vado in cerca di uova; e anche se ne cercassi, non ne vorrei delle tue; crude non mi piacciono.\n",
      " PREDICTED: — molto , — disse in fretta Alice ; — ma non mi sento neppure un po ' di uova ; perchè se fossi , non avrei voluto .\n",
      "--------------------------------------------------------------------------------\n",
      "    SOURCE: 'I must see Alexis,' as she called Vronsky in her thoughts. 'He alone can tell me what to do.\n",
      "    TARGET: «Devo vedere Aleksej — così nel pensiero chiamava Vronskij — egli solo potrà dirmi cosa devo fare.\n",
      " PREDICTED: « Devo vedo Aleksej — gli diceva in sé con i suoi pensieri . — Sta solo dire quello che devo fare .\n",
      "--------------------------------------------------------------------------------\n",
      "Deleted opus_books_weights/tmodel_076.pt\n"
     ]
    },
    {
     "name": "stderr",
     "output_type": "stream",
     "text": [
      "Processing Epoch 78: 100%|██████████| 228/228 [03:05<00:00,  1.23it/s, loss=1.634]\n",
      "stty: 'standard input': Inappropriate ioctl for device\n"
     ]
    },
    {
     "name": "stdout",
     "output_type": "stream",
     "text": [
      "--------------------------------------------------------------------------------\n",
      "    SOURCE: 'Of course I understood that this only meant you wanted to see me, and was very pleased.\n",
      "    TARGET: — Ma io ho capito, s’intende — disse Levin — questo vuol dire soltanto che volete vedermi, e io ne sono molto contento.\n",
      " PREDICTED: “ S ’ intende , io capì che questo solo non ha fatto notare la cosa che volevo e mi sono molto contento .\n",
      "--------------------------------------------------------------------------------\n",
      "    SOURCE: Let her identity, her connection with yourself, be buried in oblivion: you are bound to impart them to no living being. Place her in safety and comfort: shelter her degradation with secrecy, and leave her.'\n",
      "    TARGET: Serba il silenzio sull'essere suo, non dir nulla a nessuno; mettila in luogo acconcio e sicuro, nascondi bene la sua vergogna e lasciala. —\n",
      " PREDICTED: la , che non vi di continuo che non fareste nulla a : \" di stare in casa e di provare a sopportare la sua umiliazione .\n",
      "--------------------------------------------------------------------------------\n",
      "Deleted opus_books_weights/tmodel_077.pt\n"
     ]
    },
    {
     "name": "stderr",
     "output_type": "stream",
     "text": [
      "Processing Epoch 79: 100%|██████████| 228/228 [03:05<00:00,  1.23it/s, loss=1.590]\n",
      "stty: 'standard input': Inappropriate ioctl for device\n"
     ]
    },
    {
     "name": "stdout",
     "output_type": "stream",
     "text": [
      "--------------------------------------------------------------------------------\n",
      "    SOURCE: Even in that obscure position, Miss Scatcherd continued to make her an object of constant notice: she was continually addressing to her such phrases as the following:--\n",
      "    TARGET: Ella si voltava sempre verso l'educanda per dirle:\n",
      " PREDICTED: Perfino nel far così piano la signorina Scatcherd continuava a far tutta la meraviglia ; essa era occupata a cambiar così spesso la parola , il che dava sul :\n",
      "--------------------------------------------------------------------------------\n",
      "    SOURCE: Vanka, with evident desire to save her every moment of unnecessary exertion, hurriedly caught the hay in his outspread arms and smoothed it evenly in the cart.\n",
      "    TARGET: Ivan, svelto, cercando evidentemente di risparmiarle ogni più piccolo sforzo, afferrava, aprendo larghe le braccia, la forcata che gli veniva tesa e l’assestava sul carro.\n",
      " PREDICTED: Ivan , evidentemente , con ogni desiderio di ogni sforzo , girò in fretta i delle braccia nelle braccia nude e le degli aratri .\n",
      "--------------------------------------------------------------------------------\n",
      "Deleted opus_books_weights/tmodel_078.pt\n"
     ]
    },
    {
     "name": "stderr",
     "output_type": "stream",
     "text": [
      "Processing Epoch 80: 100%|██████████| 228/228 [03:05<00:00,  1.23it/s, loss=1.599]\n",
      "stty: 'standard input': Inappropriate ioctl for device\n"
     ]
    },
    {
     "name": "stdout",
     "output_type": "stream",
     "text": [
      "--------------------------------------------------------------------------------\n",
      "    SOURCE: CHAPTER VII\n",
      "    TARGET: VII\n",
      " PREDICTED: VII\n",
      "--------------------------------------------------------------------------------\n",
      "    SOURCE: But Anna's aunt intimated to him, through an acquaintance, that he had already compromised the girl, and that he was in honour bound to propose to her.\n",
      "    TARGET: Ma la zia di Anna gli fece giungere all’orecchio, per mezzo di un conoscente, ch’egli si era già compromesso con la ragazza e che un dovere di onore lo obbligava a far la sua domanda di matrimonio.\n",
      " PREDICTED: Ma la zia di Anna gli fece sapere , per la stazione e , che si era già accostata con l ’ onore di , e che era in onore di fare la sua domanda di matrimonio .\n",
      "--------------------------------------------------------------------------------\n",
      "Deleted opus_books_weights/tmodel_079.pt\n"
     ]
    },
    {
     "name": "stderr",
     "output_type": "stream",
     "text": [
      "Processing Epoch 81: 100%|██████████| 228/228 [03:05<00:00,  1.23it/s, loss=1.593]\n",
      "stty: 'standard input': Inappropriate ioctl for device\n"
     ]
    },
    {
     "name": "stdout",
     "output_type": "stream",
     "text": [
      "--------------------------------------------------------------------------------\n",
      "    SOURCE: 'I will fetch it at once.\n",
      "    TARGET: — La porto subito.\n",
      " PREDICTED: — Ci andrò a prendere subito .\n",
      "--------------------------------------------------------------------------------\n",
      "    SOURCE: She stood in the doorway with Shcherbatsky and was looking at him.\n",
      "    TARGET: Ella stava dritta sulla porta con Šcerbackij e lo guardava.\n",
      " PREDICTED: Ella stava dritto nella porta con Šcerbackij e lo guardava .\n",
      "--------------------------------------------------------------------------------\n",
      "Deleted opus_books_weights/tmodel_080.pt\n"
     ]
    },
    {
     "name": "stderr",
     "output_type": "stream",
     "text": [
      "Processing Epoch 82: 100%|██████████| 228/228 [03:05<00:00,  1.23it/s, loss=1.580]\n",
      "stty: 'standard input': Inappropriate ioctl for device\n"
     ]
    },
    {
     "name": "stdout",
     "output_type": "stream",
     "text": [
      "--------------------------------------------------------------------------------\n",
      "    SOURCE: 'Well, have you settled the business or not?\n",
      "    TARGET: — Ma voi l’affare lo avete concluso sì o no?\n",
      " PREDICTED: — Ebbene , ecco che tu mi ha fatto il lavoro ?\n",
      "--------------------------------------------------------------------------------\n",
      "    SOURCE: 'Because there's nothing to do!'\n",
      "    TARGET: — Ma perché qui non avete nulla da fare.\n",
      " PREDICTED: — Perché non c ’ è nulla da fare .\n",
      "--------------------------------------------------------------------------------\n",
      "Deleted opus_books_weights/tmodel_081.pt\n"
     ]
    },
    {
     "name": "stderr",
     "output_type": "stream",
     "text": [
      "Processing Epoch 83: 100%|██████████| 228/228 [03:05<00:00,  1.23it/s, loss=1.605]\n",
      "stty: 'standard input': Inappropriate ioctl for device\n"
     ]
    },
    {
     "name": "stdout",
     "output_type": "stream",
     "text": [
      "--------------------------------------------------------------------------------\n",
      "    SOURCE: I did not even know that you had arrived; very glad to see you.'\n",
      "    TARGET: Son contento di vedervi, molto. Il vecchio principe parlava a Levin a volte col tu, a volte col voi.\n",
      " PREDICTED: Non sapevo neppure che foste in società .\n",
      "--------------------------------------------------------------------------------\n",
      "    SOURCE: Mrs. Reed took her hand away, and, turning her face rather from me, she remarked that the night was warm.\n",
      "    TARGET: La signora Reed ritirò la mano e, allontanando la faccia da me, osservò che faceva caldo quella sera.\n",
      " PREDICTED: La signora Reed tolse la mano , e si voltò a guardare il viso e mi disse che la notte stava caldo .\n",
      "--------------------------------------------------------------------------------\n",
      "Deleted opus_books_weights/tmodel_082.pt\n"
     ]
    },
    {
     "name": "stderr",
     "output_type": "stream",
     "text": [
      "Processing Epoch 84: 100%|██████████| 228/228 [03:05<00:00,  1.23it/s, loss=1.597]\n",
      "stty: 'standard input': Inappropriate ioctl for device\n"
     ]
    },
    {
     "name": "stdout",
     "output_type": "stream",
     "text": [
      "--------------------------------------------------------------------------------\n",
      "    SOURCE: 'I thought you meant to run away,' she said, smiling at him.\n",
      "    TARGET: — Credevo che già te ne volessi fuggire — disse lei, sorridendogli.\n",
      " PREDICTED: — Pensavo che ti andare via di corsa — ella disse , sorridendo .\n",
      "--------------------------------------------------------------------------------\n",
      "    SOURCE: We had a good ship, but she was deep laden, and wallowed in the sea, so that the seamen every now and then cried out she would founder.\n",
      "    TARGET: Certo avevamo una buona nave, ma enormemente carica, e si abbassava tanto che i marinai gridavano ad ogni momento: E lì lì per andare per occhio.\n",
      " PREDICTED: Avevamo un buon vascello , ma era sereno , si scorgeva nell ’ acqua , che i marinai il mare , e poi tutti i marinai gridò :\n",
      "--------------------------------------------------------------------------------\n",
      "Deleted opus_books_weights/tmodel_083.pt\n"
     ]
    },
    {
     "name": "stderr",
     "output_type": "stream",
     "text": [
      "Processing Epoch 85: 100%|██████████| 228/228 [03:05<00:00,  1.23it/s, loss=1.598]\n",
      "stty: 'standard input': Inappropriate ioctl for device\n"
     ]
    },
    {
     "name": "stdout",
     "output_type": "stream",
     "text": [
      "--------------------------------------------------------------------------------\n",
      "    SOURCE: All these relics gave to the third storey of Thornfield Hall the aspect of a home of the past: a shrine of memory.\n",
      "    TARGET: Tutto questo dava al terzo piano di Thornfield l’aspetto di un reliquiario di vecchi ricordi.\n",
      " PREDICTED: Tutto questo “ al piano di Thornfield l ' aspetto di una casa di un vestito titolare .\n",
      "--------------------------------------------------------------------------------\n",
      "    SOURCE: I approached my cheek to her lips: she would not touch it.\n",
      "    TARGET: Avvicinai la guancia alle sue labbra, ma essa non volle toccarla.\n",
      " PREDICTED: La guancia si avvicinò alla guancia ; ella non la .\n",
      "--------------------------------------------------------------------------------\n",
      "Deleted opus_books_weights/tmodel_084.pt\n"
     ]
    },
    {
     "name": "stderr",
     "output_type": "stream",
     "text": [
      "Processing Epoch 86: 100%|██████████| 228/228 [03:05<00:00,  1.23it/s, loss=1.550]\n",
      "stty: 'standard input': Inappropriate ioctl for device\n"
     ]
    },
    {
     "name": "stdout",
     "output_type": "stream",
     "text": [
      "--------------------------------------------------------------------------------\n",
      "    SOURCE: It will expiate at God's tribunal.\n",
      "    TARGET: E questa sarà un'espiazione al tribunale di Dio.\n",
      " PREDICTED: Proverò a un giudice di pace al tribunale .\n",
      "--------------------------------------------------------------------------------\n",
      "    SOURCE: Many diverse suppositions as to what he was about to say flitted through her brain. 'He will ask me to come and stay with them and bring the children, and I shall have to refuse; or to get together a circle for Anna in Moscow...\n",
      "    TARGET: Le più varie supposizioni su quello ch’egli stava per dirle, le balenarono in mente; prenderà a dirmi di voler venire a trovar noi e i bambini, e io dovrò dirgli di no; oppure di predisporre un certo ambiente per Anna a Mosca....\n",
      " PREDICTED: Le più svariate condizioni soprattutto , quando cominciava a parlare dinanzi alla testa ; mi chiedete a stento e a rimanere i bambini i bambini e io avrei rifiutato di prendere interesse ; o per Anna a un altro circolo per Anna .\n",
      "--------------------------------------------------------------------------------\n",
      "Deleted opus_books_weights/tmodel_085.pt\n"
     ]
    },
    {
     "name": "stderr",
     "output_type": "stream",
     "text": [
      "Processing Epoch 87: 100%|██████████| 228/228 [03:05<00:00,  1.23it/s, loss=1.572]\n",
      "stty: 'standard input': Inappropriate ioctl for device\n"
     ]
    },
    {
     "name": "stdout",
     "output_type": "stream",
     "text": [
      "--------------------------------------------------------------------------------\n",
      "    SOURCE: What became of my second brother I never knew, any more than my father or mother knew what became of me.\n",
      "    TARGET: Che cosa addivenisse dell’altro mio fratello, non giunsi a saperlo mai più di quello che i miei genitori abbiano saputo in appresso di me.\n",
      " PREDICTED: Non so più cosa che mio fratello , d ’ un altro che mia madre non ne .\n",
      "--------------------------------------------------------------------------------\n",
      "    SOURCE: Only Constantine Levin had not arrived.\n",
      "    TARGET: Mancava soltanto Konstantin Levin.\n",
      " PREDICTED: Solo Konstantin Levin non l ’ aveva mai trovato .\n",
      "--------------------------------------------------------------------------------\n",
      "Deleted opus_books_weights/tmodel_086.pt\n"
     ]
    },
    {
     "name": "stderr",
     "output_type": "stream",
     "text": [
      "Processing Epoch 88: 100%|██████████| 228/228 [03:05<00:00,  1.23it/s, loss=1.582]\n",
      "stty: 'standard input': Inappropriate ioctl for device\n"
     ]
    },
    {
     "name": "stdout",
     "output_type": "stream",
     "text": [
      "--------------------------------------------------------------------------------\n",
      "    SOURCE: Is it the younger one?\n",
      "    TARGET: Quello più giovane, eh?\n",
      " PREDICTED: È forse più giovane ?\n",
      "--------------------------------------------------------------------------------\n",
      "    SOURCE: \"Where do you see the necessity?\" he asked suddenly.\n",
      "    TARGET: — Dove vedete questa necessità? — mi domandò a un tratto. — Dove?\n",
      " PREDICTED: — Dove vedete , la necessità della necessità ? — mi domandò a un tratto .\n",
      "--------------------------------------------------------------------------------\n",
      "Deleted opus_books_weights/tmodel_087.pt\n"
     ]
    },
    {
     "name": "stderr",
     "output_type": "stream",
     "text": [
      "Processing Epoch 89: 100%|██████████| 228/228 [03:05<00:00,  1.23it/s, loss=1.559]\n",
      "stty: 'standard input': Inappropriate ioctl for device\n"
     ]
    },
    {
     "name": "stdout",
     "output_type": "stream",
     "text": [
      "--------------------------------------------------------------------------------\n",
      "    SOURCE: She thought of his calmness, and a feeling of vexation with him made her tear the paper to pieces, with the one sentence written on it.\n",
      "    TARGET: Pensò alla pace perduta, sentì rancore verso l’amante e con dispetto strappò in piccoli pezzi il foglietto con la frase scrittavi.\n",
      " PREDICTED: Credeva di essere la calma della sua calma e un senso di agitazione che gli faceva sobbalzare a ogni effetto del foglio .\n",
      "--------------------------------------------------------------------------------\n",
      "    SOURCE: Gentlemen, my plan is broken up:--what this lawyer and his client say is true: I have been married, and the woman to whom I was married lives!\n",
      "    TARGET: \"Signore, il mio piano è sventato; quel legale e il suo cliente hanno detto la verità. Mia moglie vive.\n",
      " PREDICTED: \" Signori , il mio piano è vero , — disse l ' avvocato . — È vero , vero , e la donna mi ha sposata .\n",
      "--------------------------------------------------------------------------------\n",
      "Deleted opus_books_weights/tmodel_088.pt\n"
     ]
    },
    {
     "name": "stderr",
     "output_type": "stream",
     "text": [
      "Processing Epoch 90: 100%|██████████| 228/228 [03:05<00:00,  1.23it/s, loss=1.580]\n",
      "stty: 'standard input': Inappropriate ioctl for device\n"
     ]
    },
    {
     "name": "stdout",
     "output_type": "stream",
     "text": [
      "--------------------------------------------------------------------------------\n",
      "    SOURCE: In an instant his whole picture became alive before his eyes, with the inexpressible complexity of everything that lives.\n",
      "    TARGET: Improvvisamente il quadro tornò a vivere dinanzi a lui con tutta l’indicibile complessità di quello che vive.\n",
      " PREDICTED: Per un attimo il quadro era vivo dinanzi a lui con l ’ effetto della complesso di tutto nuova vita .\n",
      "--------------------------------------------------------------------------------\n",
      "    SOURCE: It need not be wondered at if all these things took me up most part of the third year of my abode here; for it is to be observed that in the intervals of these things I had my new harvest and husbandry to manage; for I reaped my corn in its season, and carried it home as well as I could, and laid it up in the ear, in my large baskets, till I had time to rub it out, for I had no floor to thrash it on, or instrument to thrash it with.\n",
      "    TARGET: Non è meraviglia se tutti questi lavori mi portarono via la maggior parte del terzo anno del mio soggiorno in quest’isola; perchè e da osservarsi che nell’intervallo di tali lavori ebbi anche l’altro della mietitura e di tirarmi a casa il mio ricolto: operazioni che eseguii quando ne fu la stagione alla meglio che potei, collocando cioè le spighe ne’ miei ampi canestri, per isgranarle indi a suo tempo, perchè non aveva nè aia su cui trebbiarle, nè una trebbia per eseguire con essa la separazione del grano dalla paglia.\n",
      " PREDICTED: Non vi è alcuna prova se tutte queste cose mi la parte del mio anno ove si donde fossero tali considerazioni : perchè cioè di tal uopo , che in poi nelle cose di quest ’ isola e del lavoro nuovo ricolto per procurarmi le cure ove mi ; perchè , a guisa che , l ’ impossibilità di dai miei lavori , e io non aveva il tempo di su le faccende durante il mio grano , finchè non aveva , non aveva il tempo di su le mie munizioni , non aveva da prendere fastidio .\n",
      "--------------------------------------------------------------------------------\n",
      "Deleted opus_books_weights/tmodel_089.pt\n"
     ]
    },
    {
     "name": "stderr",
     "output_type": "stream",
     "text": [
      "Processing Epoch 91: 100%|██████████| 228/228 [03:05<00:00,  1.23it/s, loss=1.553]\n",
      "stty: 'standard input': Inappropriate ioctl for device\n"
     ]
    },
    {
     "name": "stdout",
     "output_type": "stream",
     "text": [
      "--------------------------------------------------------------------------------\n",
      "    SOURCE: CHAPTER III — CONCERNING MIXED PRINCIPALITIES\n",
      "    TARGET: Cap.3 De principatibus mixtis. [De’ principati misti]\n",
      " PREDICTED: Cap . 13 De militibus , mixtis . [ De ’ principati ]\n",
      "--------------------------------------------------------------------------------\n",
      "    SOURCE: 'There, you see how nervous she is,' said the Englishman.\n",
      "    TARGET: —Ecco, vedete come è agitata — disse l’inglese.\n",
      " PREDICTED: — Ecco , vedi come è molto — disse l ’ inglese .\n",
      "--------------------------------------------------------------------------------\n",
      "Deleted opus_books_weights/tmodel_090.pt\n"
     ]
    },
    {
     "name": "stderr",
     "output_type": "stream",
     "text": [
      "Processing Epoch 92: 100%|██████████| 228/228 [03:05<00:00,  1.23it/s, loss=1.558]\n",
      "stty: 'standard input': Inappropriate ioctl for device\n"
     ]
    },
    {
     "name": "stdout",
     "output_type": "stream",
     "text": [
      "--------------------------------------------------------------------------------\n",
      "    SOURCE: In spite of the Elder's explanations that the hay had been loose, but had settled down in the stacks, and his swearing that all had been done in a 'godly way,' Levin insisted that the hay had been apportioned without his order and that he would not accept the stacks as containing fifty loads each.\n",
      "    TARGET: Malgrado lo starosta assicurasse che il fieno si rigonfia e poi nelle biche si abbassa e malgrado spergiurasse che tutto questo era andato secondo il volere di Dio, Levin rimase fermo nella sua determinazione: il fieno era stato diviso senza suo ordine e perciò egli non accettava quel fieno per cinquanta carrettate a bica.\n",
      " PREDICTED: Malgrado la divisione doveva ai nostri disegni del fieno , ma fin dove erano state a falciare col pelo conto del Signore , e questi tutte le sue ultime cose » Levin sentì che il fieno e che doveva prendere nella sua partenza , per far passare quello che non sarebbe potuto far venir fuori ai loro cinquanta carrettate .\n",
      "--------------------------------------------------------------------------------\n",
      "    SOURCE: And why have I come here?\n",
      "    TARGET: E perché son venuta qua?\n",
      " PREDICTED: Ma perché son venuto da me ?\n",
      "--------------------------------------------------------------------------------\n",
      "Deleted opus_books_weights/tmodel_091.pt\n"
     ]
    },
    {
     "name": "stderr",
     "output_type": "stream",
     "text": [
      "Processing Epoch 93: 100%|██████████| 228/228 [03:05<00:00,  1.23it/s, loss=1.549]\n",
      "stty: 'standard input': Inappropriate ioctl for device\n"
     ]
    },
    {
     "name": "stdout",
     "output_type": "stream",
     "text": [
      "--------------------------------------------------------------------------------\n",
      "    SOURCE: \"None,\" replied the man.\n",
      "    TARGET: — Gli unici — rispose l’altro.\n",
      " PREDICTED: — No , ne ho — rispose il contadino .\n",
      "--------------------------------------------------------------------------------\n",
      "    SOURCE: He also used to meet her at Hever Castle in Kent, and also somewhere near St. Albans.\n",
      "    TARGET: Egli anche soleva incontrarsi con lei al castello di Hever in Kent, e anche in qualche luogo nei pressi di Saint Albans.\n",
      " PREDICTED: Egli parlava anche a lei con l ' ardente di Marsh - End , anche un Saint Albans .\n",
      "--------------------------------------------------------------------------------\n",
      "Deleted opus_books_weights/tmodel_092.pt\n"
     ]
    },
    {
     "name": "stderr",
     "output_type": "stream",
     "text": [
      "Processing Epoch 94: 100%|██████████| 228/228 [03:05<00:00,  1.23it/s, loss=1.559]\n",
      "stty: 'standard input': Inappropriate ioctl for device\n"
     ]
    },
    {
     "name": "stdout",
     "output_type": "stream",
     "text": [
      "--------------------------------------------------------------------------------\n",
      "    SOURCE: The sufferings of the man who was your husband do not interest you.\n",
      "    TARGET: Ma le sofferenze di un uomo che è stato vostro marito non vi interessano.\n",
      " PREDICTED: Le sofferenze del principe che tuo marito non ti interessava di voi .\n",
      "--------------------------------------------------------------------------------\n",
      "    SOURCE: Gladdening words! It seemed I could hear all that was to come--whatever the disclosures might be--with comparative tranquillity. Since he was not in the grave, I could bear, I thought, to learn that he was at the Antipodes.\n",
      "    TARGET: Poiché non era nella tomba, potevo apprender tutto con una calma relativa; così domandai:\n",
      " PREDICTED: Le parole che poteva appagare alfine la mia mente era così calma .\n",
      "--------------------------------------------------------------------------------\n",
      "Deleted opus_books_weights/tmodel_093.pt\n"
     ]
    },
    {
     "name": "stderr",
     "output_type": "stream",
     "text": [
      "Processing Epoch 95: 100%|██████████| 228/228 [03:05<00:00,  1.23it/s, loss=1.537]\n",
      "stty: 'standard input': Inappropriate ioctl for device\n"
     ]
    },
    {
     "name": "stdout",
     "output_type": "stream",
     "text": [
      "--------------------------------------------------------------------------------\n",
      "    SOURCE: 'No, we went to the Tver Province.\n",
      "    TARGET: — Siamo andati nel governatorato di Tver’.\n",
      " PREDICTED: — No , andiamo a Tver ’!\n",
      "--------------------------------------------------------------------------------\n",
      "    SOURCE: He had long known all that, but it could not apply to his case.\n",
      "    TARGET: Questo lo sapeva da tempo, ma questo non poteva essere applicato al suo caso.\n",
      " PREDICTED: Egli conosceva tutto questo e non poteva la facoltà .\n",
      "--------------------------------------------------------------------------------\n",
      "Deleted opus_books_weights/tmodel_094.pt\n"
     ]
    },
    {
     "name": "stderr",
     "output_type": "stream",
     "text": [
      "Processing Epoch 96: 100%|██████████| 228/228 [03:05<00:00,  1.23it/s, loss=1.522]\n",
      "stty: 'standard input': Inappropriate ioctl for device\n"
     ]
    },
    {
     "name": "stdout",
     "output_type": "stream",
     "text": [
      "--------------------------------------------------------------------------------\n",
      "    SOURCE: Both the Commander and Vronsky were aware that Vronsky's name and his badge as aide-de-camp to the Emperor ought greatly to help in softening the Titular Councillor's feelings, and really these things had a partial effect; but the result of the peacemaking still remained doubtful, as Vronsky had explained.\n",
      "    TARGET: Il comandante del reggimento e Vronskij capivano entrambi che il nome di Vronskij e la sua qualifica di aiutante di campo dovevano contribuire non poco a rabbonire il consigliere titolare. E in realtà queste due prerogative risultarono in parte efficienti, ma la conclusione era rimasta dubbia, come del resto stava raccontando lo stesso Vronskij.\n",
      " PREDICTED: Il comandante del reggimento e Vronskij avevano capito che Vronskij erano le e le sue di campo non dovevano far nulla , nel nome di consigliere titolare a dar loro l ’ attività di brillante e cose tutte le cose del lavoro ; ma , come era rimasto sempre occupato , Vronskij .\n",
      "--------------------------------------------------------------------------------\n",
      "    SOURCE: Laska became more and more intent on her pursuit, the nearer she got to the hummocks.\n",
      "    TARGET: Nella ricerca, Laska, quanto più si avvicinava alle note montagnole, tanto più diventava seria.\n",
      " PREDICTED: Laska si mise ancor più , ancor più si levò alle montagnole .\n",
      "--------------------------------------------------------------------------------\n",
      "Deleted opus_books_weights/tmodel_095.pt\n"
     ]
    },
    {
     "name": "stderr",
     "output_type": "stream",
     "text": [
      "Processing Epoch 97: 100%|██████████| 228/228 [03:05<00:00,  1.23it/s, loss=1.541]\n",
      "stty: 'standard input': Inappropriate ioctl for device\n"
     ]
    },
    {
     "name": "stdout",
     "output_type": "stream",
     "text": [
      "--------------------------------------------------------------------------------\n",
      "    SOURCE: CHAPTER VIII—SURVEYS HIS POSITION\n",
      "    TARGET: Pellegrinaggio nell’isola.\n",
      " PREDICTED: Cap . .\n",
      "--------------------------------------------------------------------------------\n",
      "    SOURCE: Next came the guests, mostly Kings and Queens, and among them Alice recognised the White Rabbit: it was talking in a hurried nervous manner, smiling at everything that was said, and went by without noticing her.\n",
      "    TARGET: Poi sfilavano gli invitati, la maggior parte re e regine, e fra loro Alice riconobbe il Coniglio Bianco che discorreva in fretta nervosamente, sorridendo di qualunque cosa gli si dicesse. Egli passò innanzi senza badare ad Alice.\n",
      " PREDICTED: Dopo gli ospiti , più tardi , e i , e Alice sentì il Coniglio bianco ; ma parlava con tanta rapidità , si mise a dire : e senza aver notato nulla , si mise a guardare .\n",
      "--------------------------------------------------------------------------------\n",
      "Deleted opus_books_weights/tmodel_096.pt\n"
     ]
    },
    {
     "name": "stderr",
     "output_type": "stream",
     "text": [
      "Processing Epoch 98: 100%|██████████| 228/228 [03:05<00:00,  1.23it/s, loss=1.525]\n",
      "stty: 'standard input': Inappropriate ioctl for device\n"
     ]
    },
    {
     "name": "stdout",
     "output_type": "stream",
     "text": [
      "--------------------------------------------------------------------------------\n",
      "    SOURCE: Nothing occurred to my thought to contradict any of these conclusions, and therefore it rested upon me with the greater force, that it must needs be that God had appointed all this to befall me; that I was brought into this miserable circumstance by His direction, He having the sole power, not of me only, but of everything that happened in the world.\n",
      "    TARGET: Che cosa ho fatto io per essere trattato in simil maniera?» Ma quando io m’inoltrava in sì fatta investigazione sentiva tali rimproveri della mia coscienza, quali può meritarseli chi profferisce bestemmie; mi sembrò udire una voce che mi gridasse: «Sciagurato! domandi ancora che cosa hai fatto?\n",
      " PREDICTED: Nulla di aver pensato a quanti uffici , perchè sembra di liberarmi dal canto mio , affinchè si con più grande difficoltà , vale a dire che Dio avesse pensato tutto così poco ? Ho dunque fatto la mia ragione . qui da me medesimo , mi tenni in tal guisa il mondo , e poichè non so qual significato di tutto ciò .\n",
      "--------------------------------------------------------------------------------\n",
      "    SOURCE: We were not so uppish about what sort of hotel we would have, next time we went to Datchet.\n",
      "    TARGET: Non saremmo stati così schifiltosi intorno all’albergo, la prossima volta che saremmo arrivati a Datchet.\n",
      " PREDICTED: Non avevamo tanto forte verso quale la direzione , e noi verso Datchet .\n",
      "--------------------------------------------------------------------------------\n",
      "Deleted opus_books_weights/tmodel_097.pt\n"
     ]
    },
    {
     "name": "stderr",
     "output_type": "stream",
     "text": [
      "Processing Epoch 99: 100%|██████████| 228/228 [03:05<00:00,  1.23it/s, loss=1.513]\n",
      "stty: 'standard input': Inappropriate ioctl for device\n"
     ]
    },
    {
     "name": "stdout",
     "output_type": "stream",
     "text": [
      "--------------------------------------------------------------------------------\n",
      "    SOURCE: Dusk as it was, I had recognised him--it was my master, Edward Fairfax Rochester, and no other.\n",
      "    TARGET: Nonostante l'oscurità lo riconobbi: era il mio padrone, Edoardo Rochester.\n",
      " PREDICTED: Il signor Rochester lo riconobbi come era lui ; quella Fairfax aveva e nessuno più l ' altra .\n",
      "--------------------------------------------------------------------------------\n",
      "    SOURCE: All the apparently solid habits and rules of his life suddenly seemed false and inapplicable.\n",
      "    TARGET: Tutte le abitudini e regole di vita che gli erano parse sempre così salde, gli si erano improvvisamente mostrate mendaci e inapplicabili.\n",
      " PREDICTED: Tutte le abitudini e le sue abitudini erano continuamente su di un tratto si erano falso in modo di vita .\n",
      "--------------------------------------------------------------------------------\n",
      "Deleted opus_books_weights/tmodel_098.pt\n"
     ]
    },
    {
     "name": "stderr",
     "output_type": "stream",
     "text": [
      "Processing Epoch 100: 100%|██████████| 228/228 [03:05<00:00,  1.23it/s, loss=1.543]\n",
      "stty: 'standard input': Inappropriate ioctl for device\n"
     ]
    },
    {
     "name": "stdout",
     "output_type": "stream",
     "text": [
      "--------------------------------------------------------------------------------\n",
      "    SOURCE: 'It happened when I was still a child; I only knew of it from what I was told.\n",
      "    TARGET: — Successe quando ero bambino; lo so per quel che m’hanno detto.\n",
      " PREDICTED: Il fatto che fossi una bimba , ne io solo conoscevo , ma sapevo da che cosa mi avesse detto .\n",
      "--------------------------------------------------------------------------------\n",
      "    SOURCE: 'What?\n",
      "    TARGET: — Come?\n",
      " PREDICTED: — Cosa ?\n",
      "--------------------------------------------------------------------------------\n",
      "Deleted opus_books_weights/tmodel_099.pt\n"
     ]
    },
    {
     "name": "stderr",
     "output_type": "stream",
     "text": [
      "Processing Epoch 101: 100%|██████████| 228/228 [03:05<00:00,  1.23it/s, loss=1.534]\n",
      "stty: 'standard input': Inappropriate ioctl for device\n"
     ]
    },
    {
     "name": "stdout",
     "output_type": "stream",
     "text": [
      "--------------------------------------------------------------------------------\n",
      "    SOURCE: For some minutes the whole court was in confusion, getting the Dormouse turned out, and, by the time they had settled down again, the cook had disappeared.\n",
      "    TARGET: Durante qualche istante il tribunale fu una Babele, mentre il Ghiro veniva afferrato; e quando l'ordine fu ristabilito, la cuoca era scomparsa.\n",
      " PREDICTED: Per un momento tutta la corte era in confusione , il Ghiro si diede il momento di nuovo , e , per la cuoca si fu scomparsa .\n",
      "--------------------------------------------------------------------------------\n",
      "    SOURCE: 'Well, let us see which of them will step first on the mat!\n",
      "    TARGET: — Via, guardiamo chi dei due mette prima il piede sul tappeto.\n",
      " PREDICTED: — Be ’, ecco che li di questi passi per il piede !\n",
      "--------------------------------------------------------------------------------\n",
      "Deleted opus_books_weights/tmodel_100.pt\n"
     ]
    },
    {
     "name": "stderr",
     "output_type": "stream",
     "text": [
      "Processing Epoch 102: 100%|██████████| 228/228 [03:05<00:00,  1.23it/s, loss=1.517]\n",
      "stty: 'standard input': Inappropriate ioctl for device\n"
     ]
    },
    {
     "name": "stdout",
     "output_type": "stream",
     "text": [
      "--------------------------------------------------------------------------------\n",
      "    SOURCE: \"Is that a dream?\" said he, placing it close to my eyes.\n",
      "    TARGET: — È sogno questa? — disse, ponendomela sott'occhio.\n",
      " PREDICTED: — È forse un sogno ? — disse , mettendo le mani .\n",
      "--------------------------------------------------------------------------------\n",
      "    SOURCE: And so thought Vronsky.\n",
      "    TARGET: Così pure sembrava a Vronskij.\n",
      " PREDICTED: E così parve Vronskij .\n",
      "--------------------------------------------------------------------------------\n",
      "Deleted opus_books_weights/tmodel_101.pt\n"
     ]
    },
    {
     "name": "stderr",
     "output_type": "stream",
     "text": [
      "Processing Epoch 103: 100%|██████████| 228/228 [03:05<00:00,  1.23it/s, loss=1.521]\n",
      "stty: 'standard input': Inappropriate ioctl for device\n"
     ]
    },
    {
     "name": "stdout",
     "output_type": "stream",
     "text": [
      "--------------------------------------------------------------------------------\n",
      "    SOURCE: We snarled at one another in this strain for the next few minutes, when we were interrupted by a defiant snore from George.\n",
      "    TARGET: Ci rimbeccammo a questa maniera per un po’ di minuti, quando fummo interrotti da un suono di sfida di Giorgio, che russava profondamente.\n",
      " PREDICTED: Per in questa , un ’ altra modi di triste , quando fummo tratti nella minuti di musica , che stavamo parlando stranamente semplicemente di Giorgio .\n",
      "--------------------------------------------------------------------------------\n",
      "    SOURCE: 'THE OBLONSKY CARRIAGE!' shouted the hall-porter in a stern bass.\n",
      "    TARGET: — La carrozza di Oblonskij! — gridò il portiere con voce di basso irritata.\n",
      " PREDICTED: — La maniera Oblonskij ! — gridò il portiere con le sopracciglia vicino a voce di basso .\n",
      "--------------------------------------------------------------------------------\n",
      "Deleted opus_books_weights/tmodel_102.pt\n"
     ]
    },
    {
     "name": "stderr",
     "output_type": "stream",
     "text": [
      "Processing Epoch 104: 100%|██████████| 228/228 [03:05<00:00,  1.23it/s, loss=1.518]\n",
      "stty: 'standard input': Inappropriate ioctl for device\n"
     ]
    },
    {
     "name": "stdout",
     "output_type": "stream",
     "text": [
      "--------------------------------------------------------------------------------\n",
      "    SOURCE: 'Yes, later!...\n",
      "    TARGET: — Sì, dopo.\n",
      " PREDICTED: — Eh , dopo ...\n",
      "--------------------------------------------------------------------------------\n",
      "    SOURCE: The old Marshal was in despair and could not hide it.\n",
      "    TARGET: Il maresciallo del governatorato era in una disperazione che non riusciva a nascondere.\n",
      " PREDICTED: Il vecchio maresciallo era in disperazione e non poteva nascondere .\n",
      "--------------------------------------------------------------------------------\n",
      "Deleted opus_books_weights/tmodel_103.pt\n"
     ]
    },
    {
     "name": "stderr",
     "output_type": "stream",
     "text": [
      "Processing Epoch 105: 100%|██████████| 228/228 [03:05<00:00,  1.23it/s, loss=1.516]\n",
      "stty: 'standard input': Inappropriate ioctl for device\n"
     ]
    },
    {
     "name": "stdout",
     "output_type": "stream",
     "text": [
      "--------------------------------------------------------------------------------\n",
      "    SOURCE: Men make of love something enormous, but women are always terre-à-terre. [Matter-of-fact.]\n",
      "    TARGET: Le donne hanno tutte più senso pratico che non gli uomini. Noi facciamo dell’amore qualcosa d’immenso, ma esse sono sempre terre-à-terre.\n",
      " PREDICTED: È lo stesso che si tratti di qualcosa , ma le donne sono occupate , è sempre comune a caccia dell ’ utile .\n",
      "--------------------------------------------------------------------------------\n",
      "    SOURCE: Take Sviyazhsky now.\n",
      "    TARGET: Ecco, prendiamo, sia pure Svijazskij.\n",
      " PREDICTED: Ecco , adesso , Svijazskij .\n",
      "--------------------------------------------------------------------------------\n",
      "Deleted opus_books_weights/tmodel_104.pt\n"
     ]
    },
    {
     "name": "stderr",
     "output_type": "stream",
     "text": [
      "Processing Epoch 106: 100%|██████████| 228/228 [03:05<00:00,  1.23it/s, loss=1.535]\n",
      "stty: 'standard input': Inappropriate ioctl for device\n"
     ]
    },
    {
     "name": "stdout",
     "output_type": "stream",
     "text": [
      "--------------------------------------------------------------------------------\n",
      "    SOURCE: CHAPTER VI\n",
      "    TARGET: VI\n",
      " PREDICTED: VI\n",
      "--------------------------------------------------------------------------------\n",
      "    SOURCE: 'Stolen!' the King exclaimed, turning to the jury, who instantly made a memorandum of the fact.\n",
      "    TARGET: — È rubato allora! — esclamò il Re volgendosi ai giurati, i quali subito annotarono il fatto.\n",
      " PREDICTED: — Che il Re ! — gridò al Re i giurati , i quali subito in maniera o dal fatto .\n",
      "--------------------------------------------------------------------------------\n",
      "Deleted opus_books_weights/tmodel_105.pt\n"
     ]
    },
    {
     "name": "stderr",
     "output_type": "stream",
     "text": [
      "Processing Epoch 107: 100%|██████████| 228/228 [03:05<00:00,  1.23it/s, loss=1.512]\n",
      "stty: 'standard input': Inappropriate ioctl for device\n"
     ]
    },
    {
     "name": "stdout",
     "output_type": "stream",
     "text": [
      "--------------------------------------------------------------------------------\n",
      "    SOURCE: Now, Mr. Rivers, _do_ come.\n",
      "    TARGET: \"Via, signor Rivers, venite.\n",
      " PREDICTED: Ora , signor Rivers , ne siate .\n",
      "--------------------------------------------------------------------------------\n",
      "    SOURCE: While I was in view of the Moor that was swimming, I stood out directly to sea with the boat, rather stretching to windward, that they might think me gone towards the Straits’ mouth (as indeed any one that had been in their wits must have been supposed to do): for who would have supposed we were sailed on to the southward, to the truly Barbarian coast, where whole nations of negroes were sure to surround us with their canoes and destroy us; where we could not go on shore but we should be devoured by savage beasts, or more merciless savages of human kind.\n",
      "    TARGET: Fintantochè rimasi a vista del Moro, che notava verso la spiaggia, mi tenni bordeggiando come in cerca del vento, affinchè si potesse pensare che volessimo avviarci verso la foce dello stretto; intenzione che doveva attribuirci chiunque non ne stimasse affatto privi di giudizio; perchè chi mai avrebbe supposto che volessimo veleggiare ad ostro contro alle coste di Barbari affatto selvaggi, donde indubitatamente intere popolazioni di Negri sarebbero venute a circondarne co’ loro canotti e a distruggerci, e dove, arrivando anche a toccare la spiaggia, non avremmo potuto aspettarci altro, che di essere divorati dalle fiere o da belve di umana razza, più spietate ancora di esse.\n",
      " PREDICTED: Or sì che mi vidi in fatto vedere il Moor - House su quella spiaggia , ve ne fui tosto allora per la costa della , e su le vie si sarebbe potuto capire in qual parte fosse stato qualcuno . Dunque quindi quelli che avrebbero potuto male , si sarebbero forse venuti a male ( per farmi chiamare ), che quindi eravamo ) a nel Brasile , dove fossimo Inglesi , ma poichè non sarebbero andati i loro piroghe , dalla costa di Guinea e di meno di quella spiaggia , ove eravamo ancora meno ogni o sicuramente a Pamplona , e di bestie .\n",
      "--------------------------------------------------------------------------------\n",
      "Deleted opus_books_weights/tmodel_106.pt\n"
     ]
    },
    {
     "name": "stderr",
     "output_type": "stream",
     "text": [
      "Processing Epoch 108: 100%|██████████| 228/228 [03:05<00:00,  1.23it/s, loss=1.502]\n",
      "stty: 'standard input': Inappropriate ioctl for device\n"
     ]
    },
    {
     "name": "stdout",
     "output_type": "stream",
     "text": [
      "--------------------------------------------------------------------------------\n",
      "    SOURCE: It is to be added also that a prince can never secure himself against a hostile people, because of their being too many, whilst from the nobles he can secure himself, as they are few in number.\n",
      "    TARGET: Preterea, del populo inimico uno principe non si può mai assicurare, per essere troppi; de' grandi si può assicurare, per essere pochi.\n",
      " PREDICTED: Et è per essere , che uno principe non si possa mai mancare al principato alcuna ; perché ne ' populi , e la prudenzia li uomini , non di manco riprese a pochi .\n",
      "--------------------------------------------------------------------------------\n",
      "    SOURCE: Much rain also in the days, though with some intervals of fair weather; but it seems this was the rainy season.\n",
      "    TARGET: Continuò sempre a cadere molt’acqua dal cielo, non senza per altro alcuni intervalli di buon tempo; ma a quanto sembra era quella la stagione delle piogge.\n",
      " PREDICTED: In oltre una pioggia anche senza del tempo , benchè a qualche bella strada non sia l ’ ora nelle stagioni piovose .\n",
      "--------------------------------------------------------------------------------\n",
      "Deleted opus_books_weights/tmodel_107.pt\n"
     ]
    },
    {
     "name": "stderr",
     "output_type": "stream",
     "text": [
      "Processing Epoch 109: 100%|██████████| 228/228 [03:05<00:00,  1.23it/s, loss=1.527]\n",
      "stty: 'standard input': Inappropriate ioctl for device\n"
     ]
    },
    {
     "name": "stdout",
     "output_type": "stream",
     "text": [
      "--------------------------------------------------------------------------------\n",
      "    SOURCE: \"A profound remark! A most ingenious quibble!\n",
      "    TARGET: — Osservazione profonda, ingegnoso giuoco di parole!\n",
      " PREDICTED: — È una strana creatura che potrebbe !\n",
      "--------------------------------------------------------------------------------\n",
      "    SOURCE: Varenka, hearing Kitty's voice and her mother reprimanding her, came up with her light step.\n",
      "    TARGET: Varen’ka, udita la voce di Kitty e il rimprovero della madre, si accostò a Kitty a passi rapidi e leggeri.\n",
      " PREDICTED: Varen ’ ka , sentendo la voce di Kitty e la madre che le si erano usciti con passo .\n",
      "--------------------------------------------------------------------------------\n",
      "Deleted opus_books_weights/tmodel_108.pt\n"
     ]
    },
    {
     "name": "stderr",
     "output_type": "stream",
     "text": [
      "Processing Epoch 110: 100%|██████████| 228/228 [03:05<00:00,  1.23it/s, loss=1.521]\n",
      "stty: 'standard input': Inappropriate ioctl for device\n"
     ]
    },
    {
     "name": "stdout",
     "output_type": "stream",
     "text": [
      "--------------------------------------------------------------------------------\n",
      "    SOURCE: \"For whom, sir?\"\n",
      "    TARGET: — Di chi parlate, signore?\n",
      " PREDICTED: — Perché , signore ?\n",
      "--------------------------------------------------------------------------------\n",
      "    SOURCE: Nothing occurred to my thought to contradict any of these conclusions, and therefore it rested upon me with the greater force, that it must needs be that God had appointed all this to befall me; that I was brought into this miserable circumstance by His direction, He having the sole power, not of me only, but of everything that happened in the world.\n",
      "    TARGET: Che cosa ho fatto io per essere trattato in simil maniera?» Ma quando io m’inoltrava in sì fatta investigazione sentiva tali rimproveri della mia coscienza, quali può meritarseli chi profferisce bestemmie; mi sembrò udire una voce che mi gridasse: «Sciagurato! domandi ancora che cosa hai fatto?\n",
      " PREDICTED: Quale è in tal caso di essere a tal natura dell ’ Africa . Spesse volte che m ’ attorno a me medesimo , che forse i più sicuri gli diss ’ io : « Che Dio sono io ben ?» pensò che mi fecero fatto in abisso a tal guisa di un mondo , che non solo , ma il vostro mondo non mi ha trovato in mente di tutto il mondo , e che mi dava di questo mondo adesso .\n",
      "--------------------------------------------------------------------------------\n",
      "Deleted opus_books_weights/tmodel_109.pt\n"
     ]
    },
    {
     "name": "stderr",
     "output_type": "stream",
     "text": [
      "Processing Epoch 111: 100%|██████████| 228/228 [03:05<00:00,  1.23it/s, loss=1.504]\n",
      "stty: 'standard input': Inappropriate ioctl for device\n"
     ]
    },
    {
     "name": "stdout",
     "output_type": "stream",
     "text": [
      "--------------------------------------------------------------------------------\n",
      "    SOURCE: 'Then what was the good of your staying with him?' she said, suddenly raising her eyes to his face.\n",
      "    TARGET: — E allora perché sei rimasto? — ella domandò, levando a un tratto gli occhi su di lui.\n",
      " PREDICTED: — E allora che cosa vi fu di restare con lui ? — disse , improvvisamente , senza staccare gli occhi dal viso .\n",
      "--------------------------------------------------------------------------------\n",
      "    SOURCE: I am curious to hear it.\"\n",
      "    TARGET: Sono curioso di udirlo.\n",
      " PREDICTED: Sono curioso di sentir pronunziare questo .\n",
      "--------------------------------------------------------------------------------\n",
      "Deleted opus_books_weights/tmodel_110.pt\n"
     ]
    },
    {
     "name": "stderr",
     "output_type": "stream",
     "text": [
      "Processing Epoch 112: 100%|██████████| 228/228 [03:05<00:00,  1.23it/s, loss=1.511]\n",
      "stty: 'standard input': Inappropriate ioctl for device\n"
     ]
    },
    {
     "name": "stdout",
     "output_type": "stream",
     "text": [
      "--------------------------------------------------------------------------------\n",
      "    SOURCE: It called twice in its usual note then hoarsely and hurriedly and got out of time.\n",
      "    TARGET: Per due volte lanciò il solito verso, poi s’arrochì, abborracciò, barbugliò.\n",
      " PREDICTED: due volte col suo solito biglietto , poi in fretta e corse a voce : — « Me ne ?\n",
      "--------------------------------------------------------------------------------\n",
      "    SOURCE: \"Monitor of the first class, fetch the globes!\"\n",
      "    TARGET: — Monitrici della prima classe, portate le sfere.\n",
      " PREDICTED: — Le prime , le sfere e le sfere .\n",
      "--------------------------------------------------------------------------------\n",
      "Deleted opus_books_weights/tmodel_111.pt\n"
     ]
    },
    {
     "name": "stderr",
     "output_type": "stream",
     "text": [
      "Processing Epoch 113: 100%|██████████| 228/228 [03:05<00:00,  1.23it/s, loss=1.495]\n",
      "stty: 'standard input': Inappropriate ioctl for device\n"
     ]
    },
    {
     "name": "stdout",
     "output_type": "stream",
     "text": [
      "--------------------------------------------------------------------------------\n",
      "    SOURCE: 'Well, have you settled the business or not?\n",
      "    TARGET: — Ma voi l’affare lo avete concluso sì o no?\n",
      " PREDICTED: — Ebbene , ecco che si ha fatto il lavoro ?\n",
      "--------------------------------------------------------------------------------\n",
      "    SOURCE: CHAPTER XII Alice's Evidence\n",
      "    TARGET: XII LA TESTIMONIANZA DI ALICE\n",
      " PREDICTED: XII .\n",
      "--------------------------------------------------------------------------------\n",
      "Deleted opus_books_weights/tmodel_112.pt\n"
     ]
    },
    {
     "name": "stderr",
     "output_type": "stream",
     "text": [
      "Processing Epoch 114: 100%|██████████| 228/228 [03:05<00:00,  1.23it/s, loss=1.512]\n",
      "stty: 'standard input': Inappropriate ioctl for device\n"
     ]
    },
    {
     "name": "stdout",
     "output_type": "stream",
     "text": [
      "--------------------------------------------------------------------------------\n",
      "    SOURCE: Out you get!\"\n",
      "    TARGET: Fuori dunque!\n",
      " PREDICTED: Neppure per voi !\n",
      "--------------------------------------------------------------------------------\n",
      "    SOURCE: George unrolled it, and fastened one end over the nose of the boat.\n",
      "    TARGET: Giorgio la svolse e ne legò un capo alla prua della barca.\n",
      " PREDICTED: Giorgio la prese , e si gettò un ’ estremità sul naso della barca .\n",
      "--------------------------------------------------------------------------------\n",
      "Deleted opus_books_weights/tmodel_113.pt\n"
     ]
    },
    {
     "name": "stderr",
     "output_type": "stream",
     "text": [
      "Processing Epoch 115: 100%|██████████| 228/228 [03:05<00:00,  1.23it/s, loss=1.502]\n",
      "stty: 'standard input': Inappropriate ioctl for device\n"
     ]
    },
    {
     "name": "stdout",
     "output_type": "stream",
     "text": [
      "--------------------------------------------------------------------------------\n",
      "    SOURCE: At the end of a hundred yards they are naturally breathless, and suddenly stop, and all sit down on the grass and laugh, and your boat drifts out to mid- stream and turns round, before you know what has happened, or can get hold of a scull.\n",
      "    TARGET: Dopo un centinaio di passi, naturalmente non hanno più fiato, e a un tratto si fermano, e si seggono sull’erba ridendo, e la barca si ferma in mezzo alla corrente e si mette a girare, prima che sappiate che cosa sia accaduto, o che possiate dar di piglio a un remo.\n",
      " PREDICTED: Al fine di cento metri di cento sazeni e di paura , si a un tratto , voltatosi , e sorridendo che la barca si mangia accanto a mezza lega , e si fa dentro , prima che ciò sia accaduto o quant ’ altro , può essere su un remo .\n",
      "--------------------------------------------------------------------------------\n",
      "    SOURCE: \"But Miss Temple is the best--isn't she?\"\n",
      "    TARGET: — Ma la direttrice è la migliore, non è vero?\n",
      " PREDICTED: — Ma la signorina Temple è il miglior vero , non è vero ?\n",
      "--------------------------------------------------------------------------------\n",
      "Deleted opus_books_weights/tmodel_114.pt\n"
     ]
    },
    {
     "name": "stderr",
     "output_type": "stream",
     "text": [
      "Processing Epoch 116: 100%|██████████| 228/228 [03:05<00:00,  1.23it/s, loss=1.508]\n",
      "stty: 'standard input': Inappropriate ioctl for device\n"
     ]
    },
    {
     "name": "stdout",
     "output_type": "stream",
     "text": [
      "--------------------------------------------------------------------------------\n",
      "    SOURCE: Now that he held his letter he could not help imagining to himself the challenge that he would no doubt find waiting for him that evening or next day, and the duel, when he would be standing with the same cold proud look as his face bore that moment, and having fired into the air would be awaiting the shot from the injured husband.\n",
      "    TARGET: Ora, mentre teneva la lettera in mano, involontariamente si raffigurava la sfida che forse quel giorno stesso o l’indomani avrebbe trovato a casa, e persino il duello durante il quale, con quella stessa fredda e orgogliosa espressione che aveva in quel momento, avrebbe sparato in aria, e sarebbe rimasto sotto la mira del marito offeso.\n",
      " PREDICTED: Adesso , con quella lettera gli amici che aveva involontariamente gli orti da lui stesso al quale avrebbe potuto trovare e il giorno o l ’ indomani , avrebbe trovato quel giorno e il duello con lo stesso , e , col quale , era venuto in piedi , avrebbe potuto in aria e lacrime all ’ aria , avrebbe avuto l ’ aria dell ’ aria bagnata di costoro .\n",
      "--------------------------------------------------------------------------------\n",
      "    SOURCE: Each person has what he doesn't want, and other people have what he does want.\n",
      "    TARGET: Ogni persona ha ciò che non vuole, e ciò che vorrebbe l’hanno gli altri.\n",
      " PREDICTED: A ciascuno ha persona che non vuole , l ’ altra cosa fa e l ’ altra cosa ne doveva essere : l ’ altra persona che ne doveva essere .\n",
      "--------------------------------------------------------------------------------\n",
      "Deleted opus_books_weights/tmodel_115.pt\n"
     ]
    },
    {
     "name": "stderr",
     "output_type": "stream",
     "text": [
      "Processing Epoch 117: 100%|██████████| 228/228 [03:05<00:00,  1.23it/s, loss=1.493]\n",
      "stty: 'standard input': Inappropriate ioctl for device\n"
     ]
    },
    {
     "name": "stdout",
     "output_type": "stream",
     "text": [
      "--------------------------------------------------------------------------------\n",
      "    SOURCE: \"And you girls probably worshipped him, as a convent full of religieuses would worship their director.\"\n",
      "    TARGET: — E forse voi e le altre ragazze lo venerano come le monache venerano il confessore.\n",
      " PREDICTED: — E perché le bambine , e il di queste bestie facevano uso come è suo tenore di vita .\n",
      "--------------------------------------------------------------------------------\n",
      "    SOURCE: 'I have doubted, and still doubt, everything,' replied Levin in a voice unpleasant to himself, and stopped.\n",
      "    TARGET: — Io ho dubitato, io dubito di tutto — disse Levin con voce sgradevole a se stesso, e tacque.\n",
      " PREDICTED: — Ho dubbi , ancora dubbi , tutto dubito di tutto — rispose Levin con voce spiacevole , e si fermò .\n",
      "--------------------------------------------------------------------------------\n",
      "Deleted opus_books_weights/tmodel_116.pt\n"
     ]
    },
    {
     "name": "stderr",
     "output_type": "stream",
     "text": [
      "Processing Epoch 118: 100%|██████████| 228/228 [03:05<00:00,  1.23it/s, loss=1.493]\n",
      "stty: 'standard input': Inappropriate ioctl for device\n"
     ]
    },
    {
     "name": "stdout",
     "output_type": "stream",
     "text": [
      "--------------------------------------------------------------------------------\n",
      "    SOURCE: Mrs. P. used to come up and say she was very sorry - for herself, she liked to hear him - but the lady upstairs was in a very delicate state, and the doctor was afraid it might injure the child.\n",
      "    TARGET: La signora Poppets soleva presentarsi a dire che le dispiaceva moltissimo — quanto a lei andava matta per la musica — ma la signora di sopra era in istato interessante, e il dottore temeva che quel suono potesse nuocere al bambino.\n",
      " PREDICTED: . La signora Poppets fu fatta da noi tanto . Ella gli piaceva per sentire la signora . Ma la signora era in francese canto e il dottore potesse sopportare una sfumatura .\n",
      "--------------------------------------------------------------------------------\n",
      "    SOURCE: Alice was very nearly getting up and saying, 'Thank you, sir, for your interesting story,' but she could not help thinking there must be more to come, so she sat still and said nothing.\n",
      "    TARGET: Alice stava per levarsi e dirle: — Grazie della vostra storia interessante, — quando pensò che ci doveva essere qualche altra cosa, e sedette tranquillamente senza dir nulla.\n",
      " PREDICTED: Alice stava quasi tutti e disse : — Vi ringrazio , signore per la vostra storia interessante , ma non potè trovare più nulla di piacevole .\n",
      "--------------------------------------------------------------------------------\n",
      "Deleted opus_books_weights/tmodel_117.pt\n"
     ]
    },
    {
     "name": "stderr",
     "output_type": "stream",
     "text": [
      "Processing Epoch 119: 100%|██████████| 228/228 [03:05<00:00,  1.23it/s, loss=1.494]\n",
      "stty: 'standard input': Inappropriate ioctl for device\n"
     ]
    },
    {
     "name": "stdout",
     "output_type": "stream",
     "text": [
      "--------------------------------------------------------------------------------\n",
      "    SOURCE: For myself, I had no need to make any change; I should not be called upon to quit my sanctum of the schoolroom; for a sanctum it was now become to me,--\"a very pleasant refuge in time of trouble.\"\n",
      "    TARGET: Io invece non cambiai d'abito, persuasa che non mi avrebbero fatto uscire dallo studio, vero santuario per me e rifugio nei momenti di turbamento.\n",
      " PREDICTED: \" Per me , non avrei avuto un bel cambiamento di studio , prima che mi farà uscire nella biblioteca , a fondo , un dolore che lo smarrimento .\"\n",
      "--------------------------------------------------------------------------------\n",
      "    SOURCE: We shall have to employ him, Constantine Dmitrich,' said the steward. 'I told you about the machine.'\n",
      "    TARGET: Bisognerà mettersi d’accordo con lui, Konstantin Dmitric — disse il fattore. — Vi ho già parlato della macchina.\n",
      " PREDICTED: Noi siamo a , Konstantin Dmitric — disse l ’ amministratore . — Vi ho detto di far la macchina .\n",
      "--------------------------------------------------------------------------------\n",
      "Deleted opus_books_weights/tmodel_118.pt\n"
     ]
    },
    {
     "name": "stderr",
     "output_type": "stream",
     "text": [
      "Processing Epoch 120: 100%|██████████| 228/228 [03:05<00:00,  1.23it/s, loss=1.496]\n",
      "stty: 'standard input': Inappropriate ioctl for device\n"
     ]
    },
    {
     "name": "stdout",
     "output_type": "stream",
     "text": [
      "--------------------------------------------------------------------------------\n",
      "    SOURCE: She knew all the details of his life.\n",
      "    TARGET: Ella conosceva tutti i particolari della vita di lui.\n",
      " PREDICTED: Sapeva tutti i particolari della vita del suo .\n",
      "--------------------------------------------------------------------------------\n",
      "    SOURCE: “No angry!” says he, repeating the words several times; “why send Friday home away to my nation?” “Why,” says I, “Friday, did not you say you wished you were there?”\n",
      "    TARGET: Perchè dunque voler mandare Venerdì a suo paese? — Ma non vi auguravate voi stesso di esservi? — Sì, augurare esservi tutt’e due; non augurare Venerdì là e padrone qui!»\n",
      " PREDICTED: Non ti in fatti ? — « Ah ! Venerdì ! mandar via varie volte a casa !»\n",
      "--------------------------------------------------------------------------------\n",
      "Deleted opus_books_weights/tmodel_119.pt\n"
     ]
    },
    {
     "name": "stderr",
     "output_type": "stream",
     "text": [
      "Processing Epoch 121: 100%|██████████| 228/228 [03:05<00:00,  1.23it/s, loss=1.474]\n",
      "stty: 'standard input': Inappropriate ioctl for device\n"
     ]
    },
    {
     "name": "stdout",
     "output_type": "stream",
     "text": [
      "--------------------------------------------------------------------------------\n",
      "    SOURCE: 'Now that is reasonable!\n",
      "    TARGET: — Ecco, questa è una cosa intelligente.\n",
      " PREDICTED: — Ma a questo è ragionevole .\n",
      "--------------------------------------------------------------------------------\n",
      "    SOURCE: There must be some misunderstanding!' said Oblonsky.\n",
      "    TARGET: Qui c’è un equivoco — egli disse.\n",
      " PREDICTED: Ci devono essere un altro modo — disse Stepan Arkad ’ ic .\n",
      "--------------------------------------------------------------------------------\n",
      "Deleted opus_books_weights/tmodel_120.pt\n"
     ]
    },
    {
     "name": "stderr",
     "output_type": "stream",
     "text": [
      "Processing Epoch 122: 100%|██████████| 228/228 [03:05<00:00,  1.23it/s, loss=1.496]\n",
      "stty: 'standard input': Inappropriate ioctl for device\n"
     ]
    },
    {
     "name": "stdout",
     "output_type": "stream",
     "text": [
      "--------------------------------------------------------------------------------\n",
      "    SOURCE: She was tormented by anxiety for Vronsky, but suffered even more from what seemed to her the incessant flow of her husband's shrill voice with its familiar intonations.\n",
      "    TARGET: Era tormentata dal timore per Vronskij, ma ancora più dalla instancabile voce stridula del marito della quale conosceva tutte le intonazioni.\n",
      " PREDICTED: Era tormentato da Vronskij e pena , ma ancor più pena di quello che sembrava un ’ impressione simile al marito della voce stridula del marito .\n",
      "--------------------------------------------------------------------------------\n",
      "    SOURCE: \"Very likely; but it is blank and cool--'Farewell.'\"\n",
      "    TARGET: — È vero, ma quella frase: \"state bene\" è fredda.\n",
      " PREDICTED: — È una ragione , ma è fredda , cercate di cantare .\n",
      "--------------------------------------------------------------------------------\n",
      "Deleted opus_books_weights/tmodel_121.pt\n"
     ]
    },
    {
     "name": "stderr",
     "output_type": "stream",
     "text": [
      "Processing Epoch 123: 100%|██████████| 228/228 [03:05<00:00,  1.23it/s, loss=1.481]\n",
      "stty: 'standard input': Inappropriate ioctl for device\n"
     ]
    },
    {
     "name": "stdout",
     "output_type": "stream",
     "text": [
      "--------------------------------------------------------------------------------\n",
      "    SOURCE: \"Eight years.\"\n",
      "    TARGET: — Otto anni.\n",
      " PREDICTED: — Otto anni .\n",
      "--------------------------------------------------------------------------------\n",
      "    SOURCE: Perhaps you will say it is egotism, but what legitimate and noble egotism!\n",
      "    TARGET: Forse tu dirai che è egoismo, ma è un egoismo così legittimo e nobile!\n",
      " PREDICTED: Forse tu dici che è un rimedio , ma che è tutt ’ e che dà l ’ istruzione ?\n",
      "--------------------------------------------------------------------------------\n",
      "Deleted opus_books_weights/tmodel_122.pt\n"
     ]
    },
    {
     "name": "stderr",
     "output_type": "stream",
     "text": [
      "Processing Epoch 124: 100%|██████████| 228/228 [03:05<00:00,  1.23it/s, loss=1.486]\n",
      "stty: 'standard input': Inappropriate ioctl for device\n"
     ]
    },
    {
     "name": "stdout",
     "output_type": "stream",
     "text": [
      "--------------------------------------------------------------------------------\n",
      "    SOURCE: No, I advise you unhesitatingly not to allow it, and with your permission I will write to her.'\n",
      "    TARGET: No, io non lo consiglio, non ho dubbi, e, se me ne autorizzate, le scriverò.\n",
      " PREDICTED: Io non mi consiglio di non lasciarmi , e del permesso di .\n",
      "--------------------------------------------------------------------------------\n",
      "    SOURCE: 'I don't know, I never tried it for long.\n",
      "    TARGET: — Non so, non ho mai provato a lungo.\n",
      " PREDICTED: — Non so , non mi riuscì a seguire per molto tempo .\n",
      "--------------------------------------------------------------------------------\n",
      "Deleted opus_books_weights/tmodel_123.pt\n"
     ]
    },
    {
     "name": "stderr",
     "output_type": "stream",
     "text": [
      "Processing Epoch 125: 100%|██████████| 228/228 [03:05<00:00,  1.23it/s, loss=1.482]\n",
      "stty: 'standard input': Inappropriate ioctl for device\n"
     ]
    },
    {
     "name": "stdout",
     "output_type": "stream",
     "text": [
      "--------------------------------------------------------------------------------\n",
      "    SOURCE: And they could not believe it, because they could not imagine the whole volume of all they consumed, and therefore could not conceive that what they were destroying was the very thing they lived on.\n",
      "    TARGET: E non potevano credere perché non potevano immaginare, in tutto il suo complesso, quello di cui godevano, e non potevano quindi immaginare che quello che distruggevano fosse proprio quello di cui si nutrivano.\n",
      " PREDICTED: E non potevano credere perché non il proprio libro di tutto , che essi il suo scrivere , e perciò non potevano trovare quel che essi dell ’ ambiente di cui viveva .\n",
      "--------------------------------------------------------------------------------\n",
      "    SOURCE: 'Why did you call him Tortoise, if he wasn't one?' Alice asked. 'We called him Tortoise because he taught us,' said the Mock Turtle angrily: 'really you are very dull!'\n",
      "    TARGET: — Perchè la chiamavate tartaruga se non era tale? — domandò Alice. — La chiamavamo tartaruga, perchè c'insegnava, — disse la Falsa-testuggine con dispetto: Hai poco sale in zucca!\n",
      " PREDICTED: — La signorina la hai fatta ... se non è nessuno ? — disse Alice . — La la barca la chiamavamo prima , — disse la Falsa - testuggine : — Ah , una tua noiosa !\n",
      "--------------------------------------------------------------------------------\n",
      "Deleted opus_books_weights/tmodel_124.pt\n"
     ]
    },
    {
     "name": "stderr",
     "output_type": "stream",
     "text": [
      "Processing Epoch 126: 100%|██████████| 228/228 [03:05<00:00,  1.23it/s, loss=1.469]\n",
      "stty: 'standard input': Inappropriate ioctl for device\n"
     ]
    },
    {
     "name": "stdout",
     "output_type": "stream",
     "text": [
      "--------------------------------------------------------------------------------\n",
      "    SOURCE: That such hints and notices are given us I believe few that have made any observation of things can deny; that they are certain discoveries of an invisible world, and a converse of spirits, we cannot doubt; and if the tendency of them seems to be to warn us of danger, why should we not suppose they are from some friendly agent (whether supreme, or inferior and subordinate, is not the question), and that they are given for our good?\n",
      "    TARGET: Sono essi (e pochi, cred’io, che abbiano fatta qualche osservazione su le cose, me lo negheranno), sono essi certe manifestazioni del mondo invisibile derivate a noi da un consorzio degli spiriti; non ne è lecito il dubitarne. E se queste intendono a salvarci dai mali che ne sovrastano, perchè non le supporremo noi venute da qualche ente amico (o sia l’ente supremo, o qualche essere a lui subordinato, ciò non fa nulla) e comunicateci per nostro bene?\n",
      " PREDICTED: Questi tali , e quaranta , io credo , che ho a credere ch ’ sieno posti a qualche progresso ; che sono certi scoperte bassi , a un mondo estremi , e ci accorgemmo di una cosa umana , non possiamo ; e se ne sembra , se ci vorrà del pericolo , o se non ci da qualche pericolo , o a salvare le nostre opinioni che sono , se ne stanno , o nel nostro bene ?\n",
      "--------------------------------------------------------------------------------\n",
      "    SOURCE: It was English history: among the readers I observed my acquaintance of the verandah: at the commencement of the lesson, her place had been at the top of the class, but for some error of pronunciation, or some inattention to stops, she was suddenly sent to the very bottom.\n",
      "    TARGET: Esse leggevano la storia d'Inghilterra, e fra le lettrici riconobbi la ragazza con cui avevo parlato nel porticato. Al principio della lezione ella era in prima fila; ma per qualche errore di pronunzia, o per non essersi fermata quando doveva, fu mandata in fondo alla stanza, e la signorina Scatcherd continuò a perseguitarla anche laggiù con le sue incessanti osservazioni.\n",
      " PREDICTED: Fu una storia inglese e fra le che avevo osservato la scuola di lei . Dal principio del principio che le era stato , lei alla mia classe della mia classe , ma per qualche errore , se si fosse accorta a un tratto che la aveva chiesto di si fosse nella fondo , mi si avvicinò a lei .\n",
      "--------------------------------------------------------------------------------\n",
      "Deleted opus_books_weights/tmodel_125.pt\n"
     ]
    },
    {
     "name": "stderr",
     "output_type": "stream",
     "text": [
      "Processing Epoch 127: 100%|██████████| 228/228 [03:05<00:00,  1.23it/s, loss=1.481]\n",
      "stty: 'standard input': Inappropriate ioctl for device\n"
     ]
    },
    {
     "name": "stdout",
     "output_type": "stream",
     "text": [
      "--------------------------------------------------------------------------------\n",
      "    SOURCE: Well, good-bye.\n",
      "    TARGET: Allora, addio.\n",
      " PREDICTED: Be ’, addio .\n",
      "--------------------------------------------------------------------------------\n",
      "    SOURCE: They talked about their mutual friends, carrying on a most unimportant conversation, but it seemed to Kitty that every word they said was deciding their and her fate.\n",
      "    TARGET: Parlavano di amici comuni, facevano la più insignificante delle conversazioni, ma a Kitty pareva che ogni parola pronunziata decidesse il loro e il suo destino.\n",
      " PREDICTED: Parlavano di loro dei loro amici che riguardavano l ’ istruzione e generale , ma sembrava che ogni parola « ella — disse il proprio e del suo destino .\n",
      "--------------------------------------------------------------------------------\n",
      "Deleted opus_books_weights/tmodel_126.pt\n"
     ]
    },
    {
     "name": "stderr",
     "output_type": "stream",
     "text": [
      "Processing Epoch 128: 100%|██████████| 228/228 [03:05<00:00,  1.23it/s, loss=1.492]\n",
      "stty: 'standard input': Inappropriate ioctl for device\n"
     ]
    },
    {
     "name": "stdout",
     "output_type": "stream",
     "text": [
      "--------------------------------------------------------------------------------\n",
      "    SOURCE: While he was changing his things, the valet told him that the second race had already begun and that many gentlemen had been to inquire for him, and a lad had run over twice from the stables.\n",
      "    TARGET: Mentre egli si cambiava d’abito, il servo gli comunicò che era già cominciata la seconda gara e che molti signori erano venuti a chiedere di lui e che già due volte era venuto di corsa il garzone della scuderia.\n",
      " PREDICTED: Mentre si avvicinava proprio il servitore , il cameriere gli disse che già i nostri signori erano già andato , e che molti erano stati di lì per lui e un ragazzo da caccia , era venuto a dalle baracche .\n",
      "--------------------------------------------------------------------------------\n",
      "    SOURCE: By this I observed, that there is priestcraft even among the most blinded, ignorant pagans in the world; and the policy of making a secret of religion, in order to preserve the veneration of the people to the clergy, not only to be found in the Roman, but, perhaps, among all religions in the world, even among the most brutish and barbarous savages.\n",
      "    TARGET: Ciò mi diede motivo a notare che certe astuzie trovansi anche tra i più ciechi ed ignoranti pagani della terra; e che la politica di mantenere nella venerazione de’ popoli il clero col fare della religione un mistero non e riservata alla Chiesa romana, ma probabilmente è di tutti i culti del mondo, anche fra le genti più brutali e selvagge.\n",
      " PREDICTED: Quivi coll ’ osservare che là s ’ erano perfino trovati nel più piccolo mondo , li quali probabilmente anche nella creazione del mondo , e della prudenza umana per salvare le vie della umanità , ogni completo non solo l ’ esser , ma fuor d ’ ogni genere , i fini , nelle , ogni genere di umanità , tra i selvaggi e .\n",
      "--------------------------------------------------------------------------------\n",
      "Deleted opus_books_weights/tmodel_127.pt\n"
     ]
    },
    {
     "name": "stderr",
     "output_type": "stream",
     "text": [
      "Processing Epoch 129: 100%|██████████| 228/228 [03:05<00:00,  1.23it/s, loss=1.475]\n",
      "stty: 'standard input': Inappropriate ioctl for device\n"
     ]
    },
    {
     "name": "stdout",
     "output_type": "stream",
     "text": [
      "--------------------------------------------------------------------------------\n",
      "    SOURCE: Yes, I will...'\n",
      "    TARGET: Sì, glielo dirò”.\n",
      " PREDICTED: Sì , sì , lo ....\n",
      "--------------------------------------------------------------------------------\n",
      "    SOURCE: 'I have tried it.\n",
      "    TARGET: — Ho provato.\n",
      " PREDICTED: — Io , ci ho provato .\n",
      "--------------------------------------------------------------------------------\n",
      "Deleted opus_books_weights/tmodel_128.pt\n"
     ]
    },
    {
     "name": "stderr",
     "output_type": "stream",
     "text": [
      "Processing Epoch 130: 100%|██████████| 228/228 [03:05<00:00,  1.23it/s, loss=1.487]\n",
      "stty: 'standard input': Inappropriate ioctl for device\n"
     ]
    },
    {
     "name": "stdout",
     "output_type": "stream",
     "text": [
      "--------------------------------------------------------------------------------\n",
      "    SOURCE: The sound of the wheels could no longer be heard; the tinkling of the bells grew fainter.\n",
      "    TARGET: Il suono delle balestre cessò d’essere percettibile, si udì appena un bubbolio di campanelli.\n",
      " PREDICTED: Si sentì il suono delle ruote che si vedevano un soffio di vento .\n",
      "--------------------------------------------------------------------------------\n",
      "    SOURCE: \"Farewell, Miss Eyre, for the present; is that all?\"\n",
      "    TARGET: — State bene, signorina Eyre; nient'altro?\n",
      " PREDICTED: — State bene , signorina Eyre , perché tutto è quel presente ?\n",
      "--------------------------------------------------------------------------------\n",
      "Deleted opus_books_weights/tmodel_129.pt\n"
     ]
    },
    {
     "name": "stderr",
     "output_type": "stream",
     "text": [
      "Processing Epoch 131: 100%|██████████| 228/228 [03:05<00:00,  1.23it/s, loss=1.481]\n",
      "stty: 'standard input': Inappropriate ioctl for device\n"
     ]
    },
    {
     "name": "stdout",
     "output_type": "stream",
     "text": [
      "--------------------------------------------------------------------------------\n",
      "    SOURCE: How it would be proved to him he did not know; but he knew that it certainly would be proved logically, and waited for that proof.\n",
      "    TARGET: Come questo gli sarebbe stato dimostrato, non lo sapeva, ma sapeva che, senza dubbio, gli sarebbe stato dimostrato, a fil di logica, e aspettava questa dimostrazione.\n",
      " PREDICTED: Come sarebbe stato facile essere egli non lo sapeva ; ma sapeva che , a questo , bisognava essere preso in grado , con quella prova , e aspettavano a tale .\n",
      "--------------------------------------------------------------------------------\n",
      "    SOURCE: Vronsky knew them and knew that Anna had been acquainted with them.\n",
      "    TARGET: Vronskij li conosceva e sapeva che Anna era in rapporti amichevoli con loro.\n",
      " PREDICTED: Vronskij conosceva e sapeva che Anna era stata presso loro .\n",
      "--------------------------------------------------------------------------------\n",
      "Deleted opus_books_weights/tmodel_130.pt\n"
     ]
    },
    {
     "name": "stderr",
     "output_type": "stream",
     "text": [
      "Processing Epoch 132: 100%|██████████| 228/228 [03:05<00:00,  1.23it/s, loss=1.474]\n",
      "stty: 'standard input': Inappropriate ioctl for device\n"
     ]
    },
    {
     "name": "stdout",
     "output_type": "stream",
     "text": [
      "--------------------------------------------------------------------------------\n",
      "    SOURCE: Having thus heard the signal plainly, I laid me down; and it having been a day of great fatigue to me, I slept very sound, till I was surprised with the noise of a gun; and presently starting up, I heard a man call me by the name of “Governor!\n",
      "    TARGET: Dopo di ciò andai a coricarmi, ed essendo stata quella una giornata di grande fatica per me, dormii profondissimamente tutta la notte, finchè sul far del giorno non mi svegliò un colpo di cannone che allora mi fece qualche sorpresa.\n",
      " PREDICTED: Dopo che i miei compagni mi diedi a raccogliere una gran stanchezza ; e che , se bene nel far vedendo che non mi sorprese alcun rumore del moschetto di moschetto , e andai a conseguenza di farmi del governatore : ebbi veduto un uomo da quegli abitanti del governatore .\n",
      "--------------------------------------------------------------------------------\n",
      "    SOURCE: Hence, he who attacks the Turk must bear in mind that he will find him united, and he will have to rely more on his own strength than on the revolt of others; but, if once the Turk has been conquered, and routed in the field in such a way that he cannot replace his armies, there is nothing to fear but the family of this prince, and, this being exterminated, there remains no one to fear, the others having no credit with the people; and as the conqueror did not rely on them before his victory, so he ought not to fear them after it.\n",
      "    TARGET: Onde, chi assalta il Turco, è necessario pensare di averlo a trovare unito; e li conviene sperare più nelle forze proprie che ne' disordini d'altri. Ma, vinto che fussi e rotto alla campagna in modo che non possa rifare eserciti, non si ha a dubitare d’altro che del sangue del principe; il quale spento, non resta alcuno di chi si abbia a temere, non avendo li altri credito con li populi: e come el vincitore, avanti la vittoria, non poteva sperare in loro, cosí non debbe, dopo quella, temere di loro.\n",
      " PREDICTED: Onde che si considerrà bene al Turco , debbe conoscere lo stato d ' animo suo e vedrà più grande , e li eserciti sua forza che ha più ; ma , se il Turco è stato , et ha vinto queste cose in modo che tale stato , non ha paura mai , a ' nimici sua , che non vi è paura di qui , sendo a temere la famiglia , et qui , sanza alcuno , non vi si maraviglierà alcuno , che li altri che li eserciti sua non li faccino temere a temere da ' altro .\n",
      "--------------------------------------------------------------------------------\n",
      "Deleted opus_books_weights/tmodel_131.pt\n"
     ]
    },
    {
     "name": "stderr",
     "output_type": "stream",
     "text": [
      "Processing Epoch 133: 100%|██████████| 228/228 [03:05<00:00,  1.23it/s, loss=1.461]\n",
      "stty: 'standard input': Inappropriate ioctl for device\n"
     ]
    },
    {
     "name": "stdout",
     "output_type": "stream",
     "text": [
      "--------------------------------------------------------------------------------\n",
      "    SOURCE: But the Princess Myagkaya immediately interrupted him, as was her habit, and commenced telling her own tale.\n",
      "    TARGET: La principessa Mjagkaja subito, secondo la sua abitudine, lo interruppe e si mise a raccontare lei stessa.\n",
      " PREDICTED: Ma la Mjagkaja subito lo interruppe come , e cominciava a ripetere a la storia .\n",
      "--------------------------------------------------------------------------------\n",
      "    SOURCE: The Florentines, being entirely without arms, sent ten thousand Frenchmen to take Pisa, whereby they ran more danger than at any other time of their troubles.\n",
      "    TARGET: Fiorentini, sendo al tutto disarmati, condussono diecimila Franzesi a Pisa per espugnarla: per il quale partito portorono più pericolo che in qualunque tempo de' travagli loro.\n",
      " PREDICTED: Feciono Fiorentini , sendo tutti sanza arme loro , li quali aveano a Pisa per condotta Pisa più difficultà : e però più pericolo di loro .\n",
      "--------------------------------------------------------------------------------\n",
      "Deleted opus_books_weights/tmodel_132.pt\n"
     ]
    },
    {
     "name": "stderr",
     "output_type": "stream",
     "text": [
      "Processing Epoch 134: 100%|██████████| 228/228 [03:05<00:00,  1.23it/s, loss=1.469]\n",
      "stty: 'standard input': Inappropriate ioctl for device\n"
     ]
    },
    {
     "name": "stdout",
     "output_type": "stream",
     "text": [
      "--------------------------------------------------------------------------------\n",
      "    SOURCE: He was dressed now: he still looked pale, but he was no longer gory and sullied.\n",
      "    TARGET: Era vestito e mi parve debolissimo, ma su di lui non c'era nessuna traccia di sangue.\n",
      " PREDICTED: Aveva guardato in passato , ma non era più pallido , ma non si .\n",
      "--------------------------------------------------------------------------------\n",
      "    SOURCE: By dint of entreaties expressed in energetic whispers, I reduced the half-dozen to two: these however, he vowed he would select himself.\n",
      "    TARGET: Tutto ciò che ottenni fu di ridurre il numero dei vestiti da sei a due, ma giurò che quei due li avrebbe scelti lui.\n",
      " PREDICTED: A questa proposta mi rallegrava nella parte d ' indifferenza , entro la metà delle due dozzine di due o però che se ne adirava divertirsi .\n",
      "--------------------------------------------------------------------------------\n",
      "Deleted opus_books_weights/tmodel_133.pt\n"
     ]
    },
    {
     "name": "stderr",
     "output_type": "stream",
     "text": [
      "Processing Epoch 135: 100%|██████████| 228/228 [03:05<00:00,  1.23it/s, loss=1.478]\n",
      "stty: 'standard input': Inappropriate ioctl for device\n"
     ]
    },
    {
     "name": "stdout",
     "output_type": "stream",
     "text": [
      "--------------------------------------------------------------------------------\n",
      "    SOURCE: Then he put the bread into his mouth and swallowed it, and it choked him, and he died.\n",
      "    TARGET: Si portò il pane in bocca, esso gli si fermò in gola e lo soffocò.\n",
      " PREDICTED: Allora il pane nel bocca , lo e lo fu fermato ed egli lo seguì e morto .\n",
      "--------------------------------------------------------------------------------\n",
      "    SOURCE: No doubt he was in a pitiable position, but what was to be done?\n",
      "    TARGET: Senza dubbio ci faceva una figura pietosa, ma che farci?\n",
      " PREDICTED: Ammettiamo che aveva un malessere , – ma che cosa doveva fare ?\n",
      "--------------------------------------------------------------------------------\n",
      "Deleted opus_books_weights/tmodel_134.pt\n"
     ]
    },
    {
     "name": "stderr",
     "output_type": "stream",
     "text": [
      "Processing Epoch 136: 100%|██████████| 228/228 [03:05<00:00,  1.23it/s, loss=1.457]\n",
      "stty: 'standard input': Inappropriate ioctl for device\n"
     ]
    },
    {
     "name": "stdout",
     "output_type": "stream",
     "text": [
      "--------------------------------------------------------------------------------\n",
      "    SOURCE: And then I pointed to the sea.\n",
      "    TARGET: E nel dir là accennava col dito il mare.\n",
      " PREDICTED: Allora cominciai il mare al mare .\n",
      "--------------------------------------------------------------------------------\n",
      "    SOURCE: In this posture I fetched a compass to my right hand of near a mile, as well to get over the creek as to get into the wood, so that I could come within shot of them before I should be discovered, which I had seen by my glass it was easy to do.\n",
      "    TARGET: Così presi una giravolta per evitare la caletta e guadagnare la selva per mettermi in posizione di avere a tiro costoro prima di esserne scoperto: cosa che col mio cannocchiale conobbi di facile riuscita.\n",
      " PREDICTED: In tale postura di mano al mio socio per mandare ad una oltre a un miglio come meglio al di sopra della baia , così che avrei potuto entrarvi prima , onde era venuta innanzi di sicuro una baia per ad uso quanto avessi veduto la mia volta .\n",
      "--------------------------------------------------------------------------------\n",
      "Deleted opus_books_weights/tmodel_135.pt\n"
     ]
    },
    {
     "name": "stderr",
     "output_type": "stream",
     "text": [
      "Processing Epoch 137: 100%|██████████| 228/228 [03:05<00:00,  1.23it/s, loss=1.468]\n",
      "stty: 'standard input': Inappropriate ioctl for device\n"
     ]
    },
    {
     "name": "stdout",
     "output_type": "stream",
     "text": [
      "--------------------------------------------------------------------------------\n",
      "    SOURCE: It could not have lasted more than two hours: many a week has seemed shorter.\n",
      "    TARGET: In confronto di quella notte, paiono corte le settimane.\n",
      " PREDICTED: Non durò più che due ore di più : molte delle altre erano meno frequenti .\n",
      "--------------------------------------------------------------------------------\n",
      "    SOURCE: 'And to-morrow you may be going to law. Would you rather be tried in the old Criminal Court?'\n",
      "    TARGET: — E domani potrai essere giudicato tu stesso: ti piacerebbe forse essere giudicato dalla vecchia Camera criminale?\n",
      " PREDICTED: E domani , se ne occorre , sarete meglio ricevere i vecchi ?\n",
      "--------------------------------------------------------------------------------\n",
      "Deleted opus_books_weights/tmodel_136.pt\n"
     ]
    },
    {
     "name": "stderr",
     "output_type": "stream",
     "text": [
      "Processing Epoch 138: 100%|██████████| 228/228 [03:05<00:00,  1.23it/s, loss=1.471]\n",
      "stty: 'standard input': Inappropriate ioctl for device\n"
     ]
    },
    {
     "name": "stdout",
     "output_type": "stream",
     "text": [
      "--------------------------------------------------------------------------------\n",
      "    SOURCE: \"Humph! Not exactly. Your witch's skill is rather at fault sometimes.\"\n",
      "    TARGET: — No, non ho veduto precisamente questo; la vostra scienza falla qualche volta.\n",
      " PREDICTED: — Ma non so nulla , la vostra abilità è una colpa .\n",
      "--------------------------------------------------------------------------------\n",
      "    SOURCE: \"Yes it's almost a pity we've made up our minds to stick to this boat,\" answered Harris; and then there was silence for a while.\n",
      "    TARGET: — Sì, è quasi un peccato che ci siam messi in mente di rimanercene nella barca — rispose Harris; e poi per un poco vi fu silenzio.\n",
      " PREDICTED: — Sì , è quasi peccato che avessimo dovuto in bastone la barca — rispose Harris ; e poi in silenzio tacque per un momento .\n",
      "--------------------------------------------------------------------------------\n",
      "Deleted opus_books_weights/tmodel_137.pt\n"
     ]
    },
    {
     "name": "stderr",
     "output_type": "stream",
     "text": [
      "Processing Epoch 139: 100%|██████████| 228/228 [03:05<00:00,  1.23it/s, loss=1.497]\n",
      "stty: 'standard input': Inappropriate ioctl for device\n"
     ]
    },
    {
     "name": "stdout",
     "output_type": "stream",
     "text": [
      "--------------------------------------------------------------------------------\n",
      "    SOURCE: 'Oh, that is a long and tiresome story!\n",
      "    TARGET: — Ah, è una storia lunga e noiosa!\n",
      " PREDICTED: — Ah , è una storia lunga e allegra !\n",
      "--------------------------------------------------------------------------------\n",
      "    SOURCE: Having spread the quilt and folded my night-dress, I went to the window-seat to put in order some picture-books and doll's house furniture scattered there; an abrupt command from Georgiana to let her playthings alone (for the tiny chairs and mirrors, the fairy plates and cups, were her property) stopped my proceedings; and then, for lack of other occupation, I fell to breathing on the frost-flowers with which the window was fretted, and thus clearing a space in the glass through which I might look out on the grounds, where all was still and petrified under the influence of a hard frost.\n",
      "    TARGET: Volli metterli in ordine, ma Georgiana mi ordinò duramente di non toccar la roba sua. Essendo disoccupata, accostai le labbra ai fiori di ghiaccio che appannavano i cristalli e presto riuscii a guardare fuori della finestra.\n",
      " PREDICTED: Dopo aver steso le tavole e la notte in abito di cristallo , mi facevano nel suo vestito ben rumore dei libri bianchi e la bambola di Georgiana . Le sue ragazze avevano dato uno scialle e la bianchezza , dello stagno e sulle quali erano rosse erano in mano , e la cassetta su le sue foglie erano ; poi le risposte erano state chiare su quella luce bassa e coperta di fiori , nel centro della finestra , a un grande fascino di là da me .\n",
      "--------------------------------------------------------------------------------\n",
      "Deleted opus_books_weights/tmodel_138.pt\n"
     ]
    },
    {
     "name": "stderr",
     "output_type": "stream",
     "text": [
      "Processing Epoch 140: 100%|██████████| 228/228 [03:05<00:00,  1.23it/s, loss=1.484]\n",
      "stty: 'standard input': Inappropriate ioctl for device\n"
     ]
    },
    {
     "name": "stdout",
     "output_type": "stream",
     "text": [
      "--------------------------------------------------------------------------------\n",
      "    SOURCE: Will you ever forgive me?\"\n",
      "    TARGET: Mi perdonerete mai?\n",
      " PREDICTED: Credete forse ?\n",
      "--------------------------------------------------------------------------------\n",
      "    SOURCE: 'Come now, Kitty.\n",
      "    TARGET: — Basta, Kitty.\n",
      " PREDICTED: — Su , andiamo , Kitty .\n",
      "--------------------------------------------------------------------------------\n",
      "Deleted opus_books_weights/tmodel_139.pt\n"
     ]
    },
    {
     "name": "stderr",
     "output_type": "stream",
     "text": [
      "Processing Epoch 141: 100%|██████████| 228/228 [03:05<00:00,  1.23it/s, loss=1.468]\n",
      "stty: 'standard input': Inappropriate ioctl for device\n"
     ]
    },
    {
     "name": "stdout",
     "output_type": "stream",
     "text": [
      "--------------------------------------------------------------------------------\n",
      "    SOURCE: And now, some days of bitter grief having elapsed, an observable change came over the features of the mental disorder of my friend.\n",
      "    TARGET: E allora, dopo un lasso d'alcuni giorni pieni del più amaro dolore, si fece un visibile mutamento nei sintomi della malattia morale del mio amico.\n",
      " PREDICTED: E ora , in qualche tempo di amarezza ben amaro , non potendo pensare a un sentimento del mio spirito morale .\n",
      "--------------------------------------------------------------------------------\n",
      "    SOURCE: Good-night, my--\" He stopped, bit his lip, and abruptly left me.\n",
      "    TARGET: Buona sera, mia.... Si morse le labbra e mi lasciò bruscamente.\n",
      " PREDICTED: Buona notte , mio , ... — si fermò il suo labbro , e mi lasciò cadere .\n",
      "--------------------------------------------------------------------------------\n",
      "Deleted opus_books_weights/tmodel_140.pt\n"
     ]
    },
    {
     "name": "stderr",
     "output_type": "stream",
     "text": [
      "Processing Epoch 142: 100%|██████████| 228/228 [03:05<00:00,  1.23it/s, loss=1.459]\n",
      "stty: 'standard input': Inappropriate ioctl for device\n"
     ]
    },
    {
     "name": "stdout",
     "output_type": "stream",
     "text": [
      "--------------------------------------------------------------------------------\n",
      "    SOURCE: The two girls came across one another several times a day, and every time they met Kitty's eyes said: 'Who are you?\n",
      "    TARGET: Le due ragazze si incontravano varie volte al giorno, e ad ogni incontro gli occhi di Kitty dicevano: “Chi siete?\n",
      " PREDICTED: Per due ragazze l ’ altro con un altro giorno , si presentò tutti gli occhi di Kitty : “ Chi sono ?\n",
      "--------------------------------------------------------------------------------\n",
      "    SOURCE: He did not give me an answer, but said he must think it over; and this morning instead of an answer I have received an invitation for this evening to go to the Countess Lydia Ivanovna's.'\n",
      "    TARGET: Lui non m’ha dato una risposta e mi ha detto che ci avrebbe pensato, e questa mattina invece della risposta, ho ricevuto un invito per questa sera dalla contessa Lidija Ivanovna.\n",
      " PREDICTED: Mi disse che non mi ha dato la risposta , ma egli ci disse , e questa mattina invece della risposta ho ricevuto una risposta da questa sera per la contessa Lidija Ivanovna .\n",
      "--------------------------------------------------------------------------------\n",
      "Deleted opus_books_weights/tmodel_141.pt\n"
     ]
    },
    {
     "name": "stderr",
     "output_type": "stream",
     "text": [
      "Processing Epoch 143: 100%|██████████| 228/228 [03:05<00:00,  1.23it/s, loss=1.460]\n",
      "stty: 'standard input': Inappropriate ioctl for device\n"
     ]
    },
    {
     "name": "stdout",
     "output_type": "stream",
     "text": [
      "--------------------------------------------------------------------------------\n",
      "    SOURCE: Though Levin had great respect for his step-brother, an author known throughout Russia, he hated to be regarded not as Constantine Levin but as a brother of the famous Koznyshev.\n",
      "    TARGET: Pur avendo una grande considerazione per il fratellastro, scrittore noto in tutta la Russia, non poteva sopportare che ci si rivolgesse a lui, non come Konstantin Levin ma come al fratello del famoso Koznyšev.\n",
      " PREDICTED: Sebbene Levin non avesse la sua gamba , l ’ autore della Russia , ne cominciò a immaginare non essere , Levin si poteva non guardare come Konstantin Levin , ma come al fratello di Sergej Ivanovic .\n",
      "--------------------------------------------------------------------------------\n",
      "    SOURCE: How I looked forward to catch the first view of the well-known woods!\n",
      "    TARGET: Come guardavo avanti a me per iscorgere i boschi ben noti!\n",
      " PREDICTED: Come mi pareva d ’ aver pensato a nei primi tempi !\n",
      "--------------------------------------------------------------------------------\n",
      "Deleted opus_books_weights/tmodel_142.pt\n"
     ]
    },
    {
     "name": "stderr",
     "output_type": "stream",
     "text": [
      "Processing Epoch 144: 100%|██████████| 228/228 [03:05<00:00,  1.23it/s, loss=1.463]\n",
      "stty: 'standard input': Inappropriate ioctl for device\n"
     ]
    },
    {
     "name": "stdout",
     "output_type": "stream",
     "text": [
      "--------------------------------------------------------------------------------\n",
      "    SOURCE: \"Why, put me to sit here - darn silly trick!\n",
      "    TARGET: — M’avete fatto seder qui... è uno stupido scherzo.\n",
      " PREDICTED: — A che mi par sciocca qui !\n",
      "--------------------------------------------------------------------------------\n",
      "    SOURCE: CHAPTER IV\n",
      "    TARGET: IV\n",
      " PREDICTED: IV\n",
      "--------------------------------------------------------------------------------\n",
      "Deleted opus_books_weights/tmodel_143.pt\n"
     ]
    },
    {
     "name": "stderr",
     "output_type": "stream",
     "text": [
      "Processing Epoch 145: 100%|██████████| 228/228 [03:05<00:00,  1.23it/s, loss=1.464]\n",
      "stty: 'standard input': Inappropriate ioctl for device\n"
     ]
    },
    {
     "name": "stdout",
     "output_type": "stream",
     "text": [
      "--------------------------------------------------------------------------------\n",
      "    SOURCE: The article reproached the Government and the Academy for leaving a remarkable artist without encouragement or help.\n",
      "    TARGET: Nell’articolo c’erano rimproveri al governo e all’accademia perché un artista così notevole era lasciato privo di incoraggiamento e d’aiuti.\n",
      " PREDICTED: L ’ articolo si sentiva un governo dove fosse stato condotto per andare in ali senza alcuno o piuttosto .\n",
      "--------------------------------------------------------------------------------\n",
      "    SOURCE: We discussed philosophy and ethics.\n",
      "    TARGET: Si discusse di filosofia e di etica.\n",
      " PREDICTED: Su di filosofia .\n",
      "--------------------------------------------------------------------------------\n",
      "Deleted opus_books_weights/tmodel_144.pt\n"
     ]
    },
    {
     "name": "stderr",
     "output_type": "stream",
     "text": [
      "Processing Epoch 146: 100%|██████████| 228/228 [03:05<00:00,  1.23it/s, loss=1.449]\n",
      "stty: 'standard input': Inappropriate ioctl for device\n"
     ]
    },
    {
     "name": "stdout",
     "output_type": "stream",
     "text": [
      "--------------------------------------------------------------------------------\n",
      "    SOURCE: What are those churches, that ringing, and these lies for?\n",
      "    TARGET: Perché queste chiese, questo suono, questa menzogna?\n",
      " PREDICTED: Che cosa mai mi interessa , tanta e queste crudeltà ?\n",
      "--------------------------------------------------------------------------------\n",
      "    SOURCE: Having restored his authority, not to leave it at risk by trusting either to the French or other outside forces, he had recourse to his wiles, and he knew so well how to conceal his mind that, by the mediation of Signor Pagolo—whom the duke did not fail to secure with all kinds of attention, giving him money, apparel, and horses—the Orsini were reconciled, so that their simplicity brought them into his power at Sinigalia.\n",
      "    TARGET: E, ritornatoli la reputazione, né si fidando di Francia né di altre forze esterne, per non le avere a cimentare, si volse alli inganni; e seppe tanto dissimulare l'animo suo, che li Orsini, mediante el signor Paulo, si riconciliorono seco; con il quale el duca non mancò d'ogni ragione di offizio per assicurarlo, dandoli danari, veste e cavalli; tanto che la simplicità loro li condusse a Sinigallia nelle sua mani.\n",
      " PREDICTED: li sua autorità , non vi lasciorono seguire per natura de ' sudditi o di fuora , fuora della sua debolezza , aveva al proprio nome , elli aveva tanto d ' animo e che , col duca . Et interviene di quelli che non possé aggiugnere , sanza respetto del duca di qualunque attenzione , le aliene si , li quali , con tanta attenzione , che e ’ populi si servivano a posta .\n",
      "--------------------------------------------------------------------------------\n",
      "Deleted opus_books_weights/tmodel_145.pt\n"
     ]
    },
    {
     "name": "stderr",
     "output_type": "stream",
     "text": [
      "Processing Epoch 147: 100%|██████████| 228/228 [03:05<00:00,  1.23it/s, loss=1.464]\n",
      "stty: 'standard input': Inappropriate ioctl for device\n"
     ]
    },
    {
     "name": "stdout",
     "output_type": "stream",
     "text": [
      "--------------------------------------------------------------------------------\n",
      "    SOURCE: Though he was overflowing with high spirits Oblonsky immediately fell into a sympathetic and romantic mood suited to hers, inquired after her health and asked how she had spent the morning.\n",
      "    TARGET: Malgrado la disposizione d’animo sprizzante allegria in cui si trovava, Stepan Arkad’ic passò subito con naturalezza a quel tono compassionevole, poeticamente eccitato che si confaceva all’umore di lei. Le chiese della sua salute e come avesse passato la mattina.\n",
      " PREDICTED: Sebbene fosse al piacere di sotto la sua allegria , e immediatamente Stepan Arkad ’ ic si fosse messo a la salute , domandò dopo che aveva passato la mattina e di salute .\n",
      "--------------------------------------------------------------------------------\n",
      "    SOURCE: 'Very well, very well,' said Vronsky taking the reins.\n",
      "    TARGET: — Bene, bene — disse Vronskij, prendendo le redini.\n",
      " PREDICTED: — Va bene , bene — disse Vronskij , prendendo le redini .\n",
      "--------------------------------------------------------------------------------\n",
      "Deleted opus_books_weights/tmodel_146.pt\n"
     ]
    },
    {
     "name": "stderr",
     "output_type": "stream",
     "text": [
      "Processing Epoch 148: 100%|██████████| 228/228 [03:05<00:00,  1.23it/s, loss=1.450]\n",
      "stty: 'standard input': Inappropriate ioctl for device\n"
     ]
    },
    {
     "name": "stdout",
     "output_type": "stream",
     "text": [
      "--------------------------------------------------------------------------------\n",
      "    SOURCE: Vronsky wanted to say that after what he considered to be the inevitable duel it could not continue; but he said something else.\n",
      "    TARGET: Vronskij voleva dire che dopo il duello, inevitabile secondo lui, quello stato di cose non sarebbe potuto continuare, ma disse altro.\n",
      " PREDICTED: Vronskij voleva dire che , dopo quello che egli considerava il duello , non poteva continuare ; ma diceva qualcosa a altro .\n",
      "--------------------------------------------------------------------------------\n",
      "    SOURCE: My wife expects you.\n",
      "    TARGET: Mia moglie ti aspetta.\n",
      " PREDICTED: Mia moglie ...\n",
      "--------------------------------------------------------------------------------\n",
      "Deleted opus_books_weights/tmodel_147.pt\n"
     ]
    },
    {
     "name": "stderr",
     "output_type": "stream",
     "text": [
      "Processing Epoch 149: 100%|██████████| 228/228 [03:05<00:00,  1.23it/s, loss=1.454]\n",
      "stty: 'standard input': Inappropriate ioctl for device\n"
     ]
    },
    {
     "name": "stdout",
     "output_type": "stream",
     "text": [
      "--------------------------------------------------------------------------------\n",
      "    SOURCE: You cannot imagine the yearning I have to see him, and therefore cannot imagine the gratitude which your help will awaken in me. –\n",
      "    TARGET: Voi non potete immaginare come sia ansiosa di vedere mio figlio, e quanto vi sia grata per il vostro aiuto.\n",
      " PREDICTED: Tu non puoi immaginare nel ricordo del mio proprio arrivo , e perciò non posso immaginare la gratitudine per i vostri giusti diritti .\n",
      "--------------------------------------------------------------------------------\n",
      "    SOURCE: I had better descend to your level and talk about your majolica and engravings.\n",
      "    TARGET: Piuttosto discenderò io fino a voi a parlar delle vostre maioliche e delle vostre stampe.\n",
      " PREDICTED: Fin qui aveva portato a lavorare dal livello dei vostri oggetti e si .\n",
      "--------------------------------------------------------------------------------\n",
      "Deleted opus_books_weights/tmodel_148.pt\n"
     ]
    },
    {
     "name": "stderr",
     "output_type": "stream",
     "text": [
      "Processing Epoch 150: 100%|██████████| 228/228 [03:05<00:00,  1.23it/s, loss=1.472]\n",
      "stty: 'standard input': Inappropriate ioctl for device\n"
     ]
    },
    {
     "name": "stdout",
     "output_type": "stream",
     "text": [
      "--------------------------------------------------------------------------------\n",
      "    SOURCE: CHAPTER XXVIII\n",
      "    TARGET: XXVIII\n",
      " PREDICTED: XXVIII\n",
      "--------------------------------------------------------------------------------\n",
      "    SOURCE: He can see better...\n",
      "    TARGET: Lui vede meglio...\n",
      " PREDICTED: Lui può vedere , è meglio .\n",
      "--------------------------------------------------------------------------------\n",
      "Deleted opus_books_weights/tmodel_149.pt\n"
     ]
    },
    {
     "name": "stderr",
     "output_type": "stream",
     "text": [
      "Processing Epoch 151: 100%|██████████| 228/228 [03:05<00:00,  1.23it/s, loss=1.445]\n",
      "stty: 'standard input': Inappropriate ioctl for device\n"
     ]
    },
    {
     "name": "stdout",
     "output_type": "stream",
     "text": [
      "--------------------------------------------------------------------------------\n",
      "    SOURCE: You just look where I sowed last spring, how regularly I scattered it over.\n",
      "    TARGET: Date un’occhiata dove ho seminato io la primavera scorsa. Come ho dato la semenza!\n",
      " PREDICTED: Un ’ occhiata dove ho viaggiato l ’ ultimo di , come ho troppo !\n",
      "--------------------------------------------------------------------------------\n",
      "    SOURCE: WHEN THE PROFESSOR HAD GONE, Koznyshev turned to his step-brother.\n",
      "    TARGET: Quando il professore se ne fu andato, Sergej Ivanovic si rivolse al fratello:\n",
      " PREDICTED: Quando la serata fu finita , Sergej Ivanovic si rivolse il fratello .\n",
      "--------------------------------------------------------------------------------\n",
      "Deleted opus_books_weights/tmodel_150.pt\n"
     ]
    },
    {
     "name": "stderr",
     "output_type": "stream",
     "text": [
      "Processing Epoch 152: 100%|██████████| 228/228 [03:05<00:00,  1.23it/s, loss=1.448]\n",
      "stty: 'standard input': Inappropriate ioctl for device\n"
     ]
    },
    {
     "name": "stdout",
     "output_type": "stream",
     "text": [
      "--------------------------------------------------------------------------------\n",
      "    SOURCE: Then I cried out, “Lord, be my help, for I am in great distress.”\n",
      "    TARGET: In quel momento esclamai: «Signore, aiutatemi voi, perchè io sono abbandonato sopra la terra!»\n",
      " PREDICTED: Ma : Dio mio !\n",
      "--------------------------------------------------------------------------------\n",
      "    SOURCE: He noticed in all these acquaintances a kind of joy, which they suppressed with difficulty, like the joy he had noticed in the lawyer's eyes and again just now in the footman's.\n",
      "    TARGET: Notava in tutti questi amici come una certa gioia a stento contenuta, quella stessa che egli aveva sorpreso negli occhi dell’avvocato e che ora scorgeva negli occhi del servitore.\n",
      " PREDICTED: Il principe era cominciato a tutti quei conoscenti : una specie di gioia che si sembravano quelle piccole difficoltà , come essi aveva notato , e la gioia degli occhi all ’ avvocato , e poi ancora in quel momento del cameriere .\n",
      "--------------------------------------------------------------------------------\n",
      "Deleted opus_books_weights/tmodel_151.pt\n"
     ]
    },
    {
     "name": "stderr",
     "output_type": "stream",
     "text": [
      "Processing Epoch 153: 100%|██████████| 228/228 [03:05<00:00,  1.23it/s, loss=1.456]\n",
      "stty: 'standard input': Inappropriate ioctl for device\n"
     ]
    },
    {
     "name": "stdout",
     "output_type": "stream",
     "text": [
      "--------------------------------------------------------------------------------\n",
      "    SOURCE: 'Because there's nothing to do!'\n",
      "    TARGET: — Ma perché qui non avete nulla da fare.\n",
      " PREDICTED: — Perché non c ’ è nulla da fare .\n",
      "--------------------------------------------------------------------------------\n",
      "    SOURCE: While the priest read, the dying man showed no sign of life: his eyes were closed.\n",
      "    TARGET: Mentre il prete leggeva la preghiera, il morente non dava alcun segno di vita; gli occhi erano chiusi.\n",
      " PREDICTED: Quando il sacerdote lesse , il moribondo non spiegò a un tratto alcuna ; gli occhi erano chiusi .\n",
      "--------------------------------------------------------------------------------\n",
      "Deleted opus_books_weights/tmodel_152.pt\n"
     ]
    },
    {
     "name": "stderr",
     "output_type": "stream",
     "text": [
      "Processing Epoch 154: 100%|██████████| 228/228 [03:05<00:00,  1.23it/s, loss=1.454]\n",
      "stty: 'standard input': Inappropriate ioctl for device\n"
     ]
    },
    {
     "name": "stdout",
     "output_type": "stream",
     "text": [
      "--------------------------------------------------------------------------------\n",
      "    SOURCE: \"I would be quiet if he liked, and as to talking rationally, I flattered myself I was doing that now.\"\n",
      "    TARGET: Gli risposi che desideravo di esser calma e di parlare ragionevolmente e mi lusingavo di averlo fatto sempre.\n",
      " PREDICTED: Mi sarebbe piaciuto calma , e volli tornare io stessa e mi misi a piangere , ma sono stata di quel posto .\n",
      "--------------------------------------------------------------------------------\n",
      "    SOURCE: 'Serezha,' she said as soon as the governess had gone away, 'it was wrong, but you won't do it again?...\n",
      "    TARGET: — Serëza — disse lei non appena la governante fu uscita dalla stanza — quel che hai fatto è male.\n",
      " PREDICTED: — Serëza — ella disse , appena l ’ inglese è andata , — è stato male , ma non ti ?\n",
      "--------------------------------------------------------------------------------\n",
      "Deleted opus_books_weights/tmodel_153.pt\n"
     ]
    },
    {
     "name": "stderr",
     "output_type": "stream",
     "text": [
      "Processing Epoch 155: 100%|██████████| 228/228 [03:05<00:00,  1.23it/s, loss=1.470]\n",
      "stty: 'standard input': Inappropriate ioctl for device\n"
     ]
    },
    {
     "name": "stdout",
     "output_type": "stream",
     "text": [
      "--------------------------------------------------------------------------------\n",
      "    SOURCE: I will do more... What am I?\n",
      "    TARGET: Chi sono? sono una donna perduta.\n",
      " PREDICTED: Che farò più ? cosa io ?\n",
      "--------------------------------------------------------------------------------\n",
      "    SOURCE: 'Oh, heavens! What cold hands!' he said.\n",
      "    TARGET: — Dio mio che mani fredde! — egli disse.\n",
      " PREDICTED: — Oh Signore ! che fredda le mani ! — egli disse .\n",
      "--------------------------------------------------------------------------------\n",
      "Deleted opus_books_weights/tmodel_154.pt\n"
     ]
    },
    {
     "name": "stderr",
     "output_type": "stream",
     "text": [
      "Processing Epoch 156: 100%|██████████| 228/228 [03:05<00:00,  1.23it/s, loss=1.463]\n",
      "stty: 'standard input': Inappropriate ioctl for device\n"
     ]
    },
    {
     "name": "stdout",
     "output_type": "stream",
     "text": [
      "--------------------------------------------------------------------------------\n",
      "    SOURCE: The disease of the lady Madeline had long baffled the skill of her physicians.\n",
      "    TARGET: La malattia di lady Madeline avea per lungo tempo disorientata la scienza dei suoi medici.\n",
      " PREDICTED: Il matrimonio della signora Madeline non aveva che il dominio , della sua gioventù .\n",
      "--------------------------------------------------------------------------------\n",
      "    SOURCE: \"Wallingford lock!\" they answered. \"Lor' love you, sir, that's been done away with for over a year.\n",
      "    TARGET: — La chiusa di Wallingford! — rispose uno. — Dio vi benedica, signore, è da un anno che l’hanno abolita.\n",
      " PREDICTED: — Wallingford ! — rispose . — . — L ’ amore che vi è stato da un anno fa in un anno .\n",
      "--------------------------------------------------------------------------------\n",
      "Deleted opus_books_weights/tmodel_155.pt\n"
     ]
    },
    {
     "name": "stderr",
     "output_type": "stream",
     "text": [
      "Processing Epoch 157: 100%|██████████| 228/228 [03:05<00:00,  1.23it/s, loss=1.445]\n",
      "stty: 'standard input': Inappropriate ioctl for device\n"
     ]
    },
    {
     "name": "stdout",
     "output_type": "stream",
     "text": [
      "--------------------------------------------------------------------------------\n",
      "    SOURCE: Sure was I of His efficiency to save what He had made: convinced I grew that neither earth should perish, nor one of the souls it treasured.\n",
      "    TARGET: Ero sicura che Egli potesse salvare ciò che aveva creato, ero convinta che Egli non lasciasse perire né i mondi, né le anime che sono loro affidate.\n",
      " PREDICTED: Ebbi io per salvare quello che aveva fatto , fui convinto che non si mai , né di essere con quello dell ' anima sua .\n",
      "--------------------------------------------------------------------------------\n",
      "    SOURCE: But he could not say this to her.\n",
      "    TARGET: Egli non poteva dirle questo.\n",
      " PREDICTED: Ma egli non poteva dire questo .\n",
      "--------------------------------------------------------------------------------\n",
      "Deleted opus_books_weights/tmodel_156.pt\n"
     ]
    },
    {
     "name": "stderr",
     "output_type": "stream",
     "text": [
      "Processing Epoch 158: 100%|██████████| 228/228 [03:05<00:00,  1.23it/s, loss=1.470]\n",
      "stty: 'standard input': Inappropriate ioctl for device\n"
     ]
    },
    {
     "name": "stdout",
     "output_type": "stream",
     "text": [
      "--------------------------------------------------------------------------------\n",
      "    SOURCE: 'Yes, you were saying...' he began\n",
      "    TARGET: — Così voi state dicendo... — disse.\n",
      " PREDICTED: — Sì , avete detto ... — cominciò .\n",
      "--------------------------------------------------------------------------------\n",
      "    SOURCE: He did not now recall, as he had done before, the whole course of his thoughts (he did not now need to).\n",
      "    TARGET: Adesso non ricordava, come gli accadeva prima, tutta la successione del pensiero (non ne aveva bisogno).\n",
      " PREDICTED: Egli non ricordava più , come aveva fatto prima di tutto il tempo , tuttavia non aveva bisogno di quello che pensava .\n",
      "--------------------------------------------------------------------------------\n",
      "Deleted opus_books_weights/tmodel_157.pt\n"
     ]
    },
    {
     "name": "stderr",
     "output_type": "stream",
     "text": [
      "Processing Epoch 159: 100%|██████████| 228/228 [03:05<00:00,  1.23it/s, loss=1.452]\n",
      "stty: 'standard input': Inappropriate ioctl for device\n"
     ]
    },
    {
     "name": "stdout",
     "output_type": "stream",
     "text": [
      "--------------------------------------------------------------------------------\n",
      "    SOURCE: Having thus heard the signal plainly, I laid me down; and it having been a day of great fatigue to me, I slept very sound, till I was surprised with the noise of a gun; and presently starting up, I heard a man call me by the name of “Governor!\n",
      "    TARGET: Dopo di ciò andai a coricarmi, ed essendo stata quella una giornata di grande fatica per me, dormii profondissimamente tutta la notte, finchè sul far del giorno non mi svegliò un colpo di cannone che allora mi fece qualche sorpresa.\n",
      " PREDICTED: Dopo avermi udito il passo che mi bisognava seguire . Mi trovai quivi una gran fatica per avermi veduto essere sorpreso dal rumore di un moschetto ; e tornato sul terzo moschetto , mi sentii udito dianzi , ed essere udito un uomo di nome .\n",
      "--------------------------------------------------------------------------------\n",
      "    SOURCE: I found presently it flew up into my head violently; but I fell into a sound sleep, and waked no more till, by the sun, it must necessarily be near three o’clock in the afternoon the next day—nay, to this hour I am partly of opinion that I slept all the next day and night, and till almost three the day after; for otherwise I know not how I should lose a day out of my reckoning in the days of the week, as it appeared some years after I had done; for if I had lost it by crossing and recrossing the line, I should have lost more than one day; but certainly I lost a day in my account, and never knew which way.\n",
      "    TARGET: Ma erano queste le tre ore del dì seguente, o aveva io dormito tutta una notte e tutto il giorno e l’altra notte seguente? Inchino a credere così; altrimenti non saprei spiegare a me stesso in qual maniera nel mio computo dei giorni della settimana ne avessi perduto uno, siccome dovetti accorgermene alcuni anni dopo; perchè se avessi perduto un giorno per avere tagliata e ritagliata la stessa linea o tacca, il giorno perduto non sarebbe stato uno solamente.\n",
      " PREDICTED: Ma fui ben presto liberato nel mio stato mi posi in mente l ’ ultima volta ; ma nel sogno non mi più alcun che per giunta alla marea , perchè si metteva entro tre giorni ed essermi fedele anzi per una giornata al mezzogiorno dell ’ ora , e per altro viaggio che quel giorno mi il male cui mancava ; perchè , in somma dopo aver preso uno scampo avrebbe perduto un giorno ; perchè io non sapeva il mio computo di una settimana , perchè sarebbe perduto un giorno dopo aver perduto un perduto un piede perduto .\n",
      "--------------------------------------------------------------------------------\n",
      "Deleted opus_books_weights/tmodel_158.pt\n"
     ]
    },
    {
     "name": "stderr",
     "output_type": "stream",
     "text": [
      "Processing Epoch 160: 100%|██████████| 228/228 [03:05<00:00,  1.23it/s, loss=1.454]\n",
      "stty: 'standard input': Inappropriate ioctl for device\n"
     ]
    },
    {
     "name": "stdout",
     "output_type": "stream",
     "text": [
      "--------------------------------------------------------------------------------\n",
      "    SOURCE: You are aware that my plan in bringing up these girls is, not to accustom them to habits of luxury and indulgence, but to render them hardy, patient, self-denying.\n",
      "    TARGET: Voi sapete che educando queste ragazze, non è nelle mie vedute di assuefarle al lusso, ma di renderle misere, pazienti e tolleranti nella sofferenza.\n",
      " PREDICTED: \" Voi capite che i miei signori sono sulle spese di non con li doveri del lusso e di cultura , di render rispetto a loro l ' agiatezza , di malato .\n",
      "--------------------------------------------------------------------------------\n",
      "    SOURCE: CHAPTER XII Alice's Evidence\n",
      "    TARGET: XII LA TESTIMONIANZA DI ALICE\n",
      " PREDICTED: XII Alice\n",
      "--------------------------------------------------------------------------------\n",
      "Deleted opus_books_weights/tmodel_159.pt\n"
     ]
    },
    {
     "name": "stderr",
     "output_type": "stream",
     "text": [
      "Processing Epoch 161: 100%|██████████| 228/228 [03:05<00:00,  1.23it/s, loss=1.458]\n",
      "stty: 'standard input': Inappropriate ioctl for device\n"
     ]
    },
    {
     "name": "stdout",
     "output_type": "stream",
     "text": [
      "--------------------------------------------------------------------------------\n",
      "    SOURCE: Perfect beauty is a strong expression; but I do not retrace or qualify it: as sweet features as ever the temperate clime of Albion moulded; as pure hues of rose and lily as ever her humid gales and vapoury skies generated and screened, justified, in this instance, the term.\n",
      "    TARGET: Bellezza perfetta significa troppo, ma io non ne fo il ritratto, perché era giustificata dai tratti più armoniosi che abbia mai prodotti il clima temperato d'Albione, dalla carnagione pura come gigli e rose, che abbia fiorito fra i vapori del nostro suolo.\n",
      " PREDICTED: è una bellezza forte , ma non potevo e seguire il volto ; pareva sempre nata e ben presente come hanno nei dintorni di famiglia , ma dolci e là del resto i fiori che hanno e quel nido abitato da esempio , così i di questo .\n",
      "--------------------------------------------------------------------------------\n",
      "    SOURCE: We knew nothing where we were, or upon what land it was we were driven—whether an island or the main, whether inhabited or not inhabited. As the rage of the wind was still great, though rather less than at first, we could not so much as hope to have the ship hold many minutes without breaking into pieces, unless the winds, by a kind of miracle, should turn immediately about.\n",
      "    TARGET: Non sapevamo affatto nè dove fossimo, nè su qual terra saremmo trasportati, se in un’isola o in un continente, se in un paese abitato o disabitato; e poichè il furore del vento imperversava tuttavia, sebbene un poco più mitigato di prima, non avevamo grande speranza di governare il vascello per molti minuti senza che andasse in pezzi, semprechè il turbine, ciò che sarebbe stato una specie di miracolo, non voltasse ad un tratto da un’altra banda.\n",
      " PREDICTED: Noi non sapevamo nè di qual natura fosse , nè di qual natura fosse , come lo nè fosse un ’ isola o sul continente , se fosse stato un ’ isola o almeno lo ; nè di meno a guisa di un molto maggiore conforto . In somma di questo vascello avessi potuto più volte , non facciamo la speranza d ’ Israele , onde immediatamente attorno , come se si fosse nascosto a guisa d ’ un pensiere del vascello : non più mai in un pensiere .\n",
      "--------------------------------------------------------------------------------\n",
      "Deleted opus_books_weights/tmodel_160.pt\n"
     ]
    },
    {
     "name": "stderr",
     "output_type": "stream",
     "text": [
      "Processing Epoch 162: 100%|██████████| 228/228 [03:05<00:00,  1.23it/s, loss=1.452]\n",
      "stty: 'standard input': Inappropriate ioctl for device\n"
     ]
    },
    {
     "name": "stdout",
     "output_type": "stream",
     "text": [
      "--------------------------------------------------------------------------------\n",
      "    SOURCE: \"The last time, Jane!\n",
      "    TARGET: — L'ultima volta, Jane?\n",
      " PREDICTED: — L ' ultima volta , Jane !\n",
      "--------------------------------------------------------------------------------\n",
      "    SOURCE: He stroked her, and whistled as a sign that she might now set off.\n",
      "    TARGET: Levin l’accarezzò e fischiò in segno che si poteva cominciare.\n",
      " PREDICTED: Egli le carezzò e il giornale con un segno che si poteva lasciar andare .\n",
      "--------------------------------------------------------------------------------\n",
      "Deleted opus_books_weights/tmodel_161.pt\n"
     ]
    },
    {
     "name": "stderr",
     "output_type": "stream",
     "text": [
      "Processing Epoch 163: 100%|██████████| 228/228 [03:05<00:00,  1.23it/s, loss=1.451]\n",
      "stty: 'standard input': Inappropriate ioctl for device\n"
     ]
    },
    {
     "name": "stdout",
     "output_type": "stream",
     "text": [
      "--------------------------------------------------------------------------------\n",
      "    SOURCE: Then the second man climbs out of the boat and comes to help him, and they get in each other's way, and hinder one another.\n",
      "    TARGET: Allora l’altro esce dalla barca e va ad aiutarlo, e l’uno impaccia l’altro, l’uno impedisce l’altro.\n",
      " PREDICTED: Allora , il secondo della barca , viene a aiutarlo , e ci nell ’ altro , dare a vicenda .\n",
      "--------------------------------------------------------------------------------\n",
      "    SOURCE: Now I come to think it over, was that young man as dense-headed as we thought? or was he - no, impossible! there was such a simple, child-like expression about him!\n",
      "    TARGET: Ora che ci ripenso, era quel giovane ottuso come noi credevamo? oppure era... No, impossibile, v’era in lui un’espressione così infantile e semplice!...\n",
      " PREDICTED: Ora mi a riflettere , fu che il giovane come portare e curioso ?\n",
      "--------------------------------------------------------------------------------\n",
      "Deleted opus_books_weights/tmodel_162.pt\n"
     ]
    },
    {
     "name": "stderr",
     "output_type": "stream",
     "text": [
      "Processing Epoch 164: 100%|██████████| 228/228 [03:05<00:00,  1.23it/s, loss=1.441]\n",
      "stty: 'standard input': Inappropriate ioctl for device\n"
     ]
    },
    {
     "name": "stdout",
     "output_type": "stream",
     "text": [
      "--------------------------------------------------------------------------------\n",
      "    SOURCE: Laska became more and more intent on her pursuit, the nearer she got to the hummocks.\n",
      "    TARGET: Nella ricerca, Laska, quanto più si avvicinava alle note montagnole, tanto più diventava seria.\n",
      " PREDICTED: Laska si fece ancor più a destra , ancor più vicino a sé le montagnole .\n",
      "--------------------------------------------------------------------------------\n",
      "    SOURCE: The first two days after his wife's departure Karenin received petitioners, and his private secretary, attended Committee Meetings, and went to the dining-room to dinner as usual.\n",
      "    TARGET: I primi due giorni dopo la partenza della moglie, Aleksej Aleksandrovic ricevette i clienti, il capo di gabinetto, andò al comitato e pranzò in sala, come al solito.\n",
      " PREDICTED: La prima volta che , dopo i due giorni della moglie , si erano presentati i consueti , dando il giornale alle riunioni , andò in sala da pranzo , come al quale più solito , si preparava a pranzo .\n",
      "--------------------------------------------------------------------------------\n",
      "Deleted opus_books_weights/tmodel_163.pt\n"
     ]
    },
    {
     "name": "stderr",
     "output_type": "stream",
     "text": [
      "Processing Epoch 165: 100%|██████████| 228/228 [03:05<00:00,  1.23it/s, loss=1.457]\n",
      "stty: 'standard input': Inappropriate ioctl for device\n"
     ]
    },
    {
     "name": "stdout",
     "output_type": "stream",
     "text": [
      "--------------------------------------------------------------------------------\n",
      "    SOURCE: From this time, I confess, I had a mind to venture over, and see if I could possibly join with those bearded men, who I made no doubt were Spaniards and Portuguese; not doubting but, if I could, we might find some method to escape from thence, being upon the continent, and a good company together, better than I could from an island forty miles off the shore, alone and without help.\n",
      "    TARGET: Mi sembrava ben certo che, conseguito simile intento e trovatomi una volta sul continente e in buona compagnia, qualche espediente di liberazione non sarebbe stato per me tanto difficile ad immaginarsi, quanto in un’isola ov’era solo e privo d’aiuti, lontano quaranta miglia dalla terra ferma.\n",
      " PREDICTED: Da quel tempo , lo confesso , non m ’ avea di avventurarmi su la testa di fuori ch ’ io non sapea galleggiare come i uomi bianchi , se poteva lontani dal caso di Guinea , ma se fosse stato qualche cosa di cui potea contare qualcuno di lì verso la traversata del Brasile , e forse era meglio di rimanere su la spiaggia al quale potesse condurmi a quaranta miglia da esso , senza speranza di .\n",
      "--------------------------------------------------------------------------------\n",
      "    SOURCE: The two aims are connected, and we must act on both.'\n",
      "    TARGET: L’una cosa è legata all’altra; bisogna battere sulle due parti del cerchio.\n",
      " PREDICTED: La due virtù è una sola : e noi bisogna essere legata a tutti e due .\n",
      "--------------------------------------------------------------------------------\n",
      "Deleted opus_books_weights/tmodel_164.pt\n"
     ]
    },
    {
     "name": "stderr",
     "output_type": "stream",
     "text": [
      "Processing Epoch 166: 100%|██████████| 228/228 [03:05<00:00,  1.23it/s, loss=1.438]\n",
      "stty: 'standard input': Inappropriate ioctl for device\n"
     ]
    },
    {
     "name": "stdout",
     "output_type": "stream",
     "text": [
      "--------------------------------------------------------------------------------\n",
      "    SOURCE: It excited George so much that he climbed up on the back of a chair to get a better view of it.\n",
      "    TARGET: Interessò tanto Giorgio ch’egli s’arrampicò sulla spalliera d’una sedia per osservarla meglio.\n",
      " PREDICTED: Era così eccitata che egli s ’ era sulla sedia a suo punto vedere un esercizio più .\n",
      "--------------------------------------------------------------------------------\n",
      "    SOURCE: \"Oh, qu' elle y sera mal--peu comfortable!\n",
      "    TARGET: — Oh come ci starà male!\n",
      " PREDICTED: — Oh , che vi faccia qui , bene .\n",
      "--------------------------------------------------------------------------------\n",
      "Deleted opus_books_weights/tmodel_165.pt\n"
     ]
    },
    {
     "name": "stderr",
     "output_type": "stream",
     "text": [
      "Processing Epoch 167: 100%|██████████| 228/228 [03:05<00:00,  1.23it/s, loss=1.442]\n",
      "stty: 'standard input': Inappropriate ioctl for device\n"
     ]
    },
    {
     "name": "stdout",
     "output_type": "stream",
     "text": [
      "--------------------------------------------------------------------------------\n",
      "    SOURCE: And, as in that case, what was now being accomplished came harshly, painfully, incomprehensibly; and while watching it, the soul soared, as then, to heights it had never known before, at which reason could not keep up with it.\n",
      "    TARGET: Ed egualmente con pena, con tormento avanzava quello che si compiva, ed egualmente in modo impenetrabile dinanzi a questo avvenimento di ordine superiore, l’anima si sollevava a un’altezza quale egli mai prima aveva neppure concepito e dove la ragione ormai non poteva tenerle dietro.\n",
      " PREDICTED: E , malgrado tutta la stessa , che in questo caso si faceva , si irritava e cominciò a essere , e , invece , l ’ anima , come di poi , alla forma di tutti e di poi , in alto , aveva mai potuto non accorgersene .\n",
      "--------------------------------------------------------------------------------\n",
      "    SOURCE: Yashvin laughed.\n",
      "    TARGET: Jašvin si mise a ridere.\n",
      " PREDICTED: Jašvin si mise a ridere .\n",
      "--------------------------------------------------------------------------------\n",
      "Deleted opus_books_weights/tmodel_166.pt\n"
     ]
    },
    {
     "name": "stderr",
     "output_type": "stream",
     "text": [
      "Processing Epoch 168: 100%|██████████| 228/228 [03:05<00:00,  1.23it/s, loss=1.465]\n",
      "stty: 'standard input': Inappropriate ioctl for device\n"
     ]
    },
    {
     "name": "stdout",
     "output_type": "stream",
     "text": [
      "--------------------------------------------------------------------------------\n",
      "    SOURCE: So with this resolution I composed myself for a time, and resolved that I would go to work with all speed to build me a wall with piles and cables, &c., in a circle, as before, and set my tent up in it when it was finished; but that I would venture to stay where I was till it was finished, and fit to remove.\n",
      "    TARGET: Acquetatomi in questa conclusione per un certo tempo, risolvei di mettermi bensì con tutta la sollecitudine all’opera di fabbricarmi una trincera con pertiche e gomone entro un circolo, come dianzi, ma di non trasportarvi la mia tenda finchè questa trincera non fosse finita; in somma di tenermi al primo alloggio finchè tutto non fosse pronto ed apparecchiato per prenderne un altro.\n",
      " PREDICTED: con questa risoluzione risolvei di meglio ad un tempo , e divisai di andare all ’ opera con tutti i miei sonni , io credea ben ad una specie di carriuola , come dianzi , fossero in un cerchio ed una tenda direzione del mio frascato , allorchè mi stava abbastanza per rimanere quasi risoluto di rimanere meco .\n",
      "--------------------------------------------------------------------------------\n",
      "    SOURCE: Well, as far as I am concerned I do my duty, which is all I can do.'\n",
      "    TARGET: Per quel che riguarda me, io compio il mio dovere. È tutto quello che posso fare.\n",
      " PREDICTED: Per me è lontano che io abbia fatto il mio dovere .\n",
      "--------------------------------------------------------------------------------\n",
      "Deleted opus_books_weights/tmodel_167.pt\n"
     ]
    },
    {
     "name": "stderr",
     "output_type": "stream",
     "text": [
      "Processing Epoch 169: 100%|██████████| 228/228 [03:05<00:00,  1.23it/s, loss=1.445]\n",
      "stty: 'standard input': Inappropriate ioctl for device\n"
     ]
    },
    {
     "name": "stdout",
     "output_type": "stream",
     "text": [
      "--------------------------------------------------------------------------------\n",
      "    SOURCE: The translation of a few pages of German occupied an hour; then I got my palette and pencils, and fell to the more soothing, because easier occupation, of completing Rosamond Oliver's miniature.\n",
      "    TARGET: Impiegai un'ora a tradurre alcune pagine di un libro tedesco, poi presi tavolozza e pennelli e mi diedi a terminare la miniatura di Rosmunda Oliver.\n",
      " PREDICTED: Finalmente mi uno dei pagine di poco tempo , poi mi misi la tavolozza e mi gettai più forte e a pensare più cupa occupazione .\n",
      "--------------------------------------------------------------------------------\n",
      "    SOURCE: The man that had the lance or dart did not fly from them, but the rest did; however, as the two creatures ran directly into the water, they did not offer to fall upon any of the negroes, but plunged themselves into the sea, and swam about, as if they had come for their diversion; at last one of them began to come nearer our boat than at first I expected; but I lay ready for him, for I had loaded my gun with all possible expedition, and bade Xury load both the others.\n",
      "    TARGET: L’uomo che portava la lancia, o dardo o bastoncello che fosse, non fuggì, ma fuggirono tutti gli altri, ancorchè le due fiere, correndo direttamente verso l’acqua, non paressero vogliose di scagliarsi addosso ad alcuno di que’ Negri, ma bensì di gettarsi nel mare, ove si diedero a notare qua e là, come per loro divertimento. Finalmente uno di questi animali cominciava ad avvicinarsi alla nostra scialuppa più di quanto mi avrei aspettato; ma mi trovò pronto ai suoi comandi, che aveva già caricato il mio moschetto con ogni possibile celerità, e intimato a Xury di fare lo stesso con gli altri due.\n",
      " PREDICTED: Fu che il divertimento o là usciva dalla lancia a mangiarsi ... quanti altri fossero , come i nostri moschetti ; perchè , come i due orsi erano affatto acqua , non davano loro l ’ acqua di nel mare , si d ’ essi , si come se coloro erano loro , e i loro piuttosto ad un caso , la nostra scialuppa cominciai a venire da noi ; il primo sparo io aveva deciso , perchè io allontanai con grande stento , non mala voglia di rivedere il mio moschetto , come feci più di quanto gli il Moro , ma di quanto ci trovai in appresso con altri che il mio moschetto fosse possibile il maggiore , tutti e due altri ingredienti per mandarlo ad altri .\n",
      "--------------------------------------------------------------------------------\n",
      "Deleted opus_books_weights/tmodel_168.pt\n"
     ]
    },
    {
     "name": "stderr",
     "output_type": "stream",
     "text": [
      "Processing Epoch 170: 100%|██████████| 228/228 [03:05<00:00,  1.23it/s, loss=1.441]\n",
      "stty: 'standard input': Inappropriate ioctl for device\n"
     ]
    },
    {
     "name": "stdout",
     "output_type": "stream",
     "text": [
      "--------------------------------------------------------------------------------\n",
      "    SOURCE: 'Then it wasn't very civil of you to offer it,' said Alice angrily.\n",
      "    TARGET: — Ma non è creanza invitare a bere quel che non c'è, — disse Alice in collera.\n",
      " PREDICTED: — E allora non è mai venuto da te , — disse Alice con rabbia . — Ma è forse difficile che invece !\n",
      "--------------------------------------------------------------------------------\n",
      "    SOURCE: And as with these examples I have reached italy, which has been ruled for many years by mercenaries, I wish to discuss them more seriouslly, in order that, having seen tehir rise and progress, one may be better prepared to counteract them.\n",
      "    TARGET: E, perché io sono venuto con questi esempli in Italia, la quale è stata governata molti anni dalle arme mercennarie, le voglio discorrere, e più da alto, acciò che, veduto l’origine e progressi di esse, si possa meglio correggerle.\n",
      " PREDICTED: E perché , con questi esempli sono rotti a ' particulari , da ' anni , li quali voglio suto spinto più tardi a queste , et devo e ' disordini , di più si può meglio andare a .\n",
      "--------------------------------------------------------------------------------\n",
      "Deleted opus_books_weights/tmodel_169.pt\n"
     ]
    },
    {
     "name": "stderr",
     "output_type": "stream",
     "text": [
      "Processing Epoch 171: 100%|██████████| 228/228 [03:05<00:00,  1.23it/s, loss=1.455]\n",
      "stty: 'standard input': Inappropriate ioctl for device\n"
     ]
    },
    {
     "name": "stdout",
     "output_type": "stream",
     "text": [
      "--------------------------------------------------------------------------------\n",
      "    SOURCE: An old woman we met in the shop then kindly took us along with her for a quarter of a mile, to a lady friend of hers, who occasionally let rooms to gentlemen.\n",
      "    TARGET: Una vecchia incontrata nella bottega ci condusse gentilmente con lei per un quarto di miglio da una donnetta amica sua, che talvolta affittava delle stanze a dei signori.\n",
      " PREDICTED: Una vecchia donna che ci riunimmo nella bottega di per un quarto d ’ miglio per un quarto di miglio , alla sua signora amico , che ogni tanto .\n",
      "--------------------------------------------------------------------------------\n",
      "    SOURCE: It must be because he thinks too much.\n",
      "    TARGET: Probabilmente perché pensa molto.\n",
      " PREDICTED: Verrà troppo .\n",
      "--------------------------------------------------------------------------------\n",
      "Deleted opus_books_weights/tmodel_170.pt\n"
     ]
    },
    {
     "name": "stderr",
     "output_type": "stream",
     "text": [
      "Processing Epoch 172: 100%|██████████| 228/228 [03:05<00:00,  1.23it/s, loss=1.442]\n",
      "stty: 'standard input': Inappropriate ioctl for device\n"
     ]
    },
    {
     "name": "stdout",
     "output_type": "stream",
     "text": [
      "--------------------------------------------------------------------------------\n",
      "    SOURCE: 'Tea, please, and tell Serezha that his father is here.\n",
      "    TARGET: — Servite il tè, e dite a Serëza che Aleksej Aleksandrovic è qui.\n",
      " PREDICTED: “ Una volta s ' fra Serëza e Serëza il padre è qui .\n",
      "--------------------------------------------------------------------------------\n",
      "    SOURCE: What are those churches, that ringing, and these lies for?\n",
      "    TARGET: Perché queste chiese, questo suono, questa menzogna?\n",
      " PREDICTED: Che chiese di chiese , questa avversione e queste menzogna ?\n",
      "--------------------------------------------------------------------------------\n",
      "Deleted opus_books_weights/tmodel_171.pt\n"
     ]
    },
    {
     "name": "stderr",
     "output_type": "stream",
     "text": [
      "Processing Epoch 173: 100%|██████████| 228/228 [03:05<00:00,  1.23it/s, loss=1.434]\n",
      "stty: 'standard input': Inappropriate ioctl for device\n"
     ]
    },
    {
     "name": "stdout",
     "output_type": "stream",
     "text": [
      "--------------------------------------------------------------------------------\n",
      "    SOURCE: It rains fast, Hannah: will you have the goodness to look at the fire in the parlour?\"\n",
      "    TARGET: — Piove forte; Anna, fatemi il piacere di guardare se il fuoco è ancora acceso in salotto.\n",
      " PREDICTED: verdi . Anna verrà la bontà , e voi avrete il fuoco in salotto ?\n",
      "--------------------------------------------------------------------------------\n",
      "    SOURCE: It was a wailing child this night, and a laughing one the next: now it nestled close to me, and now it ran from me; but whatever mood the apparition evinced, whatever aspect it wore, it failed not for seven successive nights to meet me the moment I entered the land of slumber.\n",
      "    TARGET: La notte seguente invece rideva; qualche volta afferravami per la sottana, o correva lungi da me; ma sotto una forma o sotto un'altra quella visione mi perseguitò per sette notti consecutive.\n",
      " PREDICTED: La notte stava seduta ed un lieve ridendo , il giorno mi si Mi fece pensieroso ; ma ora tutti correvano sul ' una specie di terrore simile a quel fantasma , nel momento in cui otto notti non si per allontanarmi dal terra .\n",
      "--------------------------------------------------------------------------------\n",
      "Deleted opus_books_weights/tmodel_172.pt\n"
     ]
    },
    {
     "name": "stderr",
     "output_type": "stream",
     "text": [
      "Processing Epoch 174: 100%|██████████| 228/228 [03:05<00:00,  1.23it/s, loss=1.441]\n",
      "stty: 'standard input': Inappropriate ioctl for device\n"
     ]
    },
    {
     "name": "stdout",
     "output_type": "stream",
     "text": [
      "--------------------------------------------------------------------------------\n",
      "    SOURCE: And that difficult task for the mistress of a house with a small circle which included such people as the steward and the architect – people of quite a different world, who tried not to be abashed by the unfamiliar luxury and were unable to take any sustained part in the general conversation – Anna managed that task with her usual tact, naturally and even with pleasure, as Dolly observed.\n",
      "    TARGET: E questa conversazione, molto difficile per una padrona di casa con una tavola non grande, con persone come l’amministratore e l’architetto, di tutt’altro mondo, che cercavano di non intimidirsi dello sfarzo inusitato, ma che non potevano partecipare a lungo alla conversazione generale, questa difficile conversazione, ella la dirigeva con il suo tatto abituale, con naturalezza e quasi con soddisfazione, come notava Dar’ja Aleksandrovna.\n",
      " PREDICTED: E che quel periodo era difficile per la padrona di casa con una piccola cerchia che illuminava tutta la gente d ’ amministratore , e l ’ architetto per non si sforzava mai di non sciupare quell ’ ambiente nuovo , che non li avvolgeva le pieghe dall ’ ambiente generale nel tono generale , Anna , tutta la maggior parte in cui parlava del solito con piacere , e anche Dolly , come adesso parlava del tutto .\n",
      "--------------------------------------------------------------------------------\n",
      "    SOURCE: Alice felt that this could not be denied, so she tried another question. 'What sort of people live about here?'\n",
      "    TARGET: Alice sentì che quegli aveva ragione e tentò un'altra domanda. — Che razza di gente c'è in questi dintorni?\n",
      " PREDICTED: Alice sentiva che quella gente non poteva , perché aveva un ’ altra domanda . — Che cosa fa in casa ?\n",
      "--------------------------------------------------------------------------------\n",
      "Deleted opus_books_weights/tmodel_173.pt\n"
     ]
    },
    {
     "name": "stderr",
     "output_type": "stream",
     "text": [
      "Processing Epoch 175: 100%|██████████| 228/228 [03:05<00:00,  1.23it/s, loss=1.444]\n",
      "stty: 'standard input': Inappropriate ioctl for device\n"
     ]
    },
    {
     "name": "stdout",
     "output_type": "stream",
     "text": [
      "--------------------------------------------------------------------------------\n",
      "    SOURCE: So what am I to do?'\n",
      "    TARGET: Ebbene, che fare?\n",
      " PREDICTED: E che fare , che fare ?”\n",
      "--------------------------------------------------------------------------------\n",
      "    SOURCE: I am counting on this evening.\n",
      "    TARGET: Ma io conto sulla serata.\n",
      " PREDICTED: Io devo prendere questa sera .\n",
      "--------------------------------------------------------------------------------\n",
      "Deleted opus_books_weights/tmodel_174.pt\n"
     ]
    },
    {
     "name": "stderr",
     "output_type": "stream",
     "text": [
      "Processing Epoch 176: 100%|██████████| 228/228 [03:05<00:00,  1.23it/s, loss=1.443]\n",
      "stty: 'standard input': Inappropriate ioctl for device\n"
     ]
    },
    {
     "name": "stdout",
     "output_type": "stream",
     "text": [
      "--------------------------------------------------------------------------------\n",
      "    SOURCE: 'No, extremes are not right in any case,' said Nataly quietly, putting his paper-knife in its right place on the table.\n",
      "    TARGET: — No, l’esagerazione non va bene in nulla — disse tranquilla Natalie, mettendo al suo posto il tagliacarte sul tavolo.\n",
      " PREDICTED: — No , l ’ estremo affare ... non è bene del caso — disse con calma , toccando il tagliacarte sul tagliacarte sul tavolo .\n",
      "--------------------------------------------------------------------------------\n",
      "    SOURCE: At this surprising change of my circumstances, from a merchant to a miserable slave, I was perfectly overwhelmed; and now I looked back upon my father’s prophetic discourse to me, that I should be miserable and have none to relieve me, which I thought was now so effectually brought to pass that I could not be worse; for now the hand of Heaven had overtaken me, and I was undone without redemption; but, alas! this was but a taste of the misery I was to go through, as will appear in the sequel of this story.\n",
      "    TARGET: A tal sorprendente cambiamento de’ casi miei, al vedere trasformata la mia condizione di mercante in quella di abbietto schiavo, rimasi come percosso dalla folgore, e rimembrai le parole profetiche di mio padre: Tu sarai miserabile, e non avrai alcuno che corra in tuo scampo: la qual profezia io credeva avverata ad un punto di cui non potesse immaginarsi il più tristo; io credea che la mano di Dio mi avesse percosso oltre ad ogni possibile limite; io mi vedea perduto senza riscatto; ma ohimè! ciò non era se non un preludio della miseria cui soggiacqui in appresso, come apparirà dalla continuazione di questa mia storia.\n",
      " PREDICTED: Di questo venuto or sorprendente la mia condizione , da un socio su un uomo veramente diverso da quello ch ’ io era pienamente nero alla mia , e la verità , che fossi io solo per me , avrei potuto , che non mi fossi riuscito a morire con me la sua colpa . Se avessi tanto avrei potuto far tanto tuo padre , mi sarebbe riuscito se fossi ridotto ad uno scampo per me ; ma se fossi stato d ’ ogni probabilità che fossi ridotto ad illuminare quel povero selvaggio .\n",
      "--------------------------------------------------------------------------------\n",
      "Deleted opus_books_weights/tmodel_175.pt\n"
     ]
    },
    {
     "name": "stderr",
     "output_type": "stream",
     "text": [
      "Processing Epoch 177: 100%|██████████| 228/228 [03:05<00:00,  1.23it/s, loss=1.430]\n",
      "stty: 'standard input': Inappropriate ioctl for device\n"
     ]
    },
    {
     "name": "stdout",
     "output_type": "stream",
     "text": [
      "--------------------------------------------------------------------------------\n",
      "    SOURCE: 'Serezha...\n",
      "    TARGET: — Serëza...\n",
      " PREDICTED: — Serëza ....\n",
      "--------------------------------------------------------------------------------\n",
      "    SOURCE: But he had not seen her for three days and, as her husband had returned from abroad, he did not know whether she could keep the appointment to-day or not, and he did not know how to find out.\n",
      "    TARGET: Ma non la vedeva da tre giorni e, dopo il ritorno del marito dall’estero, non sapeva se ciò sarebbe stato possibile quel giorno o no, e non sapeva come fare per saperlo.\n",
      " PREDICTED: Ma non aveva visto da tre giorni , e , come era tornato dall ’ estero , non sapeva se fosse stata quella nomina a quella nomina o no la nomina . E non sapeva come si facesse nessun posto a quella situazione .\n",
      "--------------------------------------------------------------------------------\n",
      "Deleted opus_books_weights/tmodel_176.pt\n"
     ]
    },
    {
     "name": "stderr",
     "output_type": "stream",
     "text": [
      "Processing Epoch 178: 100%|██████████| 228/228 [03:05<00:00,  1.23it/s, loss=1.437]\n",
      "stty: 'standard input': Inappropriate ioctl for device\n"
     ]
    },
    {
     "name": "stdout",
     "output_type": "stream",
     "text": [
      "--------------------------------------------------------------------------------\n",
      "    SOURCE: 'You come too!' shouted a peasant to Levin. 'Come!\n",
      "    TARGET: — Vieni anche tu! — gridava il contadino a Levin. — Non aver paura!\n",
      " PREDICTED: — Vai anche tu ! — gridò a Levin . — Andiamo a Levin , andiamo !\n",
      "--------------------------------------------------------------------------------\n",
      "    SOURCE: You no doubt were, at that hour, in unconscious sleep, Jane: perhaps your soul wandered from its cell to comfort mine; for those were your accents--as certain as I live--they were yours!\"\n",
      "    TARGET: \"Voi certo, Jane, a quell'ora dormivate placidamente e forse la vostra anima lasciava l'involucro terrestre per consolare la mia, perché era certo la vostra voce, ne sono certissimo.\n",
      " PREDICTED: \" Ma senza dubbio fu la speranza che mi , Jane ; forse avete nascosto la forza dell ' anima per cercare il mio volto ; siete convinta che essi la vostra volontà .\n",
      "--------------------------------------------------------------------------------\n",
      "Deleted opus_books_weights/tmodel_177.pt\n"
     ]
    },
    {
     "name": "stderr",
     "output_type": "stream",
     "text": [
      "Processing Epoch 179: 100%|██████████| 228/228 [03:05<00:00,  1.23it/s, loss=1.442]\n",
      "stty: 'standard input': Inappropriate ioctl for device\n"
     ]
    },
    {
     "name": "stdout",
     "output_type": "stream",
     "text": [
      "--------------------------------------------------------------------------------\n",
      "    SOURCE: You cannot imagine the yearning I have to see him, and therefore cannot imagine the gratitude which your help will awaken in me. –\n",
      "    TARGET: Voi non potete immaginare come sia ansiosa di vedere mio figlio, e quanto vi sia grata per il vostro aiuto.\n",
      " PREDICTED: Tu non puoi immaginare nel desiderio di vedermi io e per perciò non posso immaginare la gratitudine che i vostri aiuto per me , sarebbero dovute .\n",
      "--------------------------------------------------------------------------------\n",
      "    SOURCE: Under the influence of anger he had evidently regained perfect self-possession. 'But I repeat again what I then told you and subsequently wrote,' he went on in a shrill thin voice, 'I again repeat that I will not know it, I ignore it as long as it is not known to the rest of the world, as long as my name is not dishonoured.\n",
      "    TARGET: Io lo ignoro. Non tutte le mogli sono come voi generose tanto da affrettarsi a comunicare una notizia così piacevole ai mariti. — S’indugiò in modo particolare sulla parola «piacevole». — Io ignoro tutto ciò finché il mondo lo ignora, finché il mio nome non è svergognato.\n",
      " PREDICTED: dalla collera con l ’ influenza di rabbia , che , evidentemente ho avuto di nuovo il posto . — Ma vi ripeto che quello che sono stato per te e scritto in una voce stridula — egli disse — che non so bene a questo , come il resto del mondo ; che è tempo in grado di non credere come il mio nome .\n",
      "--------------------------------------------------------------------------------\n",
      "Deleted opus_books_weights/tmodel_178.pt\n"
     ]
    },
    {
     "name": "stderr",
     "output_type": "stream",
     "text": [
      "Processing Epoch 180: 100%|██████████| 228/228 [03:05<00:00,  1.23it/s, loss=1.445]\n",
      "stty: 'standard input': Inappropriate ioctl for device\n"
     ]
    },
    {
     "name": "stdout",
     "output_type": "stream",
     "text": [
      "--------------------------------------------------------------------------------\n",
      "    SOURCE: And you have to understand this, that a prince, especially a new one, cannot observe all those things for which men are esteemed, being often forced, in order to maintain the state, to act contrary to fidelity, friendship, humanity, and religion.\n",
      "    TARGET: Et hassi ad intendere questo, che uno principe, e massime uno principe nuovo, non può osservare tutte quelle cose per le quali li uomini sono tenuti buoni, sendo spesso necessitato, per mantenere lo stato, operare contro alla fede, contro alla carità, contro alla umanità, contro alla religione.\n",
      " PREDICTED: E voi , adunque , che uno principe , debbe guardare nuovo uno principe , non si potendo io iudico tutte queste cose per le quali sono spesso , per volere , le cagioni della fede , che sia pure necessario usare .\n",
      "--------------------------------------------------------------------------------\n",
      "    SOURCE: The steward must not be excused when the small meadow was not mown and the grass was wasted; but grass must not be mown on the eighty desyatinas which had been planted with young trees.\n",
      "    TARGET: Non si poteva lasciar passare all’amministratore che un praticello non fosse stato falciato e l’erba si fosse perduta per niente; ma si potevano anche non falciare le ottanta desjatiny dove era stato piantato un bosco giovane.\n",
      " PREDICTED: L ’ amministratore non avrebbe avuto aria se non falciato fosse andata e la freschezza e l ’ erba era ancora incolta e con le falciate che avevano in maniera impossibile si erano indispensabili per i giovani .\n",
      "--------------------------------------------------------------------------------\n",
      "Deleted opus_books_weights/tmodel_179.pt\n"
     ]
    },
    {
     "name": "stderr",
     "output_type": "stream",
     "text": [
      "Processing Epoch 181: 100%|██████████| 228/228 [03:05<00:00,  1.23it/s, loss=1.437]\n",
      "stty: 'standard input': Inappropriate ioctl for device\n"
     ]
    },
    {
     "name": "stdout",
     "output_type": "stream",
     "text": [
      "--------------------------------------------------------------------------------\n",
      "    SOURCE: Just then Oblonsky, his hat tilted on one side, with radiant face and eyes, walked into the Gardens like a joyous conqueror.\n",
      "    TARGET: In quel momento Stepan Arkad’ic, col cappello di traverso, il viso e gli occhi luccicanti, entrava nel giardino come un trionfatore.\n",
      " PREDICTED: In quel momento Stepan Arkad ’ ic , che riguardava il cappello di sghembo e occhi scintillanti , splendendo nel giardino come un allegro .\n",
      "--------------------------------------------------------------------------------\n",
      "    SOURCE: We expend money for salaries, but there are no schools, no medical assistance, no midwives, no chemists, no anything!'\n",
      "    TARGET: Le tasse che si pagano, servono per gli stipendi, ma non vi sono scuole, né infermieri, né levatrici, né farmacie, non c’è nulla.\n",
      " PREDICTED: Noi dei denari per gli affari , ma non ci sono le scuole , non sono alcuna , né di delirio , senza dubbio .\n",
      "--------------------------------------------------------------------------------\n",
      "Deleted opus_books_weights/tmodel_180.pt\n"
     ]
    },
    {
     "name": "stderr",
     "output_type": "stream",
     "text": [
      "Processing Epoch 182: 100%|██████████| 228/228 [03:05<00:00,  1.23it/s, loss=1.446]\n",
      "stty: 'standard input': Inappropriate ioctl for device\n"
     ]
    },
    {
     "name": "stdout",
     "output_type": "stream",
     "text": [
      "--------------------------------------------------------------------------------\n",
      "    SOURCE: The chief object of his life, the settling of conditions with the least possible amount of disturbance, could not be furthered by divorce.\n",
      "    TARGET: E quindi lo scopo principale: risolvere la situazione col minimo turbamento possibile, non si sarebbe ottenuto nemmeno col divorzio.\n",
      " PREDICTED: Lo scarso avvenimento della sua vita , le quali considerazioni tutte le condizioni della vita si sarebbero stimate , non riusciva a prendere il divorzio .\n",
      "--------------------------------------------------------------------------------\n",
      "    SOURCE: I have hired a building for the purpose, with a cottage of two rooms attached to it for the mistress's house.\n",
      "    TARGET: \"Ho preso in affitto una casetta con due stanze annesse per la maestra; questa avrà un salario di trenta sterline l'anno.\n",
      " PREDICTED: Ho preso dalla casa una casetta con una casa di due stanze sul guardiano della padrona .\n",
      "--------------------------------------------------------------------------------\n",
      "Deleted opus_books_weights/tmodel_181.pt\n"
     ]
    },
    {
     "name": "stderr",
     "output_type": "stream",
     "text": [
      "Processing Epoch 183: 100%|██████████| 228/228 [03:05<00:00,  1.23it/s, loss=1.441]\n",
      "stty: 'standard input': Inappropriate ioctl for device\n"
     ]
    },
    {
     "name": "stdout",
     "output_type": "stream",
     "text": [
      "--------------------------------------------------------------------------------\n",
      "    SOURCE: During these eight years my life was uniform: but not unhappy, because it was not inactive.\n",
      "    TARGET: In quegli otto anni menai vita laboriosa, ma non triste ed acquistai un'eccellente educazione.\n",
      " PREDICTED: Durante queste otto anni , ella era non infelice ; ma non infelice , perché non era così tutt ’ anni .\n",
      "--------------------------------------------------------------------------------\n",
      "    SOURCE: 'Of course I know you, I've heard all about you,' the Prince said to her with a smile, by which Kitty saw with joy that her father liked Varenka. 'Where are you hurrying so to?'\n",
      "    TARGET: — Ma io vi conosco, naturalmente, e vi conosco da molto — le disse il principe con un sorriso dal quale Kitty capì con gioia che l’amica sua era piaciuta al padre. — Dove vi affrettate tanto?\n",
      " PREDICTED: — S ’ intende , ho sentito tutto per te — disse il principe , sorridendo di lei , il quale con un sorriso che Kitty si mostrava con gioia . — Dove siete ?\n",
      "--------------------------------------------------------------------------------\n",
      "Deleted opus_books_weights/tmodel_182.pt\n"
     ]
    },
    {
     "name": "stderr",
     "output_type": "stream",
     "text": [
      "Processing Epoch 184: 100%|██████████| 228/228 [03:05<00:00,  1.23it/s, loss=1.437]\n",
      "stty: 'standard input': Inappropriate ioctl for device\n"
     ]
    },
    {
     "name": "stdout",
     "output_type": "stream",
     "text": [
      "--------------------------------------------------------------------------------\n",
      "    SOURCE: And did I not understand those senseless words of Theodore's?\n",
      "    TARGET: Non ho forse inteso queste parole insensate di Fëdor?\n",
      " PREDICTED: E non capiva quelle parole di Fëdor ...\n",
      "--------------------------------------------------------------------------------\n",
      "    SOURCE: At every step he took he felt as a man would feel who, after admiring the smooth happy motion of a little boat upon the water, had himself got into the boat.\n",
      "    TARGET: A ogni passo provava quello che prova l’uomo che, dopo aver ammirato il facile, sereno incedere di una barchetta su di un lago, segga egli stesso in quella barchetta.\n",
      " PREDICTED: A ogni passo , si sentì come un uomo che potesse sentire , con quell ’ allegria venuto sereno e al remo , si fosse tolta la barca .\n",
      "--------------------------------------------------------------------------------\n",
      "Deleted opus_books_weights/tmodel_183.pt\n"
     ]
    },
    {
     "name": "stderr",
     "output_type": "stream",
     "text": [
      "Processing Epoch 185: 100%|██████████| 228/228 [03:05<00:00,  1.23it/s, loss=1.436]\n",
      "stty: 'standard input': Inappropriate ioctl for device\n"
     ]
    },
    {
     "name": "stdout",
     "output_type": "stream",
     "text": [
      "--------------------------------------------------------------------------------\n",
      "    SOURCE: Reader, do you know, as I do, what terror those cold people can put into the ice of their questions?\n",
      "    TARGET: Non si può credere come le persone fredde sgomentino con il gelo delle loro domande.\n",
      " PREDICTED: Lettore , lo sapete , come io , quando io , dopo aver messo in mostra il ghiaccio dei passeggeri nelle questioni del ghiaccio ?\n",
      "--------------------------------------------------------------------------------\n",
      "    SOURCE: You just look where I sowed last spring, how regularly I scattered it over.\n",
      "    TARGET: Date un’occhiata dove ho seminato io la primavera scorsa. Come ho dato la semenza!\n",
      " PREDICTED: Ecco l ’ aria dove devo tirar fuori la primavera , come meglio io l ’ opera .\n",
      "--------------------------------------------------------------------------------\n",
      "Deleted opus_books_weights/tmodel_184.pt\n"
     ]
    },
    {
     "name": "stderr",
     "output_type": "stream",
     "text": [
      "Processing Epoch 186: 100%|██████████| 228/228 [03:05<00:00,  1.23it/s, loss=1.437]\n",
      "stty: 'standard input': Inappropriate ioctl for device\n"
     ]
    },
    {
     "name": "stdout",
     "output_type": "stream",
     "text": [
      "--------------------------------------------------------------------------------\n",
      "    SOURCE: One evening, in the beginning of June, I had stayed out very late with Mary Ann in the wood; we had, as usual, separated ourselves from the others, and had wandered far; so far that we lost our way, and had to ask it at a lonely cottage, where a man and woman lived, who looked after a herd of half-wild swine that fed on the mast in the wood.\n",
      "    TARGET: Una sera, al principio di giugno, mi ero indugiata nel bosco con Anna; dopo esserci separate dalle altre avevamo errato lungamente, e ci eravamo sperse. Bisognò chiedere indicazioni sulla via da tenere a un uomo e una donna che facevano pascere i maiali.\n",
      " PREDICTED: Una sera , al principio di giugno , mi ero rimasta con la mia Anna , quasi sempre nel bosco . Ne avevamo separati , tanto da le altre maestre , e aveva una viva , che doveva perduto una casetta , dove un uomo fa sulla via , che era mezza pazza .\n",
      "--------------------------------------------------------------------------------\n",
      "    SOURCE: I must speak out about everything. Yes, I must give you a sketch of the people you will meet here,' she began.\n",
      "    TARGET: Già, devo farti un quadro della compagnia che troverai da noi — ella cominciò. — Comincio dalle signore.\n",
      " PREDICTED: Ho bisogno di parlare tutto — Sì , devo darvi un abbozzo del popolo . — Ecco che vi qui — cominciò .\n",
      "--------------------------------------------------------------------------------\n",
      "Deleted opus_books_weights/tmodel_185.pt\n"
     ]
    },
    {
     "name": "stderr",
     "output_type": "stream",
     "text": [
      "Processing Epoch 187: 100%|██████████| 228/228 [03:05<00:00,  1.23it/s, loss=1.441]\n",
      "stty: 'standard input': Inappropriate ioctl for device\n"
     ]
    },
    {
     "name": "stdout",
     "output_type": "stream",
     "text": [
      "--------------------------------------------------------------------------------\n",
      "    SOURCE: Nothing to cut a feeling or sting a passion?\n",
      "    TARGET: Nulla che ferisca il sentimento o ecciti la passione?\n",
      " PREDICTED: Che passione che si che i sensi non vi ?\n",
      "--------------------------------------------------------------------------------\n",
      "    SOURCE: The real article, however, is rather disappointing, after the pictures.\n",
      "    TARGET: Ma a giudicar dai quadri, però, il modello al naturale procura qualche delusione.\n",
      " PREDICTED: Non è vero , però un articolo è un certo articolo , che si debba fare il dominio .\n",
      "--------------------------------------------------------------------------------\n",
      "Deleted opus_books_weights/tmodel_186.pt\n"
     ]
    },
    {
     "name": "stderr",
     "output_type": "stream",
     "text": [
      "Processing Epoch 188: 100%|██████████| 228/228 [03:05<00:00,  1.23it/s, loss=1.440]\n",
      "stty: 'standard input': Inappropriate ioctl for device\n"
     ]
    },
    {
     "name": "stdout",
     "output_type": "stream",
     "text": [
      "--------------------------------------------------------------------------------\n",
      "    SOURCE: And why have I come here?\n",
      "    TARGET: E perché son venuta qua?\n",
      " PREDICTED: E perché mai sono venuto da me ?\n",
      "--------------------------------------------------------------------------------\n",
      "    SOURCE: Carefully stepping with her bare sunburnt feet the old woman showed him the way and lifted for him one of the bars enclosing the threshing-floor.\n",
      "    TARGET: Camminando cauta coi piedi nudi abbronzati, la vecchia accompagnò Levin e levò la chiusura presso l’aia.\n",
      " PREDICTED: con precauzione e tastò i piedi scalzi sulla vecchia donna , tirò fuori e fece passare per una delle redini .\n",
      "--------------------------------------------------------------------------------\n",
      "Deleted opus_books_weights/tmodel_187.pt\n"
     ]
    },
    {
     "name": "stderr",
     "output_type": "stream",
     "text": [
      "Processing Epoch 189: 100%|██████████| 228/228 [03:05<00:00,  1.23it/s, loss=1.437]\n",
      "stty: 'standard input': Inappropriate ioctl for device\n"
     ]
    },
    {
     "name": "stdout",
     "output_type": "stream",
     "text": [
      "--------------------------------------------------------------------------------\n",
      "    SOURCE: \"Look at your boat, sir; you in the red and black caps.\n",
      "    TARGET: — Guardate la vostra, barca, signori... voi col berretto nero e col berretto rosso.\n",
      " PREDICTED: — Guardate la vostra barca , signore ; voi siete sul velluto e vi di raso .\n",
      "--------------------------------------------------------------------------------\n",
      "    SOURCE: 'I love those two beings only, and the one excludes the other!\n",
      "    TARGET: — Soltanto questi due esseri io amo, e l’uno esclude l’altro.\n",
      " PREDICTED: — Io amo quei due esseri , e l ’ una all ’ altro .\n",
      "--------------------------------------------------------------------------------\n",
      "Deleted opus_books_weights/tmodel_188.pt\n"
     ]
    },
    {
     "name": "stderr",
     "output_type": "stream",
     "text": [
      "Processing Epoch 190: 100%|██████████| 228/228 [03:05<00:00,  1.23it/s, loss=1.444]\n",
      "stty: 'standard input': Inappropriate ioctl for device\n"
     ]
    },
    {
     "name": "stdout",
     "output_type": "stream",
     "text": [
      "--------------------------------------------------------------------------------\n",
      "    SOURCE: \"No mistake at all.\" \"Perhaps you have read the figures wrong--it may be two thousand!\"\n",
      "    TARGET: Forse avete letto male le cifre e si tratta di duecento sterline?\n",
      " PREDICTED: — Forse avete letto ; forse avete letto la gente e quella gente sarebbe stato mille volte .\n",
      "--------------------------------------------------------------------------------\n",
      "    SOURCE: \"Ah!\" we said, as we stood looking out at them through the window, \"won't they come home soaked!\"\n",
      "    TARGET: — Ah! — dicevamo, guardando, di fuori — ritorneranno a casa fradici!\n",
      " PREDICTED: — Ah ! — disse , mentre stavamo guardando verso la finestra . — Non venite a casa !\n",
      "--------------------------------------------------------------------------------\n",
      "Deleted opus_books_weights/tmodel_189.pt\n"
     ]
    },
    {
     "name": "stderr",
     "output_type": "stream",
     "text": [
      "Processing Epoch 191: 100%|██████████| 228/228 [03:05<00:00,  1.23it/s, loss=1.430]\n",
      "stty: 'standard input': Inappropriate ioctl for device\n"
     ]
    },
    {
     "name": "stdout",
     "output_type": "stream",
     "text": [
      "--------------------------------------------------------------------------------\n",
      "    SOURCE: Because, there being in the one disdain and in the other suspicion, it is not possible for them to work well together.\n",
      "    TARGET: Perché, sendo nell'uno sdegno e nell'altro sospetto, non è possibile operino bene insieme.\n",
      " PREDICTED: Perché là l ’ aria misteriosa e il sospetto fosse possibile e il sospetto , non è possibile per lavorare insieme .\n",
      "--------------------------------------------------------------------------------\n",
      "    SOURCE: 'You can't think how glad I am to see you again, you dear old thing!' said the Duchess, as she tucked her arm affectionately into Alice's, and they walked off together.\n",
      "    TARGET: — Non puoi immaginare la mia gioia nel rivederti, bambina mia! — disse la Duchessa infilando affettuosamente il braccio in quello di Alice, e camminando insieme.\n",
      " PREDICTED: — Non potete credere che sia di nuovo con voi , cara ! — disse la Duchessa , come se le il braccio , con disprezzo i . — E stavano insieme a Alice .\n",
      "--------------------------------------------------------------------------------\n",
      "Deleted opus_books_weights/tmodel_190.pt\n"
     ]
    },
    {
     "name": "stderr",
     "output_type": "stream",
     "text": [
      "Processing Epoch 192: 100%|██████████| 228/228 [03:05<00:00,  1.23it/s, loss=1.425]\n",
      "stty: 'standard input': Inappropriate ioctl for device\n"
     ]
    },
    {
     "name": "stdout",
     "output_type": "stream",
     "text": [
      "--------------------------------------------------------------------------------\n",
      "    SOURCE: \"And you girls probably worshipped him, as a convent full of religieuses would worship their director.\"\n",
      "    TARGET: — E forse voi e le altre ragazze lo venerano come le monache venerano il confessore.\n",
      " PREDICTED: — Ma forse le bambine , e le quali il disegno sono di nuovo , non debbono mettersi di nuovo .\n",
      "--------------------------------------------------------------------------------\n",
      "    SOURCE: All happiness will be torn away with you.\n",
      "    TARGET: Con voi se ne andrà ogni felicità.\n",
      " PREDICTED: Tutti si con voi .\n",
      "--------------------------------------------------------------------------------\n",
      "Deleted opus_books_weights/tmodel_191.pt\n"
     ]
    },
    {
     "name": "stderr",
     "output_type": "stream",
     "text": [
      "Processing Epoch 193: 100%|██████████| 228/228 [03:05<00:00,  1.23it/s, loss=1.431]\n",
      "stty: 'standard input': Inappropriate ioctl for device\n"
     ]
    },
    {
     "name": "stdout",
     "output_type": "stream",
     "text": [
      "--------------------------------------------------------------------------------\n",
      "    SOURCE: You can SEE them there in shoals, when you are out for a walk along the banks: they come and stand half out of the water with their mouths open for biscuits.\n",
      "    TARGET: Potete vederle a mucchi quando fate una passeggiatina lungo la riva: corrono a mettersi a mezzo fuori dell’acqua con le bocche aperte per acchiappare i biscotti sbriciolati.\n",
      " PREDICTED: Li può trovati nei dintorni quando siete rimasta per una passeggiata , occupati in mezzo alle : e fuori di tutte le bocche fatte in bocca .\n",
      "--------------------------------------------------------------------------------\n",
      "    SOURCE: In St. Nicholas Church, at Abingdon, there is a monument to John Blackwall and his wife Jane, who both, after leading a happy married life, died on the very same day, August 21, 1625; and in St. Helen's Church, it is recorded that W. Lee, who died in 1637, \"had in his lifetime issue from his loins two hundred lacking but three.\"\n",
      "    TARGET: Nella chiesa di San Nicola, ad Abingdon, v’è un monumento a Giovanni Blackwall e alla moglie Giovanna, i quali entrambi, dopo aver condotto una felice vita coniugale, morirono lo stesso giorno, cioè il 21 agosto 1265; e nella chiesa di Sant’Elena è ricordato che W. Lee, il quale morì nel 1639, «ebbe in vita sua discendenza dai suoi lombi di duecento meno tre».\n",
      " PREDICTED: In quel Saint - John , a Abingdon vi è un concetto degno di e di fronte alla moglie , che , dopo essere stata una vita felice , cercai di venir via d ’ agosto , nè nel ; e anche nel momento in cui la Chiesa è capitano nella chiesa di mentire e di far cento sessanta centimetri di vita , ma non avevamo determinato che la vita senza mangiare .\n",
      "--------------------------------------------------------------------------------\n",
      "Deleted opus_books_weights/tmodel_192.pt\n"
     ]
    },
    {
     "name": "stderr",
     "output_type": "stream",
     "text": [
      "Processing Epoch 194: 100%|██████████| 228/228 [03:05<00:00,  1.23it/s, loss=1.432]\n",
      "stty: 'standard input': Inappropriate ioctl for device\n"
     ]
    },
    {
     "name": "stdout",
     "output_type": "stream",
     "text": [
      "--------------------------------------------------------------------------------\n",
      "    SOURCE: CHAPTER XI Who Stole the Tarts?\n",
      "    TARGET: XI CHI HA RUBATO LE TORTE?\n",
      " PREDICTED: XI che ?\n",
      "--------------------------------------------------------------------------------\n",
      "    SOURCE: I like it!\"\n",
      "    TARGET: Come mi piace!\n",
      " PREDICTED: A me piace !”\n",
      "--------------------------------------------------------------------------------\n",
      "Deleted opus_books_weights/tmodel_193.pt\n"
     ]
    },
    {
     "name": "stderr",
     "output_type": "stream",
     "text": [
      "Processing Epoch 195: 100%|██████████| 228/228 [03:05<00:00,  1.23it/s, loss=1.440]\n",
      "stty: 'standard input': Inappropriate ioctl for device\n"
     ]
    },
    {
     "name": "stdout",
     "output_type": "stream",
     "text": [
      "--------------------------------------------------------------------------------\n",
      "    SOURCE: Vasenka Veslovsky alone chattered incessantly and merrily.\n",
      "    TARGET: Solo Vasen’ka Veslovskij parlava allegramente, senza interruzione.\n",
      " PREDICTED: Vasen ’ ka Veslovskij sola senza posa e allegramente .\n",
      "--------------------------------------------------------------------------------\n",
      "    SOURCE: I never loved, I never esteemed, I did not even know her.\n",
      "    TARGET: Non l'amavo, né la stimavo e non avevo potuto conoscerla.\n",
      " PREDICTED: Non mi ero mai amata , che non ero ingannata ; anche lei non la sapeva .\n",
      "--------------------------------------------------------------------------------\n",
      "Deleted opus_books_weights/tmodel_194.pt\n"
     ]
    },
    {
     "name": "stderr",
     "output_type": "stream",
     "text": [
      "Processing Epoch 196: 100%|██████████| 228/228 [03:05<00:00,  1.23it/s, loss=1.430]\n",
      "stty: 'standard input': Inappropriate ioctl for device\n"
     ]
    },
    {
     "name": "stdout",
     "output_type": "stream",
     "text": [
      "--------------------------------------------------------------------------------\n",
      "    SOURCE: That expression pleased her more than all else she saw and she felt that it was the centre of the picture, and that therefore praise of it would be agreeable to the artist. 'One sees he is sorry for Pilate.'\n",
      "    TARGET: Di tutto quello che aveva visto questa espressione le era piaciuta maggiormente, e sentiva che questa era il nucleo del quadro, e che perciò la lode avrebbe fatto piacere all’artista. — Si vede che ha pena di Pilato.\n",
      " PREDICTED: Lo sguardo di tutti , e adesso sentiva che questo era al centro del quadro , e che perciò anche le lodi di un essere piacevole pensiero sarebbe stata spinta all ’ artista . — Guarda , si vede che è pena per Pilato .\n",
      "--------------------------------------------------------------------------------\n",
      "    SOURCE: His lunatic wife: and you have nothing to do with him: you dare not speak to him or seek his presence.\n",
      "    TARGET: Tu non oserai parlargli e neppure vederlo; ti dai una pena inutile.\n",
      " PREDICTED: Voi camminava sulla moglie , ed avete non parlare altro che non parlate di lui , ma non poteva pensare a lui alla presenza .\n",
      "--------------------------------------------------------------------------------\n",
      "Deleted opus_books_weights/tmodel_195.pt\n"
     ]
    },
    {
     "name": "stderr",
     "output_type": "stream",
     "text": [
      "Processing Epoch 197: 100%|██████████| 228/228 [03:05<00:00,  1.23it/s, loss=1.437]\n",
      "stty: 'standard input': Inappropriate ioctl for device\n"
     ]
    },
    {
     "name": "stdout",
     "output_type": "stream",
     "text": [
      "--------------------------------------------------------------------------------\n",
      "    SOURCE: I did run; I brought the candle which still remained in the gallery. He took it from my hand, held it up, and surveyed the bed, all blackened and scorched, the sheets drenched, the carpet round swimming in water.\n",
      "    TARGET: Uscii riportando la candela che era rimasta nel corridoio; me la tolse di mano, esaminò il letto annerito dalle fiamme, le lenzuola e il tappeto coperto d'acqua.\n",
      " PREDICTED: Entrai subito , feci entrare nel corridoio con la mano che mi tolse in mano il letto e , il letto e guardando sui letti rotti a sessanta centimetri di acqua .\n",
      "--------------------------------------------------------------------------------\n",
      "    SOURCE: Some of the birds hurried off at once: one old Magpie began wrapping itself up very carefully, remarking, 'I really must be getting home; the night-air doesn't suit my throat!' and a Canary called out in a trembling voice to its children, 'Come away, my dears!\n",
      "    TARGET: Alcuni uccelli spiccarono immediatamente il volo: una vecchia gazza si avviluppò ben bene dicendo: — è tempo di tornare a casa; l'aria notturna mi fa male alla gola! — Un canarino chiamò con voce tremula tutti i suoi piccini. — Via, via cari miei!\n",
      " PREDICTED: Alcuni uccelli cantavano l ' albero . Un vecchio sempre le scosse da sé , cred ' io , che dovevo andare a casa ! La notte è mia . Un ' aria pazza gridò in voce la mia voce che chiamava mia voce ha chiamato a sedere su quell ' e i miei bambini fanno .\n",
      "--------------------------------------------------------------------------------\n",
      "Deleted opus_books_weights/tmodel_196.pt\n"
     ]
    },
    {
     "name": "stderr",
     "output_type": "stream",
     "text": [
      "Processing Epoch 198: 100%|██████████| 228/228 [03:05<00:00,  1.23it/s, loss=1.443]\n",
      "stty: 'standard input': Inappropriate ioctl for device\n"
     ]
    },
    {
     "name": "stdout",
     "output_type": "stream",
     "text": [
      "--------------------------------------------------------------------------------\n",
      "    SOURCE: As a child that has been hurt skips about, making its muscles move in order to dull its pain, so Karenin needed mental activity to smother those thoughts about his wife which in her presence and in the presence of Vronsky, and amid the continual mention of his name, forced themselves upon him.\n",
      "    TARGET: Come un bambino che, dopo aver urtato in qualche cosa, mette in moto, saltando, i propri muscoli per soffocare il dolore, così Aleksej Aleksandrovic aveva bisogno di un moto intellettuale per soffocare quei suoi pensieri sulla moglie che ora, alla presenza di lei e alla presenza di Vronskij, e alla continua ripetizione del nome di lui, urgevano perché si prestasse loro attenzione.\n",
      " PREDICTED: Come bambino , di cui s ’ è appena mostrato male , s ’ con i muscoli , per mostrare la sua sofferenza mentale . Aleksej Aleksandrovic è un ’ attività di tensione per ogni considerazione sulla moglie , e in presenza di Vronskij , nella presenza di lui , della bambina , si vuole contro il nome di lui , contro allo stesso nome , larga di compassione .\n",
      "--------------------------------------------------------------------------------\n",
      "    SOURCE: Au fond c'est la femme la plus dépravée qui existe.\n",
      "    TARGET: Au fond c’est la femme la plus dépravée qui existe.\n",
      " PREDICTED: A rivederci dei est la falsa canzonetta tedesca qui s ’ .\n",
      "--------------------------------------------------------------------------------\n",
      "Deleted opus_books_weights/tmodel_197.pt\n"
     ]
    },
    {
     "name": "stderr",
     "output_type": "stream",
     "text": [
      "Processing Epoch 199: 100%|██████████| 228/228 [03:05<00:00,  1.23it/s, loss=1.428]\n",
      "stty: 'standard input': Inappropriate ioctl for device\n"
     ]
    },
    {
     "name": "stdout",
     "output_type": "stream",
     "text": [
      "--------------------------------------------------------------------------------\n",
      "    SOURCE: 'Yes, he wrote that you had moved here, and he thought I might be of some use to you,' replied Levin, and having said this grew confused. Without finishing what he was going to say he continued walking beside the trap, breaking off twigs from the lime trees and biting them.\n",
      "    TARGET: — Sì, scrive che avete cambiato residenza, e pensa che mi permetterete d’aiutarvi in qualche cosa — disse Levin; ma, appena detto questo, si confuse e, interrotto il discorso, seguitò a camminare in silenzio accanto alla carrozza, strappando i germogli dei tigli e spezzandoli coi denti.\n",
      " PREDICTED: — Sì , scriveva che tu fosse stato qui , e pensò che mi sarebbe stato qualche utile di te — rispose Levin , e , dopo aver detto ciò che si confuse là , non andò a dire che , col calesse , andava qua e là dai tigli , di là .\n",
      "--------------------------------------------------------------------------------\n",
      "    SOURCE: But I want to ask you frankly, what do you think of me and of my life?'\n",
      "    TARGET: Ma io volevo chiederti apertamente, che cosa pensi di me, della mia vita.\n",
      " PREDICTED: Ma io ti chiedo francamente , cosa significa questo ... che cosa mi pensi di me ?\n",
      "--------------------------------------------------------------------------------\n",
      "Deleted opus_books_weights/tmodel_198.pt\n"
     ]
    },
    {
     "name": "stderr",
     "output_type": "stream",
     "text": [
      "Processing Epoch 200: 100%|██████████| 228/228 [03:05<00:00,  1.23it/s, loss=1.423]\n",
      "stty: 'standard input': Inappropriate ioctl for device\n"
     ]
    },
    {
     "name": "stdout",
     "output_type": "stream",
     "text": [
      "--------------------------------------------------------------------------------\n",
      "    SOURCE: 'It's the thing Mock Turtle Soup is made from,' said the Queen.\n",
      "    TARGET: — È quella con cui si fa la minestra di Falsa-testuggine, — disse la Regina.\n",
      " PREDICTED: — È la cosa che è messa dalla Falsa - testuggine , — disse la Regina .\n",
      "--------------------------------------------------------------------------------\n",
      "    SOURCE: 'And Catherine Alexandrovna?' [Speaking to the servant Levin gives Kitty her full name.] Levin asked Agatha Mikhaylovna, who, carrying shawls and plaids, met them in the hall.\n",
      "    TARGET: — Katerina Aleksandrovna? — domandò Levin ad Agaf’ja Michajlovna che li aveva accolti nell’anticamera con fazzoletti e scialli.\n",
      " PREDICTED: — E Katerina Aleksandrovna ? — domandò alla serva di nuovo Levin , le chiese di Agaf ’ ja Michajlovna che gli scialli , che avevano gli scialli .\n",
      "--------------------------------------------------------------------------------\n",
      "Deleted opus_books_weights/tmodel_199.pt\n"
     ]
    },
    {
     "name": "stderr",
     "output_type": "stream",
     "text": [
      "Processing Epoch 201: 100%|██████████| 228/228 [03:05<00:00,  1.23it/s, loss=1.434]\n",
      "stty: 'standard input': Inappropriate ioctl for device\n"
     ]
    },
    {
     "name": "stdout",
     "output_type": "stream",
     "text": [
      "--------------------------------------------------------------------------------\n",
      "    SOURCE: I am curious to hear it.\"\n",
      "    TARGET: Sono curioso di udirlo.\n",
      " PREDICTED: Sono curioso di vederla .\n",
      "--------------------------------------------------------------------------------\n",
      "    SOURCE: But afterwards a change came over Anna's face which was positively improper.\n",
      "    TARGET: Ma subito dopo nel volto di Anna apparve un turbamento già troppo sconveniente.\n",
      " PREDICTED: Ma in seguito un cambiamento di Anna sul viso di Anna era difficile l ’ uso del viso .\n",
      "--------------------------------------------------------------------------------\n",
      "Deleted opus_books_weights/tmodel_200.pt\n"
     ]
    },
    {
     "name": "stderr",
     "output_type": "stream",
     "text": [
      "Processing Epoch 202: 100%|██████████| 228/228 [03:05<00:00,  1.23it/s, loss=1.426]\n",
      "stty: 'standard input': Inappropriate ioctl for device\n"
     ]
    },
    {
     "name": "stdout",
     "output_type": "stream",
     "text": [
      "--------------------------------------------------------------------------------\n",
      "    SOURCE: She remembered the naive pleasure expressed in Anna Pavlovna's round, good-natured face whenever they met, remembered their secret consultations about the patient, and their plots to draw him away from his work which the doctor had forbidden and to take him for walks, and the attachment to her felt by the youngest boy, who called her 'my Kitty,' and did not want to go to bed without her.\n",
      "    TARGET: Ricordò la gioia ingenua che si esprimeva sul viso tondo, bonario di Anna Pavlovna nei loro incontri; ricordò i loro discorsi segreti a proposito del malato, le congiure per distrarlo dal lavoro che gli era stato proibito, e per portarlo a passeggio; l’attaccamento del bambino più piccolo che la chiamava «la mia Kitty» e che non voleva andare a letto senza di lei.\n",
      " PREDICTED: Ricordò il piacere russo che aveva espresso in giro di Anna col viso bonario di Anna che gli incontravano , come spesso gli abitanti del carità . La loro cultura lo interessava per il lavoro , e che fece finta di prendere i giocattoli che gli avevano data e , all ’ affezione verso il dottore , che era venuta accanto al ragazzo da lei , e le un po ’ — disse di andare a letto .\n",
      "--------------------------------------------------------------------------------\n",
      "    SOURCE: Like Madame Stahl's niece, Aline, of whom Varenka told her a great deal, Kitty determined, wherever she lived, to seek out the unfortunate, help them as much as she could, distribute Gospels, and read the Gospel to the sick, to criminals, and to the dying.\n",
      "    TARGET: Dovunque avesse vissuto, ella avrebbe cercato, come Aline, la nipote della signora Stahl di cui Varen’ka parlava tanto, gli sventurati, li avrebbe aiutati per quanto possibile, avrebbe distribuito il Vangelo, lo avrebbe letto ai malati, ai delinquenti, ai moribondi.\n",
      " PREDICTED: Come era nipote di signora Stahl , ad ogni ch ’ ella le diceva di esse , arrossendo fino alla povera Varen ’ ka , e che li poteva avere a grandi , come non le poteva giudicare , e il Vangelo e le lodi di prendere per il malato .\n",
      "--------------------------------------------------------------------------------\n",
      "Deleted opus_books_weights/tmodel_201.pt\n"
     ]
    },
    {
     "name": "stderr",
     "output_type": "stream",
     "text": [
      "Processing Epoch 203: 100%|██████████| 228/228 [03:05<00:00,  1.23it/s, loss=1.422]\n",
      "stty: 'standard input': Inappropriate ioctl for device\n"
     ]
    },
    {
     "name": "stdout",
     "output_type": "stream",
     "text": [
      "--------------------------------------------------------------------------------\n",
      "    SOURCE: After George had got it off his slipper, they tried to put it in the kettle.\n",
      "    TARGET: Dopo che Giorgio l’ebbe tratto da una pianella, tentarono di metterlo in un calderino.\n",
      " PREDICTED: Dopo Giorgio se l ’ ebbe tolta la valigia e gli ebbe tentato di in quel calderino .\n",
      "--------------------------------------------------------------------------------\n",
      "    SOURCE: \"I am a fool!\" cried Mr. Rochester suddenly. \"I keep telling her I am not married, and do not explain to her why.\n",
      "    TARGET: — Sono un pazzo! — esclamò a un tratto il signor Rochester. — Le dico che non sono ammogliato, e non le spiego il perché.\n",
      " PREDICTED: — Sono pazzo ! — esclamò il signor Rochester . — Ma mi di non aver sposata e non osavo spiegare perché .\n",
      "--------------------------------------------------------------------------------\n",
      "Deleted opus_books_weights/tmodel_202.pt\n"
     ]
    },
    {
     "name": "stderr",
     "output_type": "stream",
     "text": [
      "Processing Epoch 204: 100%|██████████| 228/228 [03:05<00:00,  1.23it/s, loss=1.426]\n",
      "stty: 'standard input': Inappropriate ioctl for device\n"
     ]
    },
    {
     "name": "stdout",
     "output_type": "stream",
     "text": [
      "--------------------------------------------------------------------------------\n",
      "    SOURCE: He knew that the only way of escape from men was to hide his wounds from them. He had unconsciously tried to do so for two days, and now felt himself unable to continue the unequal struggle.\n",
      "    TARGET: Sapeva che l’unico modo di salvarsi dagli uomini era nascondere loro le proprie ferite, e questo aveva cercato inconsciamente di fare per due giorni, ma adesso sentiva che già non aveva più la forza di continuare questa lotta impari.\n",
      " PREDICTED: Sapeva che solo per l ’ unico modo di procedere verso gli erano le proprie ferite , ed egli aveva cercato di fare con due giorni per due giorni , ora non poteva continuare la lotta .\n",
      "--------------------------------------------------------------------------------\n",
      "    SOURCE: In this way they chattered unceasingly about Karenin, blaming him and laughing at him, while he, barring the way to the member of the State Council whom he had buttonholed, and not pausing for a moment for fear he might slip away, expounded point by point some financial project of his.\n",
      "    TARGET: Così si parlava, senza posa, di Aleksej Aleksandrovic, giudicandolo e irridendolo, mentre lui, sbarrata la strada al membro del consiglio di stato che aveva afferrato, e senza smettere neppure per un attimo la propria esposizione per non lasciarselo sfuggire, gli esponeva punto per punto un suo progetto finanziario.\n",
      " PREDICTED: In questo modo si vedevano dei passi di Aleksej Aleksandrovic e non lo di lui , mentre egli , , la via del consiglio distrettuale , che non aveva per un attimo , e senza neppure di aver paura , dal punto che gli si un conto delle proprie idee .\n",
      "--------------------------------------------------------------------------------\n",
      "Deleted opus_books_weights/tmodel_203.pt\n"
     ]
    },
    {
     "name": "stderr",
     "output_type": "stream",
     "text": [
      "Processing Epoch 205: 100%|██████████| 228/228 [03:05<00:00,  1.23it/s, loss=1.432]\n",
      "stty: 'standard input': Inappropriate ioctl for device\n"
     ]
    },
    {
     "name": "stdout",
     "output_type": "stream",
     "text": [
      "--------------------------------------------------------------------------------\n",
      "    SOURCE: It was a grand boon doubtless; and independence would be glorious--yes, I felt that--that thought swelled my heart.\n",
      "    TARGET: Però era sempre una grande felicità di sapersi indipendente. Quella felicità almeno la sentiva e mi riempiva il cuore.\n",
      " PREDICTED: Era una bella amica senza la vostra indipendenza e non sarebbe stata peggiore . Ma , credo che fosse al cuore .\n",
      "--------------------------------------------------------------------------------\n",
      "    SOURCE: My next difficulty was to make a sieve or searce, to dress my meal, and to part it from the bran and the husk; without which I did not see it possible I could have any bread.\n",
      "    TARGET: Veniva ora l’altra difficoltà di farmi un vaglio per separare la crusca dalla mia farina, senza di che non avrei mai più avuto pane.\n",
      " PREDICTED: La mia difficoltà era al punto d ’ un solo accesso di torta , e mi diedi a i miei bisogni , e non sapendo che fossero mai , perchè avrei potuto .\n",
      "--------------------------------------------------------------------------------\n",
      "Deleted opus_books_weights/tmodel_204.pt\n"
     ]
    },
    {
     "name": "stderr",
     "output_type": "stream",
     "text": [
      "Processing Epoch 206: 100%|██████████| 228/228 [03:05<00:00,  1.23it/s, loss=1.429]\n",
      "stty: 'standard input': Inappropriate ioctl for device\n"
     ]
    },
    {
     "name": "stdout",
     "output_type": "stream",
     "text": [
      "--------------------------------------------------------------------------------\n",
      "    SOURCE: Every week he thought less and less about Kitty.\n",
      "    TARGET: Di settimana in settimana ricordava sempre più di rado Kitty.\n",
      " PREDICTED: La settimana pensava meno di Kitty .\n",
      "--------------------------------------------------------------------------------\n",
      "    SOURCE: \"I'll see it carried into your room,\" she said, and bustled out.\n",
      "    TARGET: Lo farò mettere in camera vostra. — disse, e uscì.\n",
      " PREDICTED: — , sì — disse , — e ci .\n",
      "--------------------------------------------------------------------------------\n",
      "Deleted opus_books_weights/tmodel_205.pt\n"
     ]
    },
    {
     "name": "stderr",
     "output_type": "stream",
     "text": [
      "Processing Epoch 207: 100%|██████████| 228/228 [03:05<00:00,  1.23it/s, loss=1.415]\n",
      "stty: 'standard input': Inappropriate ioctl for device\n"
     ]
    },
    {
     "name": "stdout",
     "output_type": "stream",
     "text": [
      "--------------------------------------------------------------------------------\n",
      "    SOURCE: J'ai dit qu'oui: car c'est vrai, n'est-ce pas, mademoiselle?\"\n",
      "    TARGET: Ho detto di sì, perché è vero, signorina.\n",
      " PREDICTED: Sono sicura di e domandò che è il vero bugiardo ai signori ?\n",
      "--------------------------------------------------------------------------------\n",
      "    SOURCE: \"You were serious when I told you you had got a fortune; and now, for a matter of no moment, you are excited.\"\n",
      "    TARGET: Siete rimasta seria quando vi ho detto che eravate ricca, e ora vi esaltate per una cosa senza importanza.\n",
      " PREDICTED: — Non vi siete serio , — dissi , — vi ho detto che si è messa per uno patrimonio , e ora voi non avete né agitazione .\n",
      "--------------------------------------------------------------------------------\n",
      "Deleted opus_books_weights/tmodel_206.pt\n"
     ]
    },
    {
     "name": "stderr",
     "output_type": "stream",
     "text": [
      "Processing Epoch 208: 100%|██████████| 228/228 [03:05<00:00,  1.23it/s, loss=1.419]\n",
      "stty: 'standard input': Inappropriate ioctl for device\n"
     ]
    },
    {
     "name": "stdout",
     "output_type": "stream",
     "text": [
      "--------------------------------------------------------------------------------\n",
      "    SOURCE: The writing-table accessories (of which Karenin was a connoisseur) were unusually good, as he could not help noticing.\n",
      "    TARGET: Il materiale per scrivere che Aleksej Aleksandrovic amava in maniera particolare, era veramente buono. Aleksej Aleksandrovic non poté non notarlo.\n",
      " PREDICTED: Il pranzo di tavola ( di cui Aleksej Aleksandrovic era un appassionato ) erano veramente molto , e non poté non rimanere trovato .\n",
      "--------------------------------------------------------------------------------\n",
      "    SOURCE: These two joys, his successful shooting and the news from his wife, were so great that two small unpleasantnesses which occurred after the shooting were easy to disregard.\n",
      "    TARGET: Queste due gioie, la caccia fortunata e il biglietto della moglie, erano tanto grandi che i due piccoli dispiaceri, seguìti alla caccia, passarono con facilità per Levin.\n",
      " PREDICTED: Questi due gioie , la caccia della caccia e la notizia della moglie erano così grande che , nell ’ piccoli discorsi , gli venne subito a mentire .\n",
      "--------------------------------------------------------------------------------\n",
      "Deleted opus_books_weights/tmodel_207.pt\n"
     ]
    },
    {
     "name": "stderr",
     "output_type": "stream",
     "text": [
      "Processing Epoch 209: 100%|██████████| 228/228 [03:05<00:00,  1.23it/s, loss=1.431]\n",
      "stty: 'standard input': Inappropriate ioctl for device\n"
     ]
    },
    {
     "name": "stdout",
     "output_type": "stream",
     "text": [
      "--------------------------------------------------------------------------------\n",
      "    SOURCE: At the end of a few minutes he inquired in rather a peculiar tone--\n",
      "    TARGET: Dopo alcuni minuti mi disse, con uno strano tono di voce:\n",
      " PREDICTED: Alla fine di pochi minuti , domandò in tono strano e grave :\n",
      "--------------------------------------------------------------------------------\n",
      "    SOURCE: 'No, I don't.'\n",
      "    TARGET: — No, non lo conosco.\n",
      " PREDICTED: — No , non lo conosco .\n",
      "--------------------------------------------------------------------------------\n",
      "Deleted opus_books_weights/tmodel_208.pt\n"
     ]
    },
    {
     "name": "stderr",
     "output_type": "stream",
     "text": [
      "Processing Epoch 210: 100%|██████████| 228/228 [03:05<00:00,  1.23it/s, loss=1.426]\n",
      "stty: 'standard input': Inappropriate ioctl for device\n"
     ]
    },
    {
     "name": "stdout",
     "output_type": "stream",
     "text": [
      "--------------------------------------------------------------------------------\n",
      "    SOURCE: You no doubt were, at that hour, in unconscious sleep, Jane: perhaps your soul wandered from its cell to comfort mine; for those were your accents--as certain as I live--they were yours!\"\n",
      "    TARGET: \"Voi certo, Jane, a quell'ora dormivate placidamente e forse la vostra anima lasciava l'involucro terrestre per consolare la mia, perché era certo la vostra voce, ne sono certissimo.\n",
      " PREDICTED: \" Non dubito che vi siate giunta in un ' ora ; Jane , la vostra anima avete raccolta per cercare l ' odio : perché vi vedevo i vostri occhi , la vostra volontà .\n",
      "--------------------------------------------------------------------------------\n",
      "    SOURCE: When the two women took their seats in the calèche, both were seized with shyness.\n",
      "    TARGET: Quando le due donne furono sedute nella vettura, furono prese a un tratto da un certo disagio.\n",
      " PREDICTED: Quando i due donne si alzarono nella vettura , i due si erano allontanati di un ’ altra cosa , e ne passarono con la piccola timidezza .\n",
      "--------------------------------------------------------------------------------\n",
      "Deleted opus_books_weights/tmodel_209.pt\n"
     ]
    },
    {
     "name": "stderr",
     "output_type": "stream",
     "text": [
      "Processing Epoch 211: 100%|██████████| 228/228 [03:05<00:00,  1.23it/s, loss=1.431]\n",
      "stty: 'standard input': Inappropriate ioctl for device\n"
     ]
    },
    {
     "name": "stdout",
     "output_type": "stream",
     "text": [
      "--------------------------------------------------------------------------------\n",
      "    SOURCE: We were not so uppish about what sort of hotel we would have, next time we went to Datchet.\n",
      "    TARGET: Non saremmo stati così schifiltosi intorno all’albergo, la prossima volta che saremmo arrivati a Datchet.\n",
      " PREDICTED: Non avevamo tanto forte verso quello che , avremmo trovati , verso Datchet prendemmo .\n",
      "--------------------------------------------------------------------------------\n",
      "    SOURCE: 'I don't know you with this short hair!\n",
      "    TARGET: — Non ti riconosco con questi capelli corti. Così sei più bella.\n",
      " PREDICTED: — E io non ne conosco con questi capelli fatti .\n",
      "--------------------------------------------------------------------------------\n",
      "Deleted opus_books_weights/tmodel_210.pt\n"
     ]
    },
    {
     "name": "stderr",
     "output_type": "stream",
     "text": [
      "Processing Epoch 212: 100%|██████████| 228/228 [03:05<00:00,  1.23it/s, loss=1.421]\n",
      "stty: 'standard input': Inappropriate ioctl for device\n"
     ]
    },
    {
     "name": "stdout",
     "output_type": "stream",
     "text": [
      "--------------------------------------------------------------------------------\n",
      "    SOURCE: On going up the steps and turning to the right he saw the priest.\n",
      "    TARGET: Salì i gradini e, voltando a destra, vide il sacerdote.\n",
      " PREDICTED: Entrando i passi e , voltandosi a destra , vedeva il sacerdote :\n",
      "--------------------------------------------------------------------------------\n",
      "    SOURCE: For a few seconds Oblonsky stood alone; then he wiped his eyes, sighed, and expanding his chest went out of the room.\n",
      "    TARGET: Stepan Arkad’ic si fermò per qualche istante, si asciugò gli occhi, sospirò e, raddrizzato il busto, uscì dalla camera.\n",
      " PREDICTED: Per qualche secondo Stepan Arkad ’ ic stava sola in piedi ; poi si asciugò gli occhi , sospirò e , raddrizzando il busto , uscì e uscì dalla stanza .\n",
      "--------------------------------------------------------------------------------\n",
      "Deleted opus_books_weights/tmodel_211.pt\n"
     ]
    },
    {
     "name": "stderr",
     "output_type": "stream",
     "text": [
      "Processing Epoch 213: 100%|██████████| 228/228 [03:05<00:00,  1.23it/s, loss=1.429]\n",
      "stty: 'standard input': Inappropriate ioctl for device\n"
     ]
    },
    {
     "name": "stdout",
     "output_type": "stream",
     "text": [
      "--------------------------------------------------------------------------------\n",
      "    SOURCE: 'He has been congratulated!' remarked the Colonel. 'It's the second time he's won the Imperial prize. If only I had the luck at cards that he has with horses!...\n",
      "    TARGET: — Gli han fatto i complimenti — disse il colonnello alto. — Il secondo premio imperiale; avessi io tanta fortuna alle carte, quanta ce n’ha lui coi cavalli.\n",
      " PREDICTED: — L ’ ha portato con cura — disse il colonnello del colonnello . — È la seconda volta dello stesso premio di quel momento , se avevo voglia di giuoco , che lui con i cavalli ...\n",
      "--------------------------------------------------------------------------------\n",
      "    SOURCE: Mrs. Fairfax was dusting some vases of fine purple spar, which stood on a sideboard.\n",
      "    TARGET: La signora Fairfax spolverava due vasi di porfido orientale, posati sulla credenza.\n",
      " PREDICTED: La signora Fairfax stava qualche ordine di vasi , circondato da fiori , dove era difatti credenza .\n",
      "--------------------------------------------------------------------------------\n",
      "Deleted opus_books_weights/tmodel_212.pt\n"
     ]
    },
    {
     "name": "stderr",
     "output_type": "stream",
     "text": [
      "Processing Epoch 214: 100%|██████████| 228/228 [03:05<00:00,  1.23it/s, loss=1.419]\n",
      "stty: 'standard input': Inappropriate ioctl for device\n"
     ]
    },
    {
     "name": "stdout",
     "output_type": "stream",
     "text": [
      "--------------------------------------------------------------------------------\n",
      "    SOURCE: Well, Dolly,' he said, turning to his eldest daughter, 'and what is your prodigal about?'\n",
      "    TARGET: Be’, Dolin’ka, che fa il tuo bel tomo?\n",
      " PREDICTED: Be ’, Dolly — disse egli , volgendosi a sé la figlia . — Che cosa è il vostro ?\n",
      "--------------------------------------------------------------------------------\n",
      "    SOURCE: When Levin took over the management of the estate he looked into the matter, and, concluding that the grass was worth more, fixed the price at eight roubles.\n",
      "    TARGET: Quando Levin assunse l’amministrazione del fondo, esaminata la questione, aveva trovato che la fienagione poteva rendere di più e ne aveva fissato il prezzo a venticinque rubli per desjatina.\n",
      " PREDICTED: Quando Levin prese su le spese dell ’ azienda tutta la cosa in cui si mostrava , e , preso in giro per l ’ erba , bisognava fare un asse per tre rubli .\n",
      "--------------------------------------------------------------------------------\n",
      "Deleted opus_books_weights/tmodel_213.pt\n"
     ]
    },
    {
     "name": "stderr",
     "output_type": "stream",
     "text": [
      "Processing Epoch 215: 100%|██████████| 228/228 [03:05<00:00,  1.23it/s, loss=1.419]\n",
      "stty: 'standard input': Inappropriate ioctl for device\n"
     ]
    },
    {
     "name": "stdout",
     "output_type": "stream",
     "text": [
      "--------------------------------------------------------------------------------\n",
      "    SOURCE: After he had read the letter he looked up at her, but his look was not firm.\n",
      "    TARGET: Leggendo la lettera, egli alzò gli occhi su di lei, ma nel suo sguardo non c’era decisione alcuna.\n",
      " PREDICTED: Dopo aver letto la lettera , egli la guardò di lei ; ma il suo sguardo non era deciso .\n",
      "--------------------------------------------------------------------------------\n",
      "    SOURCE: Vronsky painted her, admired her beauty and her 'mediaevalness,' and Anna dared not confess to herself that she was afraid of being jealous of the nurse; so she treated the woman with special kindness and spoilt her and her little son.\n",
      "    TARGET: Vronskij, ritraendola, ne ammirava la bellezza e il tipo medioevale, e Anna non aveva il coraggio di confessarsi di temere d’essere gelosa di questa balia, e perciò blandiva e viziava particolarmente lei e il suo bambino.\n",
      " PREDICTED: Vronskij , l ’ ammirava la bellezza e la bellezza di lei e Anna non osava mentire di essere di nuovo , e la bambina le venivano di nuovo , e la donna con particolare e la baciò .\n",
      "--------------------------------------------------------------------------------\n",
      "Deleted opus_books_weights/tmodel_214.pt\n"
     ]
    },
    {
     "name": "stderr",
     "output_type": "stream",
     "text": [
      "Processing Epoch 216: 100%|██████████| 228/228 [03:05<00:00,  1.23it/s, loss=1.428]\n",
      "stty: 'standard input': Inappropriate ioctl for device\n"
     ]
    },
    {
     "name": "stdout",
     "output_type": "stream",
     "text": [
      "--------------------------------------------------------------------------------\n",
      "    SOURCE: The sound of the dressing-bell dispersed the party.\n",
      "    TARGET: Così almeno mi parve.\n",
      " PREDICTED: Si sentì il rumore di una scampanellata che gli ospiti .\n",
      "--------------------------------------------------------------------------------\n",
      "    SOURCE: Goring on the left bank and Streatley on the right are both or either charming places to stay at for a few days.\n",
      "    TARGET: Goring, sulla riva sinistra, e Streatley, sulla destra, sono entrambi bei luoghi per indugiarvi pochi giorni.\n",
      " PREDICTED: Goring sulla riva destra e Streatley , e Streatley sono tutte e due o piccole cose che vanno a lungo tempo .\n",
      "--------------------------------------------------------------------------------\n",
      "Deleted opus_books_weights/tmodel_215.pt\n"
     ]
    },
    {
     "name": "stderr",
     "output_type": "stream",
     "text": [
      "Processing Epoch 217: 100%|██████████| 228/228 [03:05<00:00,  1.23it/s, loss=1.418]\n",
      "stty: 'standard input': Inappropriate ioctl for device\n"
     ]
    },
    {
     "name": "stdout",
     "output_type": "stream",
     "text": [
      "--------------------------------------------------------------------------------\n",
      "    SOURCE: Mary did look up, and she did stare at me: the ladle with which she was basting a pair of chickens roasting at the fire, did for some three minutes hang suspended in air; and for the same space of time John's knives also had rest from the polishing process: but Mary, bending again over the roast, said only--\n",
      "    TARGET: Per alcuni momenti tenne alzato il cucchiaio di cui servivasi per ungere un paio di polli che cuocevano allo spiedo, e John cessò di lustrare i coltelli. Alla fine Maria, chinandosi sull'arrosto, mi disse soltanto:\n",
      " PREDICTED: Maria alzò gli occhi , poi cominciando a darmi un paio di , al quale fu legato un paio di minuti al fuoco ; e nello stesso tempo ci vennero le forme dell ' aria di John .\n",
      "--------------------------------------------------------------------------------\n",
      "    SOURCE: Do you know him?\"\n",
      "    TARGET: Lo conoscete forse?\n",
      " PREDICTED: Lo sapete !\n",
      "--------------------------------------------------------------------------------\n",
      "Deleted opus_books_weights/tmodel_216.pt\n"
     ]
    },
    {
     "name": "stderr",
     "output_type": "stream",
     "text": [
      "Processing Epoch 218: 100%|██████████| 228/228 [03:05<00:00,  1.23it/s, loss=1.419]\n",
      "stty: 'standard input': Inappropriate ioctl for device\n"
     ]
    },
    {
     "name": "stdout",
     "output_type": "stream",
     "text": [
      "--------------------------------------------------------------------------------\n",
      "    SOURCE: The one thing needful was to have money in the bank, without asking whence it came, so as to be always sure of the wherewithal to get to-morrow's beef.\n",
      "    TARGET: Si voleva soltanto una cosa: aver denari in banca senza domandare donde venissero, in modo da saper sempre come comprar carne l’indomani.\n",
      " PREDICTED: Si “ uno : se ne avessi denaro in sulla riva non se ne andasse , come è riuscito a il manzo da noi .\n",
      "--------------------------------------------------------------------------------\n",
      "    SOURCE: The carriage stopped at the porch.\n",
      "    TARGET: Si accostò alla scala.\n",
      " PREDICTED: La carrozza si fermò sulla scala .\n",
      "--------------------------------------------------------------------------------\n",
      "Deleted opus_books_weights/tmodel_217.pt\n"
     ]
    },
    {
     "name": "stderr",
     "output_type": "stream",
     "text": [
      "Processing Epoch 219: 100%|██████████| 228/228 [03:05<00:00,  1.23it/s, loss=1.406]\n",
      "stty: 'standard input': Inappropriate ioctl for device\n"
     ]
    },
    {
     "name": "stdout",
     "output_type": "stream",
     "text": [
      "--------------------------------------------------------------------------------\n",
      "    SOURCE: Now it sits aside from the stirring world, and nods and dreams.\n",
      "    TARGET: Ora si tien in disparte dal mondo ansioso, e s’appisola e sogna.\n",
      " PREDICTED: Ora si da un lato profondo del mondo e lugubre , che ci fanno i sogni .\n",
      "--------------------------------------------------------------------------------\n",
      "    SOURCE: Here the Dormouse shook itself, and began singing in its sleep 'Twinkle, twinkle, twinkle, twinkle--' and went on so long that they had to pinch it to make it stop.\n",
      "    TARGET: A questo il Ghiro si riscosse, e cominciò a cantare nel sonno: Teco il pane; teco il pane aggiungerò.... e via via andò innanzi fino a che gli dovettero dare dei pizzicotti per farlo tacere.\n",
      " PREDICTED: Qui il Ghiro si scosse , e cominciò a dormire nel sonno : — , mangia la confusione , e continuò a vivere in tanto tempo di riflettere .\n",
      "--------------------------------------------------------------------------------\n",
      "Deleted opus_books_weights/tmodel_218.pt\n"
     ]
    },
    {
     "name": "stderr",
     "output_type": "stream",
     "text": [
      "Processing Epoch 220: 100%|██████████| 228/228 [03:05<00:00,  1.23it/s, loss=1.426]\n",
      "stty: 'standard input': Inappropriate ioctl for device\n"
     ]
    },
    {
     "name": "stdout",
     "output_type": "stream",
     "text": [
      "--------------------------------------------------------------------------------\n",
      "    SOURCE: But here, to Alice's great surprise, the Duchess's voice died away, even in the middle of her favourite word 'moral,' and the arm that was linked into hers began to tremble.\n",
      "    TARGET: A questo punto, con gran sorpresa d'Alice, la voce della Duchessa andò morendo e si spense in mezzo alla sua favorita parola: morale. Il braccio che era in quello d'Alice cominciò a tremare.\n",
      " PREDICTED: Ma qui , alla voce di Alice , la voce della Duchessa , e anche in mezzo alla sua parola “ morale ” e la sua parola fu nel suo braccio .\n",
      "--------------------------------------------------------------------------------\n",
      "    SOURCE: Mr. Mason obeyed, because it was evidently useless to resist.\n",
      "    TARGET: Mason obbedì, perché eragli impossibile di resistere.\n",
      " PREDICTED: Il signor Mason volle , perché era inutile di resistere .\n",
      "--------------------------------------------------------------------------------\n",
      "Deleted opus_books_weights/tmodel_219.pt\n"
     ]
    },
    {
     "name": "stderr",
     "output_type": "stream",
     "text": [
      "Processing Epoch 221: 100%|██████████| 228/228 [03:05<00:00,  1.23it/s, loss=1.425]\n",
      "stty: 'standard input': Inappropriate ioctl for device\n"
     ]
    },
    {
     "name": "stdout",
     "output_type": "stream",
     "text": [
      "--------------------------------------------------------------------------------\n",
      "    SOURCE: By twelve o'clock, with the sun pouring into the room, the heat became quite oppressive, and we wondered when those heavy showers and occasional thunderstorms were going to begin.\n",
      "    TARGET: Alle dodici, col sole che inondava la stanza, il calore si fece opprimente, e ci domandammo quando sarebbero cominciati quei grossi acquazzoni.\n",
      " PREDICTED: Alle dodici del sole , con l ’ ora della sala si accende la stanza , e ci fermammo in quei dintorni e ci erano delle meravigliose paludi da notte .\n",
      "--------------------------------------------------------------------------------\n",
      "    SOURCE: Harris didn't know, and suggested that the best thing to do would be to go back to the entrance, and begin again.\n",
      "    TARGET: Harris non lo sapeva, e dichiarò che la cosa migliore sarebbe stata di tornare indietro all’ingresso e cominciare da capo.\n",
      " PREDICTED: Harris non sapeva , e credeva che la migliore cosa si sarebbe andò di nuovo ad andare all ’ ingresso , e di nuovo cominciare a parlare .\n",
      "--------------------------------------------------------------------------------\n",
      "Deleted opus_books_weights/tmodel_220.pt\n"
     ]
    },
    {
     "name": "stderr",
     "output_type": "stream",
     "text": [
      "Processing Epoch 222:   4%|▍         | 9/228 [00:07<03:07,  1.17it/s, loss=1.421]\n"
     ]
    },
    {
     "ename": "KeyboardInterrupt",
     "evalue": "",
     "output_type": "error",
     "traceback": [
      "\u001b[0;31m---------------------------------------------------------------------------\u001b[0m",
      "\u001b[0;31mKeyboardInterrupt\u001b[0m                         Traceback (most recent call last)",
      "Cell \u001b[0;32mIn[19], line 3\u001b[0m\n\u001b[1;32m      1\u001b[0m warnings\u001b[38;5;241m.\u001b[39mfilterwarnings(\u001b[38;5;124m\"\u001b[39m\u001b[38;5;124mignore\u001b[39m\u001b[38;5;124m\"\u001b[39m)\n\u001b[1;32m      2\u001b[0m config \u001b[38;5;241m=\u001b[39m get_config()\n\u001b[0;32m----> 3\u001b[0m \u001b[43mtrain_model\u001b[49m\u001b[43m(\u001b[49m\u001b[43mconfig\u001b[49m\u001b[43m)\u001b[49m\n",
      "Cell \u001b[0;32mIn[18], line 215\u001b[0m, in \u001b[0;36mtrain_model\u001b[0;34m(config)\u001b[0m\n\u001b[1;32m    212\u001b[0m proj_output \u001b[38;5;241m=\u001b[39m model\u001b[38;5;241m.\u001b[39mproject(decoder_output) \u001b[38;5;66;03m# (B, seq_len, vocab_size)\u001b[39;00m\n\u001b[1;32m    214\u001b[0m \u001b[38;5;66;03m# Compare the output with the label\u001b[39;00m\n\u001b[0;32m--> 215\u001b[0m label \u001b[38;5;241m=\u001b[39m \u001b[43mbatch\u001b[49m\u001b[43m[\u001b[49m\u001b[38;5;124;43m'\u001b[39;49m\u001b[38;5;124;43mlabel\u001b[39;49m\u001b[38;5;124;43m'\u001b[39;49m\u001b[43m]\u001b[49m\u001b[38;5;241;43m.\u001b[39;49m\u001b[43mto\u001b[49m\u001b[43m(\u001b[49m\u001b[43mdevice\u001b[49m\u001b[43m)\u001b[49m \u001b[38;5;66;03m# (B, seq_len)\u001b[39;00m\n\u001b[1;32m    217\u001b[0m \u001b[38;5;66;03m# Compute the loss using a simple cross entropy\u001b[39;00m\n\u001b[1;32m    218\u001b[0m loss \u001b[38;5;241m=\u001b[39m loss_fn(proj_output\u001b[38;5;241m.\u001b[39mview(\u001b[38;5;241m-\u001b[39m\u001b[38;5;241m1\u001b[39m, tokenizer_tgt\u001b[38;5;241m.\u001b[39mget_vocab_size()), label\u001b[38;5;241m.\u001b[39mview(\u001b[38;5;241m-\u001b[39m\u001b[38;5;241m1\u001b[39m))\n",
      "\u001b[0;31mKeyboardInterrupt\u001b[0m: "
     ]
    }
   ],
   "source": [
    "warnings.filterwarnings(\"ignore\")\n",
    "config = get_config()\n",
    "train_model(config)"
   ]
  },
  {
   "cell_type": "code",
   "execution_count": 22,
   "id": "9b7f6ece-25d6-4533-944f-984efb6d0d5b",
   "metadata": {},
   "outputs": [],
   "source": [
    "import subprocess\n",
    "import os\n",
    "\n",
    "result = subprocess.run('bash -c \"source /etc/network_turbo && env | grep proxy\"', shell=True, capture_output=True, text=True)\n",
    "output = result.stdout\n",
    "for line in output.splitlines():\n",
    "    if '=' in line:\n",
    "        var, value = line.split('=', 1)\n",
    "        os.environ[var] = value"
   ]
  },
  {
   "cell_type": "code",
   "execution_count": 24,
   "id": "494b0b3b-f7da-4057-895c-162263332d6b",
   "metadata": {},
   "outputs": [],
   "source": [
    "# 设置镜像站\n",
    "os.environ[\"HF_ENDPOINT\"] = \"https://hf-mirror.com\""
   ]
  },
  {
   "cell_type": "code",
   "execution_count": 25,
   "id": "73a40ae5-b5d5-44c4-81aa-90023a1f3f71",
   "metadata": {},
   "outputs": [
    {
     "name": "stdout",
     "output_type": "stream",
     "text": [
      "Using device: cuda\n",
      "opus_books_weights/tmodel_33.pt\n",
      "        ID: 34\n",
      "    SOURCE: And I came out immediately, for I trembled at the idea of being dragged forth by the said Jack.\n",
      "    TARGET: Uscii subito, perché mi sgomentavo al pensiero di esser condotta fuori dal mio nascondiglio da John.\n",
      " PREDICTED: Uscii Ella mi misi per  .  "
     ]
    },
    {
     "data": {
      "text/plain": [
       "'Uscii Ella mi misi per .'"
      ]
     },
     "execution_count": 25,
     "metadata": {},
     "output_type": "execute_result"
    }
   ],
   "source": [
    "import sys\n",
    "\n",
    "def translate(sentence: str):\n",
    "    # Define the device, tokenizers, and model\n",
    "    device = torch.device(\"cuda\" if torch.cuda.is_available() else \"cpu\")\n",
    "    print(\"Using device:\", device)\n",
    "    config = get_config()\n",
    "    tokenizer_src = Tokenizer.from_file(str(Path(config['tokenizer_file'].format(config['lang_src']))))\n",
    "    tokenizer_tgt = Tokenizer.from_file(str(Path(config['tokenizer_file'].format(config['lang_tgt']))))\n",
    "    model = build_transformer(tokenizer_src.get_vocab_size(), tokenizer_tgt.get_vocab_size(), config[\"seq_len\"], config['seq_len'], d_model=config['d_model']).to(device)\n",
    "\n",
    "    # Load the pretrained weights\n",
    "    model_filename = latest_weights_file_path(config)\n",
    "    print(model_filename)\n",
    "    state = torch.load(model_filename)\n",
    "    model.load_state_dict(state['model_state_dict'])\n",
    "\n",
    "    # if the sentence is a number use it as an index to the test set\n",
    "    label = \"\"\n",
    "    if type(sentence) == int or sentence.isdigit():\n",
    "        id = int(sentence)\n",
    "        ds = load_dataset(f\"{config['datasource']}\", f\"{config['lang_src']}-{config['lang_tgt']}\", split='all')\n",
    "        ds = BilingualDataset(ds, tokenizer_src, tokenizer_tgt, config['lang_src'], config['lang_tgt'], config['seq_len'])\n",
    "        sentence = ds[id]['src_text']\n",
    "        label = ds[id][\"tgt_text\"]\n",
    "    seq_len = config['seq_len']\n",
    "\n",
    "    # translate the sentence\n",
    "    model.eval()\n",
    "    with torch.no_grad():\n",
    "        # Precompute the encoder output and reuse it for every generation step\n",
    "        source = tokenizer_src.encode(sentence)\n",
    "        source = torch.cat([\n",
    "            torch.tensor([tokenizer_src.token_to_id('[SOS]')], dtype=torch.int64), \n",
    "            torch.tensor(source.ids, dtype=torch.int64),\n",
    "            torch.tensor([tokenizer_src.token_to_id('[EOS]')], dtype=torch.int64),\n",
    "            torch.tensor([tokenizer_src.token_to_id('[PAD]')] * (seq_len - len(source.ids) - 2), dtype=torch.int64)\n",
    "        ], dim=0).to(device)\n",
    "        source_mask = (source != tokenizer_src.token_to_id('[PAD]')).unsqueeze(0).unsqueeze(0).int().to(device)\n",
    "        encoder_output = model.encode(source, source_mask)\n",
    "\n",
    "        # Initialize the decoder input with the sos token\n",
    "        decoder_input = torch.empty(1, 1).fill_(tokenizer_tgt.token_to_id('[SOS]')).type_as(source).to(device)\n",
    "\n",
    "        # Print the source sentence and target start prompt\n",
    "        if label != \"\": print(f\"{f'ID: ':>12}{id}\") \n",
    "        print(f\"{f'SOURCE: ':>12}{sentence}\")\n",
    "        if label != \"\": print(f\"{f'TARGET: ':>12}{label}\") \n",
    "        print(f\"{f'PREDICTED: ':>12}\", end='')\n",
    "\n",
    "        # Generate the translation word by word\n",
    "        while decoder_input.size(1) < seq_len:\n",
    "            # build mask for target and calculate output\n",
    "            decoder_mask = torch.triu(torch.ones((1, decoder_input.size(1), decoder_input.size(1))), diagonal=1).type(torch.int).type_as(source_mask).to(device)\n",
    "            out = model.decode(encoder_output, source_mask, decoder_input, decoder_mask)\n",
    "\n",
    "            # project next token\n",
    "            prob = model.project(out[:, -1])\n",
    "            _, next_word = torch.max(prob, dim=1)\n",
    "            decoder_input = torch.cat([decoder_input, torch.empty(1, 1).type_as(source).fill_(next_word.item()).to(device)], dim=1)\n",
    "\n",
    "            # print the translated word\n",
    "            print(f\"{tokenizer_tgt.decode([next_word.item()])}\", end=' ')\n",
    "\n",
    "            # break if we predict the end of sentence token\n",
    "            if next_word == tokenizer_tgt.token_to_id('[EOS]'):\n",
    "                break\n",
    "\n",
    "    # convert ids to tokens\n",
    "    return tokenizer_tgt.decode(decoder_input[0].tolist())\n",
    "    \n",
    "#read sentence from argument\n",
    "# translate(\"I am not a very good a student.\")\n",
    "translate(34)"
   ]
  },
  {
   "cell_type": "code",
   "execution_count": 31,
   "id": "5b2f9b98-779a-43a2-a3ee-005ce9449a54",
   "metadata": {},
   "outputs": [
    {
     "name": "stdout",
     "output_type": "stream",
     "text": [
      "Deleted opus_books_weights/tmodel_10.pt\n",
      "Deleted opus_books_weights/tmodel_11.pt\n",
      "Deleted opus_books_weights/tmodel_12.pt\n",
      "Deleted opus_books_weights/tmodel_13.pt\n",
      "Deleted opus_books_weights/tmodel_14.pt\n",
      "Deleted opus_books_weights/tmodel_15.pt\n",
      "Deleted opus_books_weights/tmodel_16.pt\n",
      "Deleted opus_books_weights/tmodel_17.pt\n",
      "Deleted opus_books_weights/tmodel_18.pt\n",
      "Deleted opus_books_weights/tmodel_19.pt\n",
      "Deleted opus_books_weights/tmodel_20.pt\n",
      "Deleted opus_books_weights/tmodel_21.pt\n",
      "Deleted opus_books_weights/tmodel_22.pt\n",
      "Deleted opus_books_weights/tmodel_23.pt\n",
      "Deleted opus_books_weights/tmodel_24.pt\n",
      "Deleted opus_books_weights/tmodel_25.pt\n",
      "Deleted opus_books_weights/tmodel_26.pt\n",
      "Deleted opus_books_weights/tmodel_27.pt\n",
      "Deleted opus_books_weights/tmodel_28.pt\n",
      "Deleted opus_books_weights/tmodel_29.pt\n",
      "Deleted opus_books_weights/tmodel_30.pt\n",
      "Deleted opus_books_weights/tmodel_31.pt\n"
     ]
    }
   ],
   "source": [
    "for i in range(10, 32):\n",
    "    delete_file(f'opus_books_weights/tmodel_{i}.pt')"
   ]
  },
  {
   "cell_type": "code",
   "execution_count": null,
   "id": "1c61d491-2e22-4a11-bc20-24a8c77ae416",
   "metadata": {},
   "outputs": [],
   "source": []
  }
 ],
 "metadata": {
  "kernelspec": {
   "display_name": "Python 3 (ipykernel)",
   "language": "python",
   "name": "python3"
  },
  "language_info": {
   "codemirror_mode": {
    "name": "ipython",
    "version": 3
   },
   "file_extension": ".py",
   "mimetype": "text/x-python",
   "name": "python",
   "nbconvert_exporter": "python",
   "pygments_lexer": "ipython3",
   "version": "3.12.3"
  }
 },
 "nbformat": 4,
 "nbformat_minor": 5
}
